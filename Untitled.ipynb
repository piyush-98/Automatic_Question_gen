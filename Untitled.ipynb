{
 "cells": [
  {
   "cell_type": "code",
   "execution_count": 42,
   "metadata": {},
   "outputs": [],
   "source": [
    "import pandas as pd\n",
    "import numpy as np\n",
    "import json\n",
    "import torch\n",
    "from nltk import word_tokenize, pos_tag, ne_chunk\n",
    "from nltk.chunk import conlltags2tree, tree2conlltags\n",
    "import nltk\n",
    "from nltk.tag import StanfordNERTagger"
   ]
  },
  {
   "cell_type": "code",
   "execution_count": 43,
   "metadata": {},
   "outputs": [],
   "source": [
    "import stanfordnlp"
   ]
  },
  {
   "cell_type": "code",
   "execution_count": 20,
   "metadata": {},
   "outputs": [
    {
     "name": "stdout",
     "output_type": "stream",
     "text": [
      "Use device: cpu\n",
      "---\n",
      "Loading: tokenize\n",
      "With settings: \n",
      "{'model_path': 'C:\\\\Users\\\\PIYUSH\\\\stanfordnlp_resources\\\\en_ewt_models\\\\en_ewt_tokenizer.pt', 'lang': 'en', 'shorthand': 'en_ewt', 'mode': 'predict'}\n",
      "---\n",
      "Loading: lemma\n",
      "With settings: \n",
      "{'model_path': 'C:\\\\Users\\\\PIYUSH\\\\stanfordnlp_resources\\\\en_ewt_models\\\\en_ewt_lemmatizer.pt', 'lang': 'en', 'shorthand': 'en_ewt', 'mode': 'predict'}\n",
      "Building an attentional Seq2Seq model...\n",
      "Using a Bi-LSTM encoder\n",
      "Using soft attention for LSTM.\n",
      "Finetune all embeddings.\n",
      "[Running seq2seq lemmatizer with edit classifier]\n",
      "---\n",
      "Loading: pos\n",
      "With settings: \n",
      "{'model_path': 'C:\\\\Users\\\\PIYUSH\\\\stanfordnlp_resources\\\\en_ewt_models\\\\en_ewt_tagger.pt', 'pretrain_path': 'C:\\\\Users\\\\PIYUSH\\\\stanfordnlp_resources\\\\en_ewt_models\\\\en_ewt.pretrain.pt', 'lang': 'en', 'shorthand': 'en_ewt', 'mode': 'predict'}\n",
      "Done loading processors!\n",
      "---\n"
     ]
    }
   ],
   "source": [
    "nlp = stanfordnlp.Pipeline(processors = \"tokenize,mwt,lemma,pos\")"
   ]
  },
  {
   "cell_type": "code",
   "execution_count": 44,
   "metadata": {},
   "outputs": [],
   "source": [
    "data=pd.read_json(r\"C:\\Users\\PIYUSH\\Desktop\\Automatic_Question_gen\\data\\train-v1.1.json\")"
   ]
  },
  {
   "cell_type": "code",
   "execution_count": 45,
   "metadata": {},
   "outputs": [],
   "source": [
    "df = pd.DataFrame(index=np.arange(0, data.shape[0]), columns=('title', 'context', 'que','ans') )"
   ]
  },
  {
   "cell_type": "code",
   "execution_count": 41,
   "metadata": {},
   "outputs": [
    {
     "data": {
      "text/plain": [
       "[('Architecturally', 'RB', 'O'),\n",
       " (',', ',', 'O'),\n",
       " ('the', 'DT', 'O'),\n",
       " ('school', 'NN', 'O'),\n",
       " ('has', 'VBZ', 'O'),\n",
       " ('a', 'DT', 'O'),\n",
       " ('Catholic', 'JJ', 'B-ORGANIZATION'),\n",
       " ('character', 'NN', 'O'),\n",
       " ('.', '.', 'O'),\n",
       " ('Atop', 'VB', 'O'),\n",
       " ('the', 'DT', 'O'),\n",
       " ('Main', 'NNP', 'B-FACILITY'),\n",
       " ('Building', 'NNP', 'I-FACILITY'),\n",
       " (\"'s\", 'POS', 'O'),\n",
       " ('gold', 'NN', 'O'),\n",
       " ('dome', 'NN', 'O'),\n",
       " ('is', 'VBZ', 'O'),\n",
       " ('a', 'DT', 'O'),\n",
       " ('golden', 'JJ', 'O'),\n",
       " ('statue', 'NN', 'O'),\n",
       " ('of', 'IN', 'O'),\n",
       " ('the', 'DT', 'O'),\n",
       " ('Virgin', 'NNP', 'B-ORGANIZATION'),\n",
       " ('Mary', 'NNP', 'I-ORGANIZATION'),\n",
       " ('.', '.', 'O'),\n",
       " ('Immediately', 'RB', 'O'),\n",
       " ('in', 'IN', 'O'),\n",
       " ('front', 'NN', 'O'),\n",
       " ('of', 'IN', 'O'),\n",
       " ('the', 'DT', 'O'),\n",
       " ('Main', 'NNP', 'B-FACILITY'),\n",
       " ('Building', 'NNP', 'I-FACILITY'),\n",
       " ('and', 'CC', 'O'),\n",
       " ('facing', 'VBG', 'O'),\n",
       " ('it', 'PRP', 'O'),\n",
       " (',', ',', 'O'),\n",
       " ('is', 'VBZ', 'O'),\n",
       " ('a', 'DT', 'O'),\n",
       " ('copper', 'NN', 'O'),\n",
       " ('statue', 'NN', 'O'),\n",
       " ('of', 'IN', 'O'),\n",
       " ('Christ', 'NNP', 'B-GPE'),\n",
       " ('with', 'IN', 'O'),\n",
       " ('arms', 'NNS', 'O'),\n",
       " ('upraised', 'VBN', 'O'),\n",
       " ('with', 'IN', 'O'),\n",
       " ('the', 'DT', 'O'),\n",
       " ('legend', 'NN', 'O'),\n",
       " ('``', '``', 'O'),\n",
       " ('Venite', 'NNP', 'B-PERSON'),\n",
       " ('Ad', 'NNP', 'I-PERSON'),\n",
       " ('Me', 'NNP', 'I-PERSON'),\n",
       " ('Omnes', 'NNP', 'I-PERSON'),\n",
       " (\"''\", \"''\", 'O'),\n",
       " ('.', '.', 'O'),\n",
       " ('Next', 'JJ', 'O'),\n",
       " ('to', 'TO', 'O'),\n",
       " ('the', 'DT', 'O'),\n",
       " ('Main', 'NNP', 'B-FACILITY'),\n",
       " ('Building', 'NNP', 'I-FACILITY'),\n",
       " ('is', 'VBZ', 'O'),\n",
       " ('the', 'DT', 'O'),\n",
       " ('Basilica', 'NNP', 'B-ORGANIZATION'),\n",
       " ('of', 'IN', 'O'),\n",
       " ('the', 'DT', 'O'),\n",
       " ('Sacred', 'NNP', 'B-ORGANIZATION'),\n",
       " ('Heart', 'NNP', 'I-ORGANIZATION'),\n",
       " ('.', '.', 'O'),\n",
       " ('Immediately', 'RB', 'O'),\n",
       " ('behind', 'IN', 'O'),\n",
       " ('the', 'DT', 'O'),\n",
       " ('basilica', 'NN', 'O'),\n",
       " ('is', 'VBZ', 'O'),\n",
       " ('the', 'DT', 'O'),\n",
       " ('Grotto', 'NNP', 'B-GPE'),\n",
       " (',', ',', 'O'),\n",
       " ('a', 'DT', 'O'),\n",
       " ('Marian', 'JJ', 'B-GPE'),\n",
       " ('place', 'NN', 'O'),\n",
       " ('of', 'IN', 'O'),\n",
       " ('prayer', 'NN', 'O'),\n",
       " ('and', 'CC', 'O'),\n",
       " ('reflection', 'NN', 'O'),\n",
       " ('.', '.', 'O'),\n",
       " ('It', 'PRP', 'O'),\n",
       " ('is', 'VBZ', 'O'),\n",
       " ('a', 'DT', 'O'),\n",
       " ('replica', 'NN', 'O'),\n",
       " ('of', 'IN', 'O'),\n",
       " ('the', 'DT', 'O'),\n",
       " ('grotto', 'NN', 'O'),\n",
       " ('at', 'IN', 'O'),\n",
       " ('Lourdes', 'NNP', 'B-ORGANIZATION'),\n",
       " (',', ',', 'O'),\n",
       " ('France', 'NNP', 'B-GPE'),\n",
       " ('where', 'WRB', 'O'),\n",
       " ('the', 'DT', 'O'),\n",
       " ('Virgin', 'NNP', 'B-ORGANIZATION'),\n",
       " ('Mary', 'NNP', 'O'),\n",
       " ('reputedly', 'RB', 'O'),\n",
       " ('appeared', 'VBD', 'O'),\n",
       " ('to', 'TO', 'O'),\n",
       " ('Saint', 'NNP', 'B-PERSON'),\n",
       " ('Bernadette', 'NNP', 'I-PERSON'),\n",
       " ('Soubirous', 'NNP', 'I-PERSON'),\n",
       " ('in', 'IN', 'O'),\n",
       " ('1858', 'CD', 'O'),\n",
       " ('.', '.', 'O'),\n",
       " ('At', 'IN', 'O'),\n",
       " ('the', 'DT', 'O'),\n",
       " ('end', 'NN', 'O'),\n",
       " ('of', 'IN', 'O'),\n",
       " ('the', 'DT', 'O'),\n",
       " ('main', 'JJ', 'O'),\n",
       " ('drive', 'NN', 'O'),\n",
       " ('(', '(', 'O'),\n",
       " ('and', 'CC', 'O'),\n",
       " ('in', 'IN', 'O'),\n",
       " ('a', 'DT', 'O'),\n",
       " ('direct', 'JJ', 'O'),\n",
       " ('line', 'NN', 'O'),\n",
       " ('that', 'WDT', 'O'),\n",
       " ('connects', 'VBZ', 'O'),\n",
       " ('through', 'IN', 'O'),\n",
       " ('3', 'CD', 'O'),\n",
       " ('statues', 'NNS', 'O'),\n",
       " ('and', 'CC', 'O'),\n",
       " ('the', 'DT', 'O'),\n",
       " ('Gold', 'NNP', 'B-ORGANIZATION'),\n",
       " ('Dome', 'NNP', 'I-ORGANIZATION'),\n",
       " (')', ')', 'O'),\n",
       " (',', ',', 'O'),\n",
       " ('is', 'VBZ', 'O'),\n",
       " ('a', 'DT', 'O'),\n",
       " ('simple', 'JJ', 'O'),\n",
       " (',', ',', 'O'),\n",
       " ('modern', 'JJ', 'O'),\n",
       " ('stone', 'NN', 'O'),\n",
       " ('statue', 'NN', 'O'),\n",
       " ('of', 'IN', 'O'),\n",
       " ('Mary', 'NNP', 'O'),\n",
       " ('.', '.', 'O')]"
      ]
     },
     "execution_count": 41,
     "metadata": {},
     "output_type": "execute_result"
    }
   ],
   "source": [
    "s=data['data'][0]['paragraphs'][0]['context']\n",
    "s=pos_tag(word_tokenize(s))\n",
    "ne_tree=(ne_chunk(s))\n",
    "iob_tagged = tree2conlltags(ne_tree)\n",
    "iob_tagged"
   ]
  },
  {
   "cell_type": "code",
   "execution_count": 39,
   "metadata": {},
   "outputs": [
    {
     "name": "stdout",
     "output_type": "stream",
     "text": [
      "(S\n",
      "  Architecturally/RB\n",
      "  ,/,\n",
      "  (NP the/DT school/NN)\n",
      "  has/VBZ\n",
      "  (NP a/DT Catholic/JJ character/NN)\n",
      "  ./.\n",
      "  Atop/VB\n",
      "  the/DT\n",
      "  Main/NNP\n",
      "  Building/NNP\n",
      "  's/POS\n",
      "  (NP gold/NN)\n",
      "  (NP dome/NN)\n",
      "  is/VBZ\n",
      "  (NP a/DT golden/JJ statue/NN)\n",
      "  of/IN\n",
      "  the/DT\n",
      "  Virgin/NNP\n",
      "  Mary/NNP\n",
      "  ./.\n",
      "  Immediately/RB\n",
      "  in/IN\n",
      "  (NP front/NN)\n",
      "  of/IN\n",
      "  the/DT\n",
      "  Main/NNP\n",
      "  Building/NNP\n",
      "  and/CC\n",
      "  facing/VBG\n",
      "  it/PRP\n",
      "  ,/,\n",
      "  is/VBZ\n",
      "  (NP a/DT copper/NN)\n",
      "  (NP statue/NN)\n",
      "  of/IN\n",
      "  Christ/NNP\n",
      "  with/IN\n",
      "  arms/NNS\n",
      "  upraised/VBN\n",
      "  with/IN\n",
      "  (NP the/DT legend/NN)\n",
      "  ``/``\n",
      "  Venite/NNP\n",
      "  Ad/NNP\n",
      "  Me/NNP\n",
      "  Omnes/NNP\n",
      "  ''/''\n",
      "  ./.\n",
      "  Next/JJ\n",
      "  to/TO\n",
      "  the/DT\n",
      "  Main/NNP\n",
      "  Building/NNP\n",
      "  is/VBZ\n",
      "  the/DT\n",
      "  Basilica/NNP\n",
      "  of/IN\n",
      "  the/DT\n",
      "  Sacred/NNP\n",
      "  Heart/NNP\n",
      "  ./.\n",
      "  Immediately/RB\n",
      "  behind/IN\n",
      "  (NP the/DT basilica/NN)\n",
      "  is/VBZ\n",
      "  the/DT\n",
      "  Grotto/NNP\n",
      "  ,/,\n",
      "  (NP a/DT Marian/JJ place/NN)\n",
      "  of/IN\n",
      "  (NP prayer/NN)\n",
      "  and/CC\n",
      "  (NP reflection/NN)\n",
      "  ./.\n",
      "  It/PRP\n",
      "  is/VBZ\n",
      "  (NP a/DT replica/NN)\n",
      "  of/IN\n",
      "  (NP the/DT grotto/NN)\n",
      "  at/IN\n",
      "  Lourdes/NNP\n",
      "  ,/,\n",
      "  France/NNP\n",
      "  where/WRB\n",
      "  the/DT\n",
      "  Virgin/NNP\n",
      "  Mary/NNP\n",
      "  reputedly/RB\n",
      "  appeared/VBD\n",
      "  to/TO\n",
      "  Saint/NNP\n",
      "  Bernadette/NNP\n",
      "  Soubirous/NNP\n",
      "  in/IN\n",
      "  1858/CD\n",
      "  ./.\n",
      "  At/IN\n",
      "  (NP the/DT end/NN)\n",
      "  of/IN\n",
      "  (NP the/DT main/JJ drive/NN)\n",
      "  (/(\n",
      "  and/CC\n",
      "  in/IN\n",
      "  (NP a/DT direct/JJ line/NN)\n",
      "  that/WDT\n",
      "  connects/VBZ\n",
      "  through/IN\n",
      "  3/CD\n",
      "  statues/NNS\n",
      "  and/CC\n",
      "  the/DT\n",
      "  Gold/NNP\n",
      "  Dome/NNP\n",
      "  )/)\n",
      "  ,/,\n",
      "  is/VBZ\n",
      "  a/DT\n",
      "  simple/JJ\n",
      "  ,/,\n",
      "  (NP modern/JJ stone/NN)\n",
      "  (NP statue/NN)\n",
      "  of/IN\n",
      "  Mary/NNP\n",
      "  ./.)\n"
     ]
    }
   ],
   "source": [
    "pattern = 'NP: {<DT>?<JJ>*<NN>}'\n",
    "cp = nltk.RegexpParser(pattern)\n",
    "print(cp.parse(s))"
   ]
  },
  {
   "cell_type": "code",
   "execution_count": 48,
   "metadata": {},
   "outputs": [],
   "source": [
    "stanford_ner_tagger = StanfordNERTagger(\n",
    "    r\"C:\\Users\\PIYUSH\\stanford_ner\\classifiers\\english.muc.7class.distsim.crf.ser.gz\",\n",
    "    r'C:\\Users\\PIYUSH\\stanford_ner\\stanford-ner-3.9.2.jar'\n",
    ")"
   ]
  },
  {
   "cell_type": "code",
   "execution_count": 58,
   "metadata": {},
   "outputs": [],
   "source": [
    "import spacy\n",
    "s=data['data'][0]['paragraphs'][0]['context']"
   ]
  },
  {
   "cell_type": "code",
   "execution_count": 61,
   "metadata": {},
   "outputs": [
    {
     "data": {
      "text/plain": [
       "Architecturally, the school has a Catholic character. Atop the Main Building's gold dome is a golden statue of the Virgin Mary. Immediately in front of the Main Building and facing it, is a copper statue of Christ with arms upraised with the legend \"Venite Ad Me Omnes\". Next to the Main Building is the Basilica of the Sacred Heart. Immediately behind the basilica is the Grotto, a Marian place of prayer and reflection. It is a replica of the grotto at Lourdes, France where the Virgin Mary reputedly appeared to Saint Bernadette Soubirous in 1858. At the end of the main drive (and in a direct line that connects through 3 statues and the Gold Dome), is a simple, modern stone statue of Mary."
      ]
     },
     "execution_count": 61,
     "metadata": {},
     "output_type": "execute_result"
    }
   ],
   "source": [
    "spacy_nlp = spacy.load('en_core_web_sm')\n",
    "document = spacy_nlp(s)\n",
    "document"
   ]
  },
  {
   "cell_type": "code",
   "execution_count": 64,
   "metadata": {},
   "outputs": [
    {
     "name": "stdout",
     "output_type": "stream",
     "text": [
      "Type: NORP, Value: Catholic\n",
      "Type: FAC, Value: the Main Building's\n",
      "Type: PERSON, Value: the Virgin Mary\n",
      "Type: FAC, Value: the Main Building\n",
      "Type: NORP, Value: Christ\n",
      "Type: FAC, Value: the Main Building\n",
      "Type: LOC, Value: the Basilica of the Sacred Heart\n",
      "Type: PERSON, Value: Grotto\n",
      "Type: NORP, Value: Marian\n",
      "Type: GPE, Value: Lourdes\n",
      "Type: GPE, Value: France\n",
      "Type: PERSON, Value: the Virgin Mary\n",
      "Type: PERSON, Value: Saint Bernadette Soubirous\n",
      "Type: DATE, Value: 1858\n",
      "Type: CARDINAL, Value: 3\n",
      "Type: PERSON, Value: Mary\n"
     ]
    }
   ],
   "source": [
    "for element in document.ents:\n",
    "    print('Type: %s, Value: %s' % (element.label_, element))"
   ]
  },
  {
   "cell_type": "code",
   "execution_count": 66,
   "metadata": {},
   "outputs": [
    {
     "name": "stdout",
     "output_type": "stream",
     "text": [
      "[(Architecturally, 'O', ''), (,, 'O', ''), (the, 'O', ''), (school, 'O', ''), (has, 'O', ''), (a, 'O', ''), (Catholic, 'B', 'NORP'), (character, 'O', ''), (., 'O', ''), (Atop, 'O', ''), (the, 'B', 'FAC'), (Main, 'I', 'FAC'), (Building, 'I', 'FAC'), ('s, 'I', 'FAC'), (gold, 'O', ''), (dome, 'O', ''), (is, 'O', ''), (a, 'O', ''), (golden, 'O', ''), (statue, 'O', ''), (of, 'O', ''), (the, 'B', 'PERSON'), (Virgin, 'I', 'PERSON'), (Mary, 'I', 'PERSON'), (., 'O', ''), (Immediately, 'O', ''), (in, 'O', ''), (front, 'O', ''), (of, 'O', ''), (the, 'B', 'FAC'), (Main, 'I', 'FAC'), (Building, 'I', 'FAC'), (and, 'O', ''), (facing, 'O', ''), (it, 'O', ''), (,, 'O', ''), (is, 'O', ''), (a, 'O', ''), (copper, 'O', ''), (statue, 'O', ''), (of, 'O', ''), (Christ, 'B', 'NORP'), (with, 'O', ''), (arms, 'O', ''), (upraised, 'O', ''), (with, 'O', ''), (the, 'O', ''), (legend, 'O', ''), (\", 'O', ''), (Venite, 'O', ''), (Ad, 'O', ''), (Me, 'O', ''), (Omnes, 'O', ''), (\", 'O', ''), (., 'O', ''), (Next, 'O', ''), (to, 'O', ''), (the, 'B', 'FAC'), (Main, 'I', 'FAC'), (Building, 'I', 'FAC'), (is, 'O', ''), (the, 'B', 'LOC'), (Basilica, 'I', 'LOC'), (of, 'I', 'LOC'), (the, 'I', 'LOC'), (Sacred, 'I', 'LOC'), (Heart, 'I', 'LOC'), (., 'O', ''), (Immediately, 'O', ''), (behind, 'O', ''), (the, 'O', ''), (basilica, 'O', ''), (is, 'O', ''), (the, 'O', ''), (Grotto, 'B', 'PERSON'), (,, 'O', ''), (a, 'O', ''), (Marian, 'B', 'NORP'), (place, 'O', ''), (of, 'O', ''), (prayer, 'O', ''), (and, 'O', ''), (reflection, 'O', ''), (., 'O', ''), (It, 'O', ''), (is, 'O', ''), (a, 'O', ''), (replica, 'O', ''), (of, 'O', ''), (the, 'O', ''), (grotto, 'O', ''), (at, 'O', ''), (Lourdes, 'B', 'GPE'), (,, 'O', ''), (France, 'B', 'GPE'), (where, 'O', ''), (the, 'B', 'PERSON'), (Virgin, 'I', 'PERSON'), (Mary, 'I', 'PERSON'), (reputedly, 'O', ''), (appeared, 'O', ''), (to, 'O', ''), (Saint, 'B', 'PERSON'), (Bernadette, 'I', 'PERSON'), (Soubirous, 'I', 'PERSON'), (in, 'O', ''), (1858, 'B', 'DATE'), (., 'O', ''), (At, 'O', ''), (the, 'O', ''), (end, 'O', ''), (of, 'O', ''), (the, 'O', ''), (main, 'O', ''), (drive, 'O', ''), ((, 'O', ''), (and, 'O', ''), (in, 'O', ''), (a, 'O', ''), (direct, 'O', ''), (line, 'O', ''), (that, 'O', ''), (connects, 'O', ''), (through, 'O', ''), (3, 'B', 'CARDINAL'), (statues, 'O', ''), (and, 'O', ''), (the, 'O', ''), (Gold, 'O', ''), (Dome, 'O', ''), (), 'O', ''), (,, 'O', ''), (is, 'O', ''), (a, 'O', ''), (simple, 'O', ''), (,, 'O', ''), (modern, 'O', ''), (stone, 'O', ''), (statue, 'O', ''), (of, 'O', ''), (Mary, 'B', 'PERSON'), (., 'O', '')]\n"
     ]
    }
   ],
   "source": [
    "print([(X, X.ent_iob_, X.ent_type_) for X in document])"
   ]
  },
  {
   "cell_type": "code",
   "execution_count": null,
   "metadata": {},
   "outputs": [],
   "source": []
  },
  {
   "cell_type": "code",
   "execution_count": null,
   "metadata": {},
   "outputs": [],
   "source": []
  },
  {
   "cell_type": "code",
   "execution_count": null,
   "metadata": {},
   "outputs": [],
   "source": []
  }
 ],
 "metadata": {
  "kernelspec": {
   "display_name": "Python 3",
   "language": "python",
   "name": "python3"
  },
  "language_info": {
   "codemirror_mode": {
    "name": "ipython",
    "version": 3
   },
   "file_extension": ".py",
   "mimetype": "text/x-python",
   "name": "python",
   "nbconvert_exporter": "python",
   "pygments_lexer": "ipython3",
   "version": "3.6.6"
  }
 },
 "nbformat": 4,
 "nbformat_minor": 2
}
