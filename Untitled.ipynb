{
 "cells": [
  {
   "cell_type": "code",
   "execution_count": 2,
   "metadata": {},
   "outputs": [],
   "source": [
    "import pandas as pd\n",
    "import numpy as np\n",
    "import json\n",
    "import torch\n",
    "from nltk import word_tokenize, pos_tag, ne_chunk\n",
    "from nltk.chunk import conlltags2tree, tree2conlltags\n",
    "from nltk.tag import StanfordNERTagger\n",
    "import nltk\n",
    "from nltk.tokenize import word_tokenize\n",
    "from nltk.tokenize import sent_tokenize\n",
    "from nltk.corpus import stopwords\n",
    "from nltk.stem import WordNetLemmatizer\n",
    "from nltk.stem import PorterStemmer\n",
    "from collections import Counter\n",
    "from nltk.corpus import stopwords\n",
    "stop_words=set(stopwords.words('english'))\n",
    "lemm = WordNetLemmatizer()\n",
    "import numpy as np\n",
    "from collections import Counter\n",
    "lines=100000\n",
    "from nltk.corpus import stopwords\n",
    "stop = set(stopwords.words('english'))\n",
    "import gensim \n",
    "from gensim.models import Word2Vec"
   ]
  },
  {
   "cell_type": "code",
   "execution_count": 2,
   "metadata": {},
   "outputs": [],
   "source": [
    "import stanfordnlp"
   ]
  },
  {
   "cell_type": "code",
   "execution_count": 3,
   "metadata": {},
   "outputs": [
    {
     "name": "stdout",
     "output_type": "stream",
     "text": [
      "Use device: cpu\n",
      "---\n",
      "Loading: tokenize\n",
      "With settings: \n",
      "{'model_path': 'C:\\\\Users\\\\PIYUSH\\\\stanfordnlp_resources\\\\en_ewt_models\\\\en_ewt_tokenizer.pt', 'lang': 'en', 'shorthand': 'en_ewt', 'mode': 'predict'}\n",
      "---\n",
      "Loading: lemma\n",
      "With settings: \n",
      "{'model_path': 'C:\\\\Users\\\\PIYUSH\\\\stanfordnlp_resources\\\\en_ewt_models\\\\en_ewt_lemmatizer.pt', 'lang': 'en', 'shorthand': 'en_ewt', 'mode': 'predict'}\n",
      "Building an attentional Seq2Seq model...\n",
      "Using a Bi-LSTM encoder\n",
      "Using soft attention for LSTM.\n",
      "Finetune all embeddings.\n",
      "[Running seq2seq lemmatizer with edit classifier]\n",
      "---\n",
      "Loading: pos\n",
      "With settings: \n",
      "{'model_path': 'C:\\\\Users\\\\PIYUSH\\\\stanfordnlp_resources\\\\en_ewt_models\\\\en_ewt_tagger.pt', 'pretrain_path': 'C:\\\\Users\\\\PIYUSH\\\\stanfordnlp_resources\\\\en_ewt_models\\\\en_ewt.pretrain.pt', 'lang': 'en', 'shorthand': 'en_ewt', 'mode': 'predict'}\n",
      "Done loading processors!\n",
      "---\n"
     ]
    }
   ],
   "source": [
    "nlp = stanfordnlp.Pipeline(processors = \"tokenize,mwt,lemma,pos\")"
   ]
  },
  {
   "cell_type": "code",
   "execution_count": 4,
   "metadata": {},
   "outputs": [],
   "source": [
    "data=pd.read_json(r\"C:\\Users\\PIYUSH\\Desktop\\Automatic_Question_gen\\data\\train-v1.1.json\")"
   ]
  },
  {
   "cell_type": "code",
   "execution_count": 5,
   "metadata": {},
   "outputs": [],
   "source": [
    "df = pd.DataFrame()"
   ]
  },
  {
   "cell_type": "code",
   "execution_count": 6,
   "metadata": {},
   "outputs": [
    {
     "data": {
      "text/plain": [
       "[('Architecturally', 'RB', 'O'),\n",
       " (',', ',', 'O'),\n",
       " ('the', 'DT', 'O'),\n",
       " ('school', 'NN', 'O'),\n",
       " ('has', 'VBZ', 'O'),\n",
       " ('a', 'DT', 'O'),\n",
       " ('Catholic', 'JJ', 'B-ORGANIZATION'),\n",
       " ('character', 'NN', 'O'),\n",
       " ('.', '.', 'O'),\n",
       " ('Atop', 'VB', 'O'),\n",
       " ('the', 'DT', 'O'),\n",
       " ('Main', 'NNP', 'B-FACILITY'),\n",
       " ('Building', 'NNP', 'I-FACILITY'),\n",
       " (\"'s\", 'POS', 'O'),\n",
       " ('gold', 'NN', 'O'),\n",
       " ('dome', 'NN', 'O'),\n",
       " ('is', 'VBZ', 'O'),\n",
       " ('a', 'DT', 'O'),\n",
       " ('golden', 'JJ', 'O'),\n",
       " ('statue', 'NN', 'O'),\n",
       " ('of', 'IN', 'O'),\n",
       " ('the', 'DT', 'O'),\n",
       " ('Virgin', 'NNP', 'B-ORGANIZATION'),\n",
       " ('Mary', 'NNP', 'I-ORGANIZATION'),\n",
       " ('.', '.', 'O'),\n",
       " ('Immediately', 'RB', 'O'),\n",
       " ('in', 'IN', 'O'),\n",
       " ('front', 'NN', 'O'),\n",
       " ('of', 'IN', 'O'),\n",
       " ('the', 'DT', 'O'),\n",
       " ('Main', 'NNP', 'B-FACILITY'),\n",
       " ('Building', 'NNP', 'I-FACILITY'),\n",
       " ('and', 'CC', 'O'),\n",
       " ('facing', 'VBG', 'O'),\n",
       " ('it', 'PRP', 'O'),\n",
       " (',', ',', 'O'),\n",
       " ('is', 'VBZ', 'O'),\n",
       " ('a', 'DT', 'O'),\n",
       " ('copper', 'NN', 'O'),\n",
       " ('statue', 'NN', 'O'),\n",
       " ('of', 'IN', 'O'),\n",
       " ('Christ', 'NNP', 'B-GPE'),\n",
       " ('with', 'IN', 'O'),\n",
       " ('arms', 'NNS', 'O'),\n",
       " ('upraised', 'VBN', 'O'),\n",
       " ('with', 'IN', 'O'),\n",
       " ('the', 'DT', 'O'),\n",
       " ('legend', 'NN', 'O'),\n",
       " ('``', '``', 'O'),\n",
       " ('Venite', 'NNP', 'B-PERSON'),\n",
       " ('Ad', 'NNP', 'I-PERSON'),\n",
       " ('Me', 'NNP', 'I-PERSON'),\n",
       " ('Omnes', 'NNP', 'I-PERSON'),\n",
       " (\"''\", \"''\", 'O'),\n",
       " ('.', '.', 'O'),\n",
       " ('Next', 'JJ', 'O'),\n",
       " ('to', 'TO', 'O'),\n",
       " ('the', 'DT', 'O'),\n",
       " ('Main', 'NNP', 'B-FACILITY'),\n",
       " ('Building', 'NNP', 'I-FACILITY'),\n",
       " ('is', 'VBZ', 'O'),\n",
       " ('the', 'DT', 'O'),\n",
       " ('Basilica', 'NNP', 'B-ORGANIZATION'),\n",
       " ('of', 'IN', 'O'),\n",
       " ('the', 'DT', 'O'),\n",
       " ('Sacred', 'NNP', 'B-ORGANIZATION'),\n",
       " ('Heart', 'NNP', 'I-ORGANIZATION'),\n",
       " ('.', '.', 'O'),\n",
       " ('Immediately', 'RB', 'O'),\n",
       " ('behind', 'IN', 'O'),\n",
       " ('the', 'DT', 'O'),\n",
       " ('basilica', 'NN', 'O'),\n",
       " ('is', 'VBZ', 'O'),\n",
       " ('the', 'DT', 'O'),\n",
       " ('Grotto', 'NNP', 'B-GPE'),\n",
       " (',', ',', 'O'),\n",
       " ('a', 'DT', 'O'),\n",
       " ('Marian', 'JJ', 'B-GPE'),\n",
       " ('place', 'NN', 'O'),\n",
       " ('of', 'IN', 'O'),\n",
       " ('prayer', 'NN', 'O'),\n",
       " ('and', 'CC', 'O'),\n",
       " ('reflection', 'NN', 'O'),\n",
       " ('.', '.', 'O'),\n",
       " ('It', 'PRP', 'O'),\n",
       " ('is', 'VBZ', 'O'),\n",
       " ('a', 'DT', 'O'),\n",
       " ('replica', 'NN', 'O'),\n",
       " ('of', 'IN', 'O'),\n",
       " ('the', 'DT', 'O'),\n",
       " ('grotto', 'NN', 'O'),\n",
       " ('at', 'IN', 'O'),\n",
       " ('Lourdes', 'NNP', 'B-ORGANIZATION'),\n",
       " (',', ',', 'O'),\n",
       " ('France', 'NNP', 'B-GPE'),\n",
       " ('where', 'WRB', 'O'),\n",
       " ('the', 'DT', 'O'),\n",
       " ('Virgin', 'NNP', 'B-ORGANIZATION'),\n",
       " ('Mary', 'NNP', 'O'),\n",
       " ('reputedly', 'RB', 'O'),\n",
       " ('appeared', 'VBD', 'O'),\n",
       " ('to', 'TO', 'O'),\n",
       " ('Saint', 'NNP', 'B-PERSON'),\n",
       " ('Bernadette', 'NNP', 'I-PERSON'),\n",
       " ('Soubirous', 'NNP', 'I-PERSON'),\n",
       " ('in', 'IN', 'O'),\n",
       " ('1858', 'CD', 'O'),\n",
       " ('.', '.', 'O'),\n",
       " ('At', 'IN', 'O'),\n",
       " ('the', 'DT', 'O'),\n",
       " ('end', 'NN', 'O'),\n",
       " ('of', 'IN', 'O'),\n",
       " ('the', 'DT', 'O'),\n",
       " ('main', 'JJ', 'O'),\n",
       " ('drive', 'NN', 'O'),\n",
       " ('(', '(', 'O'),\n",
       " ('and', 'CC', 'O'),\n",
       " ('in', 'IN', 'O'),\n",
       " ('a', 'DT', 'O'),\n",
       " ('direct', 'JJ', 'O'),\n",
       " ('line', 'NN', 'O'),\n",
       " ('that', 'WDT', 'O'),\n",
       " ('connects', 'VBZ', 'O'),\n",
       " ('through', 'IN', 'O'),\n",
       " ('3', 'CD', 'O'),\n",
       " ('statues', 'NNS', 'O'),\n",
       " ('and', 'CC', 'O'),\n",
       " ('the', 'DT', 'O'),\n",
       " ('Gold', 'NNP', 'B-ORGANIZATION'),\n",
       " ('Dome', 'NNP', 'I-ORGANIZATION'),\n",
       " (')', ')', 'O'),\n",
       " (',', ',', 'O'),\n",
       " ('is', 'VBZ', 'O'),\n",
       " ('a', 'DT', 'O'),\n",
       " ('simple', 'JJ', 'O'),\n",
       " (',', ',', 'O'),\n",
       " ('modern', 'JJ', 'O'),\n",
       " ('stone', 'NN', 'O'),\n",
       " ('statue', 'NN', 'O'),\n",
       " ('of', 'IN', 'O'),\n",
       " ('Mary', 'NNP', 'O'),\n",
       " ('.', '.', 'O')]"
      ]
     },
     "execution_count": 6,
     "metadata": {},
     "output_type": "execute_result"
    }
   ],
   "source": [
    "s=data['data'][0]['paragraphs'][0]['context']\n",
    "s=pos_tag(word_tokenize(s))\n",
    "ne_tree=(ne_chunk(s))\n",
    "iob_tagged = tree2conlltags(ne_tree)\n",
    "iob_tagged"
   ]
  },
  {
   "cell_type": "code",
   "execution_count": 7,
   "metadata": {},
   "outputs": [
    {
     "name": "stdout",
     "output_type": "stream",
     "text": [
      "(S\n",
      "  Architecturally/RB\n",
      "  ,/,\n",
      "  (NP the/DT school/NN)\n",
      "  has/VBZ\n",
      "  (NP a/DT Catholic/JJ character/NN)\n",
      "  ./.\n",
      "  Atop/VB\n",
      "  the/DT\n",
      "  Main/NNP\n",
      "  Building/NNP\n",
      "  's/POS\n",
      "  (NP gold/NN)\n",
      "  (NP dome/NN)\n",
      "  is/VBZ\n",
      "  (NP a/DT golden/JJ statue/NN)\n",
      "  of/IN\n",
      "  the/DT\n",
      "  Virgin/NNP\n",
      "  Mary/NNP\n",
      "  ./.\n",
      "  Immediately/RB\n",
      "  in/IN\n",
      "  (NP front/NN)\n",
      "  of/IN\n",
      "  the/DT\n",
      "  Main/NNP\n",
      "  Building/NNP\n",
      "  and/CC\n",
      "  facing/VBG\n",
      "  it/PRP\n",
      "  ,/,\n",
      "  is/VBZ\n",
      "  (NP a/DT copper/NN)\n",
      "  (NP statue/NN)\n",
      "  of/IN\n",
      "  Christ/NNP\n",
      "  with/IN\n",
      "  arms/NNS\n",
      "  upraised/VBN\n",
      "  with/IN\n",
      "  (NP the/DT legend/NN)\n",
      "  ``/``\n",
      "  Venite/NNP\n",
      "  Ad/NNP\n",
      "  Me/NNP\n",
      "  Omnes/NNP\n",
      "  ''/''\n",
      "  ./.\n",
      "  Next/JJ\n",
      "  to/TO\n",
      "  the/DT\n",
      "  Main/NNP\n",
      "  Building/NNP\n",
      "  is/VBZ\n",
      "  the/DT\n",
      "  Basilica/NNP\n",
      "  of/IN\n",
      "  the/DT\n",
      "  Sacred/NNP\n",
      "  Heart/NNP\n",
      "  ./.\n",
      "  Immediately/RB\n",
      "  behind/IN\n",
      "  (NP the/DT basilica/NN)\n",
      "  is/VBZ\n",
      "  the/DT\n",
      "  Grotto/NNP\n",
      "  ,/,\n",
      "  (NP a/DT Marian/JJ place/NN)\n",
      "  of/IN\n",
      "  (NP prayer/NN)\n",
      "  and/CC\n",
      "  (NP reflection/NN)\n",
      "  ./.\n",
      "  It/PRP\n",
      "  is/VBZ\n",
      "  (NP a/DT replica/NN)\n",
      "  of/IN\n",
      "  (NP the/DT grotto/NN)\n",
      "  at/IN\n",
      "  Lourdes/NNP\n",
      "  ,/,\n",
      "  France/NNP\n",
      "  where/WRB\n",
      "  the/DT\n",
      "  Virgin/NNP\n",
      "  Mary/NNP\n",
      "  reputedly/RB\n",
      "  appeared/VBD\n",
      "  to/TO\n",
      "  Saint/NNP\n",
      "  Bernadette/NNP\n",
      "  Soubirous/NNP\n",
      "  in/IN\n",
      "  1858/CD\n",
      "  ./.\n",
      "  At/IN\n",
      "  (NP the/DT end/NN)\n",
      "  of/IN\n",
      "  (NP the/DT main/JJ drive/NN)\n",
      "  (/(\n",
      "  and/CC\n",
      "  in/IN\n",
      "  (NP a/DT direct/JJ line/NN)\n",
      "  that/WDT\n",
      "  connects/VBZ\n",
      "  through/IN\n",
      "  3/CD\n",
      "  statues/NNS\n",
      "  and/CC\n",
      "  the/DT\n",
      "  Gold/NNP\n",
      "  Dome/NNP\n",
      "  )/)\n",
      "  ,/,\n",
      "  is/VBZ\n",
      "  a/DT\n",
      "  simple/JJ\n",
      "  ,/,\n",
      "  (NP modern/JJ stone/NN)\n",
      "  (NP statue/NN)\n",
      "  of/IN\n",
      "  Mary/NNP\n",
      "  ./.)\n"
     ]
    }
   ],
   "source": [
    "pattern = 'NP: {<DT>?<JJ>*<NN>}'\n",
    "cp = nltk.RegexpParser(pattern)\n",
    "print(cp.parse(s))"
   ]
  },
  {
   "cell_type": "code",
   "execution_count": 8,
   "metadata": {},
   "outputs": [],
   "source": [
    "import spacy\n",
    "s=data['data'][0]['paragraphs'][2]['context']"
   ]
  },
  {
   "cell_type": "code",
   "execution_count": 9,
   "metadata": {},
   "outputs": [
    {
     "data": {
      "text/plain": [
       "The university is the major seat of the Congregation of Holy Cross (albeit not its official headquarters, which are in Rome). Its main seminary, Moreau Seminary, is located on the campus across St. Joseph lake from the Main Building. Old College, the oldest building on campus and located near the shore of St. Mary lake, houses undergraduate seminarians. Retired priests and brothers reside in Fatima House (a former retreat center), Holy Cross House, as well as Columba Hall near the Grotto. The university through the Moreau Seminary has ties to theologian Frederick Buechner. While not Catholic, Buechner has praised writers from Notre Dame and Moreau Seminary created a Buechner Prize for Preaching."
      ]
     },
     "execution_count": 9,
     "metadata": {},
     "output_type": "execute_result"
    }
   ],
   "source": [
    "spacy_nlp = spacy.load('en_core_web_sm')\n",
    "document = spacy_nlp(s)\n",
    "document"
   ]
  },
  {
   "cell_type": "code",
   "execution_count": 10,
   "metadata": {
    "scrolled": true
   },
   "outputs": [
    {
     "name": "stdout",
     "output_type": "stream",
     "text": [
      "Value: the Congregation of Holy Cross\n",
      "Value: Rome\n",
      "Value: Moreau Seminary\n",
      "Value: St. Joseph\n",
      "Value: the Main Building\n",
      "Value: Old College\n",
      "Value: St. Mary\n",
      "Value: Fatima House\n",
      "Value: Holy Cross House\n",
      "Value: Columba Hall\n",
      "Value: Grotto\n",
      "Value: Frederick Buechner\n",
      "Value: Catholic\n",
      "Value: Buechner\n",
      "Value: Notre Dame\n",
      "Value: Moreau Seminary\n"
     ]
    }
   ],
   "source": [
    "for element in document.ents:\n",
    "    print('Value: %s' % (element))"
   ]
  },
  {
   "cell_type": "code",
   "execution_count": 13,
   "metadata": {},
   "outputs": [],
   "source": [
    "ls=[]\n",
    "ls2=[]\n",
    "for i in data[\"data\"]:\n",
    "    for j in i[\"paragraphs\"]:\n",
    "        ls.append(j[\"context\"])\n",
    "        ls2.append(i[\"title\"])"
   ]
  },
  {
   "cell_type": "code",
   "execution_count": 24,
   "metadata": {},
   "outputs": [],
   "source": [
    "ls4=[]\n",
    "ls3=[]\n",
    "for i in data[\"data\"]:\n",
    "    for j in i[\"paragraphs\"]:\n",
    "        #print(\"*****************************\")\n",
    "        for k in j['qas']:\n",
    "            for l in k['answers']:\n",
    "                ls3.append(l[\"text\"])\n",
    "            #print(ls3)\n",
    "        ls4.append(ls3)\n",
    "        ls3=[]"
   ]
  },
  {
   "cell_type": "code",
   "execution_count": 29,
   "metadata": {},
   "outputs": [],
   "source": [
    "df[\"context\"]=ls"
   ]
  },
  {
   "cell_type": "code",
   "execution_count": 30,
   "metadata": {},
   "outputs": [],
   "source": [
    "df[\"title\"]=ls2"
   ]
  },
  {
   "cell_type": "code",
   "execution_count": 33,
   "metadata": {},
   "outputs": [],
   "source": [
    "df['ans']=ls4"
   ]
  },
  {
   "cell_type": "code",
   "execution_count": 42,
   "metadata": {},
   "outputs": [
    {
     "data": {
      "text/html": [
       "<div>\n",
       "<style scoped>\n",
       "    .dataframe tbody tr th:only-of-type {\n",
       "        vertical-align: middle;\n",
       "    }\n",
       "\n",
       "    .dataframe tbody tr th {\n",
       "        vertical-align: top;\n",
       "    }\n",
       "\n",
       "    .dataframe thead th {\n",
       "        text-align: right;\n",
       "    }\n",
       "</style>\n",
       "<table border=\"1\" class=\"dataframe\">\n",
       "  <thead>\n",
       "    <tr style=\"text-align: right;\">\n",
       "      <th></th>\n",
       "      <th>context</th>\n",
       "      <th>title</th>\n",
       "      <th>ans</th>\n",
       "    </tr>\n",
       "  </thead>\n",
       "  <tbody>\n",
       "    <tr>\n",
       "      <th>0</th>\n",
       "      <td>Architecturally, the school has a Catholic cha...</td>\n",
       "      <td>University_of_Notre_Dame</td>\n",
       "      <td>[Saint Bernadette Soubirous, a copper statue o...</td>\n",
       "    </tr>\n",
       "    <tr>\n",
       "      <th>1</th>\n",
       "      <td>As at most other universities, Notre Dame's st...</td>\n",
       "      <td>University_of_Notre_Dame</td>\n",
       "      <td>[September 1876, twice, The Observer, three, 1...</td>\n",
       "    </tr>\n",
       "    <tr>\n",
       "      <th>2</th>\n",
       "      <td>The university is the major seat of the Congre...</td>\n",
       "      <td>University_of_Notre_Dame</td>\n",
       "      <td>[Rome, Moreau Seminary, Old College, Retired p...</td>\n",
       "    </tr>\n",
       "    <tr>\n",
       "      <th>3</th>\n",
       "      <td>The College of Engineering was established in ...</td>\n",
       "      <td>University_of_Notre_Dame</td>\n",
       "      <td>[eight, 1920, the College of Science, five, th...</td>\n",
       "    </tr>\n",
       "    <tr>\n",
       "      <th>4</th>\n",
       "      <td>All of Notre Dame's undergraduate students are...</td>\n",
       "      <td>University_of_Notre_Dame</td>\n",
       "      <td>[Learning Resource Center, five, The First Yea...</td>\n",
       "    </tr>\n",
       "  </tbody>\n",
       "</table>\n",
       "</div>"
      ],
      "text/plain": [
       "                                             context  \\\n",
       "0  Architecturally, the school has a Catholic cha...   \n",
       "1  As at most other universities, Notre Dame's st...   \n",
       "2  The university is the major seat of the Congre...   \n",
       "3  The College of Engineering was established in ...   \n",
       "4  All of Notre Dame's undergraduate students are...   \n",
       "\n",
       "                      title                                                ans  \n",
       "0  University_of_Notre_Dame  [Saint Bernadette Soubirous, a copper statue o...  \n",
       "1  University_of_Notre_Dame  [September 1876, twice, The Observer, three, 1...  \n",
       "2  University_of_Notre_Dame  [Rome, Moreau Seminary, Old College, Retired p...  \n",
       "3  University_of_Notre_Dame  [eight, 1920, the College of Science, five, th...  \n",
       "4  University_of_Notre_Dame  [Learning Resource Center, five, The First Yea...  "
      ]
     },
     "execution_count": 42,
     "metadata": {},
     "output_type": "execute_result"
    }
   ],
   "source": [
    "df.head()"
   ]
  },
  {
   "cell_type": "code",
   "execution_count": 89,
   "metadata": {},
   "outputs": [],
   "source": [
    "ls=[]\n",
    "ls1=[]\n",
    "for i in df['context']:\n",
    "    document = spacy_nlp(i)\n",
    "    for element in document.ents:\n",
    "        ls.append(str(element))\n",
    "    ls1.append(ls)\n",
    "    ls=[]    "
   ]
  },
  {
   "cell_type": "code",
   "execution_count": 92,
   "metadata": {},
   "outputs": [],
   "source": [
    "df[\"entity\"]=ls1"
   ]
  },
  {
   "cell_type": "code",
   "execution_count": 94,
   "metadata": {},
   "outputs": [
    {
     "data": {
      "text/html": [
       "<div>\n",
       "<style scoped>\n",
       "    .dataframe tbody tr th:only-of-type {\n",
       "        vertical-align: middle;\n",
       "    }\n",
       "\n",
       "    .dataframe tbody tr th {\n",
       "        vertical-align: top;\n",
       "    }\n",
       "\n",
       "    .dataframe thead th {\n",
       "        text-align: right;\n",
       "    }\n",
       "</style>\n",
       "<table border=\"1\" class=\"dataframe\">\n",
       "  <thead>\n",
       "    <tr style=\"text-align: right;\">\n",
       "      <th></th>\n",
       "      <th>context</th>\n",
       "      <th>title</th>\n",
       "      <th>ans</th>\n",
       "      <th>entity</th>\n",
       "    </tr>\n",
       "  </thead>\n",
       "  <tbody>\n",
       "    <tr>\n",
       "      <th>0</th>\n",
       "      <td>Architecturally, the school has a Catholic cha...</td>\n",
       "      <td>University_of_Notre_Dame</td>\n",
       "      <td>[Saint Bernadette Soubirous, a copper statue o...</td>\n",
       "      <td>[Catholic, the Main Building's, the Virgin Mar...</td>\n",
       "    </tr>\n",
       "    <tr>\n",
       "      <th>1</th>\n",
       "      <td>As at most other universities, Notre Dame's st...</td>\n",
       "      <td>University_of_Notre_Dame</td>\n",
       "      <td>[September 1876, twice, The Observer, three, 1...</td>\n",
       "      <td>[Notre Dame's, nine, three, Begun, one, Septem...</td>\n",
       "    </tr>\n",
       "    <tr>\n",
       "      <th>2</th>\n",
       "      <td>The university is the major seat of the Congre...</td>\n",
       "      <td>University_of_Notre_Dame</td>\n",
       "      <td>[Rome, Moreau Seminary, Old College, Retired p...</td>\n",
       "      <td>[the Congregation of Holy Cross, Rome, Moreau ...</td>\n",
       "    </tr>\n",
       "    <tr>\n",
       "      <th>3</th>\n",
       "      <td>The College of Engineering was established in ...</td>\n",
       "      <td>University_of_Notre_Dame</td>\n",
       "      <td>[eight, 1920, the College of Science, five, th...</td>\n",
       "      <td>[The College of Engineering, 1920, the College...</td>\n",
       "    </tr>\n",
       "    <tr>\n",
       "      <th>4</th>\n",
       "      <td>All of Notre Dame's undergraduate students are...</td>\n",
       "      <td>University_of_Notre_Dame</td>\n",
       "      <td>[Learning Resource Center, five, The First Yea...</td>\n",
       "      <td>[Notre Dame's, one, five, the First Year of St...</td>\n",
       "    </tr>\n",
       "  </tbody>\n",
       "</table>\n",
       "</div>"
      ],
      "text/plain": [
       "                                             context  \\\n",
       "0  Architecturally, the school has a Catholic cha...   \n",
       "1  As at most other universities, Notre Dame's st...   \n",
       "2  The university is the major seat of the Congre...   \n",
       "3  The College of Engineering was established in ...   \n",
       "4  All of Notre Dame's undergraduate students are...   \n",
       "\n",
       "                      title  \\\n",
       "0  University_of_Notre_Dame   \n",
       "1  University_of_Notre_Dame   \n",
       "2  University_of_Notre_Dame   \n",
       "3  University_of_Notre_Dame   \n",
       "4  University_of_Notre_Dame   \n",
       "\n",
       "                                                 ans  \\\n",
       "0  [Saint Bernadette Soubirous, a copper statue o...   \n",
       "1  [September 1876, twice, The Observer, three, 1...   \n",
       "2  [Rome, Moreau Seminary, Old College, Retired p...   \n",
       "3  [eight, 1920, the College of Science, five, th...   \n",
       "4  [Learning Resource Center, five, The First Yea...   \n",
       "\n",
       "                                              entity  \n",
       "0  [Catholic, the Main Building's, the Virgin Mar...  \n",
       "1  [Notre Dame's, nine, three, Begun, one, Septem...  \n",
       "2  [the Congregation of Holy Cross, Rome, Moreau ...  \n",
       "3  [The College of Engineering, 1920, the College...  \n",
       "4  [Notre Dame's, one, five, the First Year of St...  "
      ]
     },
     "execution_count": 94,
     "metadata": {},
     "output_type": "execute_result"
    }
   ],
   "source": [
    "df.head()"
   ]
  },
  {
   "cell_type": "code",
   "execution_count": 95,
   "metadata": {},
   "outputs": [],
   "source": [
    "df.to_pickle(r\"C:\\Users\\PIYUSH\\Desktop\\Automatic_Question_gen\\data\\entity.pickle\")"
   ]
  },
  {
   "cell_type": "code",
   "execution_count": 3,
   "metadata": {},
   "outputs": [],
   "source": [
    "df=pd.read_pickle(r\"C:\\Users\\PIYUSH\\Desktop\\Automatic_Question_gen\\data\\entity.pickle\")"
   ]
  },
  {
   "cell_type": "code",
   "execution_count": 4,
   "metadata": {},
   "outputs": [
    {
     "data": {
      "text/html": [
       "<div>\n",
       "<style scoped>\n",
       "    .dataframe tbody tr th:only-of-type {\n",
       "        vertical-align: middle;\n",
       "    }\n",
       "\n",
       "    .dataframe tbody tr th {\n",
       "        vertical-align: top;\n",
       "    }\n",
       "\n",
       "    .dataframe thead th {\n",
       "        text-align: right;\n",
       "    }\n",
       "</style>\n",
       "<table border=\"1\" class=\"dataframe\">\n",
       "  <thead>\n",
       "    <tr style=\"text-align: right;\">\n",
       "      <th></th>\n",
       "      <th>context</th>\n",
       "      <th>title</th>\n",
       "      <th>ans</th>\n",
       "      <th>entity</th>\n",
       "    </tr>\n",
       "  </thead>\n",
       "  <tbody>\n",
       "    <tr>\n",
       "      <th>0</th>\n",
       "      <td>Architecturally, the school has a Catholic cha...</td>\n",
       "      <td>University_of_Notre_Dame</td>\n",
       "      <td>[Saint Bernadette Soubirous, a copper statue o...</td>\n",
       "      <td>[Catholic, the Main Building's, the Virgin Mar...</td>\n",
       "    </tr>\n",
       "    <tr>\n",
       "      <th>1</th>\n",
       "      <td>As at most other universities, Notre Dame's st...</td>\n",
       "      <td>University_of_Notre_Dame</td>\n",
       "      <td>[September 1876, twice, The Observer, three, 1...</td>\n",
       "      <td>[Notre Dame's, nine, three, Begun, one, Septem...</td>\n",
       "    </tr>\n",
       "    <tr>\n",
       "      <th>2</th>\n",
       "      <td>The university is the major seat of the Congre...</td>\n",
       "      <td>University_of_Notre_Dame</td>\n",
       "      <td>[Rome, Moreau Seminary, Old College, Retired p...</td>\n",
       "      <td>[the Congregation of Holy Cross, Rome, Moreau ...</td>\n",
       "    </tr>\n",
       "    <tr>\n",
       "      <th>3</th>\n",
       "      <td>The College of Engineering was established in ...</td>\n",
       "      <td>University_of_Notre_Dame</td>\n",
       "      <td>[eight, 1920, the College of Science, five, th...</td>\n",
       "      <td>[The College of Engineering, 1920, the College...</td>\n",
       "    </tr>\n",
       "    <tr>\n",
       "      <th>4</th>\n",
       "      <td>All of Notre Dame's undergraduate students are...</td>\n",
       "      <td>University_of_Notre_Dame</td>\n",
       "      <td>[Learning Resource Center, five, The First Yea...</td>\n",
       "      <td>[Notre Dame's, one, five, the First Year of St...</td>\n",
       "    </tr>\n",
       "  </tbody>\n",
       "</table>\n",
       "</div>"
      ],
      "text/plain": [
       "                                             context  \\\n",
       "0  Architecturally, the school has a Catholic cha...   \n",
       "1  As at most other universities, Notre Dame's st...   \n",
       "2  The university is the major seat of the Congre...   \n",
       "3  The College of Engineering was established in ...   \n",
       "4  All of Notre Dame's undergraduate students are...   \n",
       "\n",
       "                      title  \\\n",
       "0  University_of_Notre_Dame   \n",
       "1  University_of_Notre_Dame   \n",
       "2  University_of_Notre_Dame   \n",
       "3  University_of_Notre_Dame   \n",
       "4  University_of_Notre_Dame   \n",
       "\n",
       "                                                 ans  \\\n",
       "0  [Saint Bernadette Soubirous, a copper statue o...   \n",
       "1  [September 1876, twice, The Observer, three, 1...   \n",
       "2  [Rome, Moreau Seminary, Old College, Retired p...   \n",
       "3  [eight, 1920, the College of Science, five, th...   \n",
       "4  [Learning Resource Center, five, The First Yea...   \n",
       "\n",
       "                                              entity  \n",
       "0  [Catholic, the Main Building's, the Virgin Mar...  \n",
       "1  [Notre Dame's, nine, three, Begun, one, Septem...  \n",
       "2  [the Congregation of Holy Cross, Rome, Moreau ...  \n",
       "3  [The College of Engineering, 1920, the College...  \n",
       "4  [Notre Dame's, one, five, the First Year of St...  "
      ]
     },
     "execution_count": 4,
     "metadata": {},
     "output_type": "execute_result"
    }
   ],
   "source": [
    "df.head()"
   ]
  },
  {
   "cell_type": "code",
   "execution_count": 6,
   "metadata": {},
   "outputs": [
    {
     "data": {
      "text/plain": [
       "['Saint Bernadette Soubirous',\n",
       " 'a copper statue of Christ',\n",
       " 'the Main Building',\n",
       " 'a Marian place of prayer and reflection',\n",
       " 'a golden statue of the Virgin Mary']"
      ]
     },
     "execution_count": 6,
     "metadata": {},
     "output_type": "execute_result"
    }
   ],
   "source": [
    "df['ans'].iloc[0]"
   ]
  },
  {
   "cell_type": "code",
   "execution_count": 33,
   "metadata": {},
   "outputs": [],
   "source": [
    "lines= df['context'].iloc[0]\n",
    "all_words=word_tokenize(lines)\n",
    "all_words=[word.lower() for word in all_words if word.isalpha()]\n",
    "all_words.insert(0,'START_')\n",
    "all_words.insert(len(all_words),'_END')"
   ]
  },
  {
   "cell_type": "code",
   "execution_count": 34,
   "metadata": {},
   "outputs": [],
   "source": [
    "words=set(all_words)"
   ]
  },
  {
   "cell_type": "code",
   "execution_count": 35,
   "metadata": {},
   "outputs": [],
   "source": [
    "max_input=len(all_words)"
   ]
  },
  {
   "cell_type": "code",
   "execution_count": 36,
   "metadata": {},
   "outputs": [],
   "source": [
    "input_words = sorted(list(words))\n",
    "num_encoder_tokens = len(words)\n"
   ]
  },
  {
   "cell_type": "code",
   "execution_count": 37,
   "metadata": {},
   "outputs": [],
   "source": [
    "input_token_index = dict([(word, i+1) for i, word in enumerate(input_words)])"
   ]
  },
  {
   "cell_type": "code",
   "execution_count": 39,
   "metadata": {},
   "outputs": [],
   "source": [
    "reverse_input_char_index = dict((i, word) for word, i in input_token_index.items())"
   ]
  },
  {
   "cell_type": "code",
   "execution_count": 42,
   "metadata": {},
   "outputs": [],
   "source": [
    "encoder_input_data = np.zeros((1,max_input ),dtype='float32')"
   ]
  },
  {
   "cell_type": "code",
   "execution_count": 43,
   "metadata": {},
   "outputs": [],
   "source": [
    "for t,w in enumerate(all_words):\n",
    "    encoder_input_data[0,t]=input_token_index[w]"
   ]
  },
  {
   "cell_type": "code",
   "execution_count": 8,
   "metadata": {},
   "outputs": [],
   "source": [
    "data=df['context'].iloc[0]"
   ]
  },
  {
   "cell_type": "code",
   "execution_count": 30,
   "metadata": {},
   "outputs": [],
   "source": [
    "words=[]\n",
    "for i in sent_tokenize(data): \n",
    "    temp = [] \n",
    "      \n",
    "    # tokenize the sentence into words \n",
    "    for j in word_tokenize(i): \n",
    "        temp.append(j.lower()) \n",
    "  \n",
    "    words.append(temp) "
   ]
  },
  {
   "cell_type": "code",
   "execution_count": 31,
   "metadata": {},
   "outputs": [
    {
     "data": {
      "text/plain": [
       "[['architecturally',\n",
       "  ',',\n",
       "  'the',\n",
       "  'school',\n",
       "  'has',\n",
       "  'a',\n",
       "  'catholic',\n",
       "  'character',\n",
       "  '.'],\n",
       " ['atop',\n",
       "  'the',\n",
       "  'main',\n",
       "  'building',\n",
       "  \"'s\",\n",
       "  'gold',\n",
       "  'dome',\n",
       "  'is',\n",
       "  'a',\n",
       "  'golden',\n",
       "  'statue',\n",
       "  'of',\n",
       "  'the',\n",
       "  'virgin',\n",
       "  'mary',\n",
       "  '.'],\n",
       " ['immediately',\n",
       "  'in',\n",
       "  'front',\n",
       "  'of',\n",
       "  'the',\n",
       "  'main',\n",
       "  'building',\n",
       "  'and',\n",
       "  'facing',\n",
       "  'it',\n",
       "  ',',\n",
       "  'is',\n",
       "  'a',\n",
       "  'copper',\n",
       "  'statue',\n",
       "  'of',\n",
       "  'christ',\n",
       "  'with',\n",
       "  'arms',\n",
       "  'upraised',\n",
       "  'with',\n",
       "  'the',\n",
       "  'legend',\n",
       "  '``',\n",
       "  'venite',\n",
       "  'ad',\n",
       "  'me',\n",
       "  'omnes',\n",
       "  \"''\",\n",
       "  '.'],\n",
       " ['next',\n",
       "  'to',\n",
       "  'the',\n",
       "  'main',\n",
       "  'building',\n",
       "  'is',\n",
       "  'the',\n",
       "  'basilica',\n",
       "  'of',\n",
       "  'the',\n",
       "  'sacred',\n",
       "  'heart',\n",
       "  '.'],\n",
       " ['immediately',\n",
       "  'behind',\n",
       "  'the',\n",
       "  'basilica',\n",
       "  'is',\n",
       "  'the',\n",
       "  'grotto',\n",
       "  ',',\n",
       "  'a',\n",
       "  'marian',\n",
       "  'place',\n",
       "  'of',\n",
       "  'prayer',\n",
       "  'and',\n",
       "  'reflection',\n",
       "  '.'],\n",
       " ['it',\n",
       "  'is',\n",
       "  'a',\n",
       "  'replica',\n",
       "  'of',\n",
       "  'the',\n",
       "  'grotto',\n",
       "  'at',\n",
       "  'lourdes',\n",
       "  ',',\n",
       "  'france',\n",
       "  'where',\n",
       "  'the',\n",
       "  'virgin',\n",
       "  'mary',\n",
       "  'reputedly',\n",
       "  'appeared',\n",
       "  'to',\n",
       "  'saint',\n",
       "  'bernadette',\n",
       "  'soubirous',\n",
       "  'in',\n",
       "  '1858',\n",
       "  '.'],\n",
       " ['at',\n",
       "  'the',\n",
       "  'end',\n",
       "  'of',\n",
       "  'the',\n",
       "  'main',\n",
       "  'drive',\n",
       "  '(',\n",
       "  'and',\n",
       "  'in',\n",
       "  'a',\n",
       "  'direct',\n",
       "  'line',\n",
       "  'that',\n",
       "  'connects',\n",
       "  'through',\n",
       "  '3',\n",
       "  'statues',\n",
       "  'and',\n",
       "  'the',\n",
       "  'gold',\n",
       "  'dome',\n",
       "  ')',\n",
       "  ',',\n",
       "  'is',\n",
       "  'a',\n",
       "  'simple',\n",
       "  ',',\n",
       "  'modern',\n",
       "  'stone',\n",
       "  'statue',\n",
       "  'of',\n",
       "  'mary',\n",
       "  '.']]"
      ]
     },
     "execution_count": 31,
     "metadata": {},
     "output_type": "execute_result"
    }
   ],
   "source": [
    "words\n"
   ]
  },
  {
   "cell_type": "code",
   "execution_count": 38,
   "metadata": {},
   "outputs": [],
   "source": [
    "model2 = gensim.models.Word2Vec(words, min_count = 1, size = 100, \n",
    "                                             window = 5, sg = 1) "
   ]
  },
  {
   "cell_type": "code",
   "execution_count": 39,
   "metadata": {},
   "outputs": [
    {
     "name": "stderr",
     "output_type": "stream",
     "text": [
      "c:\\users\\piyush\\appdata\\local\\programs\\python\\python36\\lib\\site-packages\\ipykernel_launcher.py:1: DeprecationWarning: Call to deprecated `similarity` (Method will be removed in 4.0.0, use self.wv.similarity() instead).\n",
      "  \"\"\"Entry point for launching an IPython kernel.\n"
     ]
    },
    {
     "data": {
      "text/plain": [
       "-0.023266597"
      ]
     },
     "execution_count": 39,
     "metadata": {},
     "output_type": "execute_result"
    }
   ],
   "source": [
    "model2.similarity('saint', 'bernadette')"
   ]
  },
  {
   "cell_type": "code",
   "execution_count": 43,
   "metadata": {},
   "outputs": [
    {
     "name": "stderr",
     "output_type": "stream",
     "text": [
      "c:\\users\\piyush\\appdata\\local\\programs\\python\\python36\\lib\\site-packages\\ipykernel_launcher.py:1: DeprecationWarning: Call to deprecated `__getitem__` (Method will be removed in 4.0.0, use self.wv.__getitem__() instead).\n",
      "  \"\"\"Entry point for launching an IPython kernel.\n"
     ]
    },
    {
     "data": {
      "text/plain": [
       "array([ 4.4365390e-03, -2.6023390e-03,  2.4390344e-03,  1.7516548e-03,\n",
       "       -1.4577606e-03,  4.6074050e-03, -2.7908040e-03, -2.5218837e-03,\n",
       "       -9.6126209e-04, -3.4027419e-03, -3.0388671e-04, -2.8591112e-03,\n",
       "        1.4621099e-04, -4.8074122e-03, -2.3455943e-03, -2.8041403e-03,\n",
       "        1.8903362e-03, -7.8458368e-04,  3.1718179e-03,  1.6355198e-03,\n",
       "        2.3754586e-03,  1.2589132e-03, -1.5795210e-03, -2.1395001e-03,\n",
       "       -1.2334555e-03,  2.4517954e-03,  1.9230439e-03, -2.2847459e-03,\n",
       "       -4.9693561e-03,  1.0905792e-03, -2.2413556e-03,  3.4858966e-03,\n",
       "        3.3894177e-03, -1.6622233e-03,  1.1353678e-03, -4.3159248e-03,\n",
       "       -4.6911370e-03, -9.9791167e-04, -2.9649828e-03, -2.3112912e-03,\n",
       "       -3.3890142e-03, -2.8335152e-03, -3.1779225e-03,  2.5029464e-03,\n",
       "        4.7733239e-03, -7.4066495e-04, -1.6545975e-03, -4.4980054e-03,\n",
       "       -4.9555763e-03, -4.2031650e-03,  1.5552766e-03, -4.0943478e-03,\n",
       "        4.5289332e-03, -7.2933192e-04, -3.1728123e-03, -9.1513508e-04,\n",
       "       -3.1751802e-03, -4.2825346e-03, -3.9457460e-05, -1.7934914e-03,\n",
       "       -2.9513312e-03, -3.4927006e-03, -4.6612960e-03,  2.7392434e-03,\n",
       "       -7.8616367e-04, -3.5047489e-03,  8.5565628e-04,  6.8339758e-04,\n",
       "        3.5108097e-03, -3.8142696e-03, -4.1660626e-04, -1.5399441e-03,\n",
       "       -1.6201843e-03,  3.4917651e-03,  9.7265036e-04, -1.8577521e-03,\n",
       "       -1.7113506e-03, -3.4878086e-03, -3.0447531e-04, -2.4900916e-03,\n",
       "       -6.0982344e-04, -3.6576074e-03, -4.4866945e-03,  3.4056059e-03,\n",
       "        1.3647191e-03, -3.3021299e-03, -3.9538806e-03,  7.3707500e-04,\n",
       "        4.3251696e-03,  2.0961177e-03,  1.5675045e-03,  4.2842571e-03,\n",
       "       -1.5261717e-03,  1.1565208e-03, -1.0399912e-03,  2.5853696e-03,\n",
       "        2.8388810e-03,  1.0688144e-03, -2.6482495e-03,  4.2328178e-03],\n",
       "      dtype=float32)"
      ]
     },
     "execution_count": 43,
     "metadata": {},
     "output_type": "execute_result"
    }
   ],
   "source": [
    "model2['saint']"
   ]
  },
  {
   "cell_type": "code",
   "execution_count": 44,
   "metadata": {},
   "outputs": [
    {
     "data": {
      "text/html": [
       "<div>\n",
       "<style scoped>\n",
       "    .dataframe tbody tr th:only-of-type {\n",
       "        vertical-align: middle;\n",
       "    }\n",
       "\n",
       "    .dataframe tbody tr th {\n",
       "        vertical-align: top;\n",
       "    }\n",
       "\n",
       "    .dataframe thead th {\n",
       "        text-align: right;\n",
       "    }\n",
       "</style>\n",
       "<table border=\"1\" class=\"dataframe\">\n",
       "  <thead>\n",
       "    <tr style=\"text-align: right;\">\n",
       "      <th></th>\n",
       "      <th>context</th>\n",
       "      <th>title</th>\n",
       "      <th>ans</th>\n",
       "      <th>entity</th>\n",
       "    </tr>\n",
       "  </thead>\n",
       "  <tbody>\n",
       "    <tr>\n",
       "      <th>0</th>\n",
       "      <td>Architecturally, the school has a Catholic cha...</td>\n",
       "      <td>University_of_Notre_Dame</td>\n",
       "      <td>[Saint Bernadette Soubirous, a copper statue o...</td>\n",
       "      <td>[Catholic, the Main Building's, the Virgin Mar...</td>\n",
       "    </tr>\n",
       "    <tr>\n",
       "      <th>1</th>\n",
       "      <td>As at most other universities, Notre Dame's st...</td>\n",
       "      <td>University_of_Notre_Dame</td>\n",
       "      <td>[September 1876, twice, The Observer, three, 1...</td>\n",
       "      <td>[Notre Dame's, nine, three, Begun, one, Septem...</td>\n",
       "    </tr>\n",
       "    <tr>\n",
       "      <th>2</th>\n",
       "      <td>The university is the major seat of the Congre...</td>\n",
       "      <td>University_of_Notre_Dame</td>\n",
       "      <td>[Rome, Moreau Seminary, Old College, Retired p...</td>\n",
       "      <td>[the Congregation of Holy Cross, Rome, Moreau ...</td>\n",
       "    </tr>\n",
       "    <tr>\n",
       "      <th>3</th>\n",
       "      <td>The College of Engineering was established in ...</td>\n",
       "      <td>University_of_Notre_Dame</td>\n",
       "      <td>[eight, 1920, the College of Science, five, th...</td>\n",
       "      <td>[The College of Engineering, 1920, the College...</td>\n",
       "    </tr>\n",
       "    <tr>\n",
       "      <th>4</th>\n",
       "      <td>All of Notre Dame's undergraduate students are...</td>\n",
       "      <td>University_of_Notre_Dame</td>\n",
       "      <td>[Learning Resource Center, five, The First Yea...</td>\n",
       "      <td>[Notre Dame's, one, five, the First Year of St...</td>\n",
       "    </tr>\n",
       "  </tbody>\n",
       "</table>\n",
       "</div>"
      ],
      "text/plain": [
       "                                             context  \\\n",
       "0  Architecturally, the school has a Catholic cha...   \n",
       "1  As at most other universities, Notre Dame's st...   \n",
       "2  The university is the major seat of the Congre...   \n",
       "3  The College of Engineering was established in ...   \n",
       "4  All of Notre Dame's undergraduate students are...   \n",
       "\n",
       "                      title  \\\n",
       "0  University_of_Notre_Dame   \n",
       "1  University_of_Notre_Dame   \n",
       "2  University_of_Notre_Dame   \n",
       "3  University_of_Notre_Dame   \n",
       "4  University_of_Notre_Dame   \n",
       "\n",
       "                                                 ans  \\\n",
       "0  [Saint Bernadette Soubirous, a copper statue o...   \n",
       "1  [September 1876, twice, The Observer, three, 1...   \n",
       "2  [Rome, Moreau Seminary, Old College, Retired p...   \n",
       "3  [eight, 1920, the College of Science, five, th...   \n",
       "4  [Learning Resource Center, five, The First Yea...   \n",
       "\n",
       "                                              entity  \n",
       "0  [Catholic, the Main Building's, the Virgin Mar...  \n",
       "1  [Notre Dame's, nine, three, Begun, one, Septem...  \n",
       "2  [the Congregation of Holy Cross, Rome, Moreau ...  \n",
       "3  [The College of Engineering, 1920, the College...  \n",
       "4  [Notre Dame's, one, five, the First Year of St...  "
      ]
     },
     "execution_count": 44,
     "metadata": {},
     "output_type": "execute_result"
    }
   ],
   "source": [
    "df.head()"
   ]
  }
 ],
 "metadata": {
  "kernelspec": {
   "display_name": "Python 3",
   "language": "python",
   "name": "python3"
  },
  "language_info": {
   "codemirror_mode": {
    "name": "ipython",
    "version": 3
   },
   "file_extension": ".py",
   "mimetype": "text/x-python",
   "name": "python",
   "nbconvert_exporter": "python",
   "pygments_lexer": "ipython3",
   "version": "3.6.6"
  }
 },
 "nbformat": 4,
 "nbformat_minor": 2
}
