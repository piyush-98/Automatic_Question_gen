{
 "cells": [
  {
   "cell_type": "code",
   "execution_count": 1,
   "metadata": {},
   "outputs": [
    {
     "name": "stderr",
     "output_type": "stream",
     "text": [
      "Using TensorFlow backend.\n"
     ]
    }
   ],
   "source": [
    "import pandas as pd\n",
    "import numpy as np\n",
    "import json\n",
    "import torch\n",
    "from nltk import word_tokenize, pos_tag, ne_chunk\n",
    "from nltk.chunk import conlltags2tree, tree2conlltags\n",
    "from nltk.tag import StanfordNERTagger\n",
    "import nltk\n",
    "from nltk.tokenize import word_tokenize\n",
    "from nltk.tokenize import sent_tokenize\n",
    "from nltk.corpus import stopwords\n",
    "from nltk.stem import WordNetLemmatizer\n",
    "from nltk.stem import PorterStemmer\n",
    "from collections import Counter\n",
    "from nltk.corpus import stopwords\n",
    "stop_words=set(stopwords.words('english'))\n",
    "lemm = WordNetLemmatizer()\n",
    "import numpy as np\n",
    "from collections import Counter\n",
    "lines=100000\n",
    "from nltk.corpus import stopwords\n",
    "stop = set(stopwords.words('english'))\n",
    "import gensim \n",
    "from gensim.models import Word2Vec\n",
    "from keras.layers import *\n",
    "from keras.models import *\n",
    "from keras.utils import *\n",
    "import re"
   ]
  },
  {
   "cell_type": "code",
   "execution_count": 2,
   "metadata": {},
   "outputs": [],
   "source": [
    "import stanfordnlp"
   ]
  },
  {
   "cell_type": "code",
   "execution_count": 3,
   "metadata": {},
   "outputs": [
    {
     "name": "stdout",
     "output_type": "stream",
     "text": [
      "Use device: cpu\n",
      "---\n",
      "Loading: tokenize\n",
      "With settings: \n",
      "{'model_path': 'C:\\\\Users\\\\PIYUSH\\\\stanfordnlp_resources\\\\en_ewt_models\\\\en_ewt_tokenizer.pt', 'lang': 'en', 'shorthand': 'en_ewt', 'mode': 'predict'}\n",
      "---\n",
      "Loading: lemma\n",
      "With settings: \n",
      "{'model_path': 'C:\\\\Users\\\\PIYUSH\\\\stanfordnlp_resources\\\\en_ewt_models\\\\en_ewt_lemmatizer.pt', 'lang': 'en', 'shorthand': 'en_ewt', 'mode': 'predict'}\n",
      "Building an attentional Seq2Seq model...\n",
      "Using a Bi-LSTM encoder\n",
      "Using soft attention for LSTM.\n",
      "Finetune all embeddings.\n",
      "[Running seq2seq lemmatizer with edit classifier]\n",
      "---\n",
      "Loading: pos\n",
      "With settings: \n",
      "{'model_path': 'C:\\\\Users\\\\PIYUSH\\\\stanfordnlp_resources\\\\en_ewt_models\\\\en_ewt_tagger.pt', 'pretrain_path': 'C:\\\\Users\\\\PIYUSH\\\\stanfordnlp_resources\\\\en_ewt_models\\\\en_ewt.pretrain.pt', 'lang': 'en', 'shorthand': 'en_ewt', 'mode': 'predict'}\n",
      "Done loading processors!\n",
      "---\n"
     ]
    }
   ],
   "source": [
    "nlp = stanfordnlp.Pipeline(processors = \"tokenize,mwt,lemma,pos\")"
   ]
  },
  {
   "cell_type": "code",
   "execution_count": 4,
   "metadata": {},
   "outputs": [],
   "source": [
    "data=pd.read_json(r\"C:\\Users\\PIYUSH\\Desktop\\Automatic_Question_gen\\data\\train-v1.1.json\")"
   ]
  },
  {
   "cell_type": "code",
   "execution_count": 5,
   "metadata": {},
   "outputs": [],
   "source": [
    "df = pd.DataFrame()"
   ]
  },
  {
   "cell_type": "code",
   "execution_count": 6,
   "metadata": {},
   "outputs": [
    {
     "data": {
      "text/plain": [
       "[('Architecturally', 'RB', 'O'),\n",
       " (',', ',', 'O'),\n",
       " ('the', 'DT', 'O'),\n",
       " ('school', 'NN', 'O'),\n",
       " ('has', 'VBZ', 'O'),\n",
       " ('a', 'DT', 'O'),\n",
       " ('Catholic', 'JJ', 'B-ORGANIZATION'),\n",
       " ('character', 'NN', 'O'),\n",
       " ('.', '.', 'O'),\n",
       " ('Atop', 'VB', 'O'),\n",
       " ('the', 'DT', 'O'),\n",
       " ('Main', 'NNP', 'B-FACILITY'),\n",
       " ('Building', 'NNP', 'I-FACILITY'),\n",
       " (\"'s\", 'POS', 'O'),\n",
       " ('gold', 'NN', 'O'),\n",
       " ('dome', 'NN', 'O'),\n",
       " ('is', 'VBZ', 'O'),\n",
       " ('a', 'DT', 'O'),\n",
       " ('golden', 'JJ', 'O'),\n",
       " ('statue', 'NN', 'O'),\n",
       " ('of', 'IN', 'O'),\n",
       " ('the', 'DT', 'O'),\n",
       " ('Virgin', 'NNP', 'B-ORGANIZATION'),\n",
       " ('Mary', 'NNP', 'I-ORGANIZATION'),\n",
       " ('.', '.', 'O'),\n",
       " ('Immediately', 'RB', 'O'),\n",
       " ('in', 'IN', 'O'),\n",
       " ('front', 'NN', 'O'),\n",
       " ('of', 'IN', 'O'),\n",
       " ('the', 'DT', 'O'),\n",
       " ('Main', 'NNP', 'B-FACILITY'),\n",
       " ('Building', 'NNP', 'I-FACILITY'),\n",
       " ('and', 'CC', 'O'),\n",
       " ('facing', 'VBG', 'O'),\n",
       " ('it', 'PRP', 'O'),\n",
       " (',', ',', 'O'),\n",
       " ('is', 'VBZ', 'O'),\n",
       " ('a', 'DT', 'O'),\n",
       " ('copper', 'NN', 'O'),\n",
       " ('statue', 'NN', 'O'),\n",
       " ('of', 'IN', 'O'),\n",
       " ('Christ', 'NNP', 'B-GPE'),\n",
       " ('with', 'IN', 'O'),\n",
       " ('arms', 'NNS', 'O'),\n",
       " ('upraised', 'VBN', 'O'),\n",
       " ('with', 'IN', 'O'),\n",
       " ('the', 'DT', 'O'),\n",
       " ('legend', 'NN', 'O'),\n",
       " ('``', '``', 'O'),\n",
       " ('Venite', 'NNP', 'B-PERSON'),\n",
       " ('Ad', 'NNP', 'I-PERSON'),\n",
       " ('Me', 'NNP', 'I-PERSON'),\n",
       " ('Omnes', 'NNP', 'I-PERSON'),\n",
       " (\"''\", \"''\", 'O'),\n",
       " ('.', '.', 'O'),\n",
       " ('Next', 'JJ', 'O'),\n",
       " ('to', 'TO', 'O'),\n",
       " ('the', 'DT', 'O'),\n",
       " ('Main', 'NNP', 'B-FACILITY'),\n",
       " ('Building', 'NNP', 'I-FACILITY'),\n",
       " ('is', 'VBZ', 'O'),\n",
       " ('the', 'DT', 'O'),\n",
       " ('Basilica', 'NNP', 'B-ORGANIZATION'),\n",
       " ('of', 'IN', 'O'),\n",
       " ('the', 'DT', 'O'),\n",
       " ('Sacred', 'NNP', 'B-ORGANIZATION'),\n",
       " ('Heart', 'NNP', 'I-ORGANIZATION'),\n",
       " ('.', '.', 'O'),\n",
       " ('Immediately', 'RB', 'O'),\n",
       " ('behind', 'IN', 'O'),\n",
       " ('the', 'DT', 'O'),\n",
       " ('basilica', 'NN', 'O'),\n",
       " ('is', 'VBZ', 'O'),\n",
       " ('the', 'DT', 'O'),\n",
       " ('Grotto', 'NNP', 'B-GPE'),\n",
       " (',', ',', 'O'),\n",
       " ('a', 'DT', 'O'),\n",
       " ('Marian', 'JJ', 'B-GPE'),\n",
       " ('place', 'NN', 'O'),\n",
       " ('of', 'IN', 'O'),\n",
       " ('prayer', 'NN', 'O'),\n",
       " ('and', 'CC', 'O'),\n",
       " ('reflection', 'NN', 'O'),\n",
       " ('.', '.', 'O'),\n",
       " ('It', 'PRP', 'O'),\n",
       " ('is', 'VBZ', 'O'),\n",
       " ('a', 'DT', 'O'),\n",
       " ('replica', 'NN', 'O'),\n",
       " ('of', 'IN', 'O'),\n",
       " ('the', 'DT', 'O'),\n",
       " ('grotto', 'NN', 'O'),\n",
       " ('at', 'IN', 'O'),\n",
       " ('Lourdes', 'NNP', 'B-ORGANIZATION'),\n",
       " (',', ',', 'O'),\n",
       " ('France', 'NNP', 'B-GPE'),\n",
       " ('where', 'WRB', 'O'),\n",
       " ('the', 'DT', 'O'),\n",
       " ('Virgin', 'NNP', 'B-ORGANIZATION'),\n",
       " ('Mary', 'NNP', 'O'),\n",
       " ('reputedly', 'RB', 'O'),\n",
       " ('appeared', 'VBD', 'O'),\n",
       " ('to', 'TO', 'O'),\n",
       " ('Saint', 'NNP', 'B-PERSON'),\n",
       " ('Bernadette', 'NNP', 'I-PERSON'),\n",
       " ('Soubirous', 'NNP', 'I-PERSON'),\n",
       " ('in', 'IN', 'O'),\n",
       " ('1858', 'CD', 'O'),\n",
       " ('.', '.', 'O'),\n",
       " ('At', 'IN', 'O'),\n",
       " ('the', 'DT', 'O'),\n",
       " ('end', 'NN', 'O'),\n",
       " ('of', 'IN', 'O'),\n",
       " ('the', 'DT', 'O'),\n",
       " ('main', 'JJ', 'O'),\n",
       " ('drive', 'NN', 'O'),\n",
       " ('(', '(', 'O'),\n",
       " ('and', 'CC', 'O'),\n",
       " ('in', 'IN', 'O'),\n",
       " ('a', 'DT', 'O'),\n",
       " ('direct', 'JJ', 'O'),\n",
       " ('line', 'NN', 'O'),\n",
       " ('that', 'WDT', 'O'),\n",
       " ('connects', 'VBZ', 'O'),\n",
       " ('through', 'IN', 'O'),\n",
       " ('3', 'CD', 'O'),\n",
       " ('statues', 'NNS', 'O'),\n",
       " ('and', 'CC', 'O'),\n",
       " ('the', 'DT', 'O'),\n",
       " ('Gold', 'NNP', 'B-ORGANIZATION'),\n",
       " ('Dome', 'NNP', 'I-ORGANIZATION'),\n",
       " (')', ')', 'O'),\n",
       " (',', ',', 'O'),\n",
       " ('is', 'VBZ', 'O'),\n",
       " ('a', 'DT', 'O'),\n",
       " ('simple', 'JJ', 'O'),\n",
       " (',', ',', 'O'),\n",
       " ('modern', 'JJ', 'O'),\n",
       " ('stone', 'NN', 'O'),\n",
       " ('statue', 'NN', 'O'),\n",
       " ('of', 'IN', 'O'),\n",
       " ('Mary', 'NNP', 'O'),\n",
       " ('.', '.', 'O')]"
      ]
     },
     "execution_count": 6,
     "metadata": {},
     "output_type": "execute_result"
    }
   ],
   "source": [
    "s=data['data'][0]['paragraphs'][0]['context']\n",
    "s=pos_tag(word_tokenize(s))\n",
    "ne_tree=(ne_chunk(s))\n",
    "iob_tagged = tree2conlltags(ne_tree)\n",
    "iob_tagged"
   ]
  },
  {
   "cell_type": "code",
   "execution_count": 7,
   "metadata": {},
   "outputs": [
    {
     "name": "stdout",
     "output_type": "stream",
     "text": [
      "(S\n",
      "  Architecturally/RB\n",
      "  ,/,\n",
      "  (NP the/DT school/NN)\n",
      "  has/VBZ\n",
      "  (NP a/DT Catholic/JJ character/NN)\n",
      "  ./.\n",
      "  Atop/VB\n",
      "  the/DT\n",
      "  Main/NNP\n",
      "  Building/NNP\n",
      "  's/POS\n",
      "  (NP gold/NN)\n",
      "  (NP dome/NN)\n",
      "  is/VBZ\n",
      "  (NP a/DT golden/JJ statue/NN)\n",
      "  of/IN\n",
      "  the/DT\n",
      "  Virgin/NNP\n",
      "  Mary/NNP\n",
      "  ./.\n",
      "  Immediately/RB\n",
      "  in/IN\n",
      "  (NP front/NN)\n",
      "  of/IN\n",
      "  the/DT\n",
      "  Main/NNP\n",
      "  Building/NNP\n",
      "  and/CC\n",
      "  facing/VBG\n",
      "  it/PRP\n",
      "  ,/,\n",
      "  is/VBZ\n",
      "  (NP a/DT copper/NN)\n",
      "  (NP statue/NN)\n",
      "  of/IN\n",
      "  Christ/NNP\n",
      "  with/IN\n",
      "  arms/NNS\n",
      "  upraised/VBN\n",
      "  with/IN\n",
      "  (NP the/DT legend/NN)\n",
      "  ``/``\n",
      "  Venite/NNP\n",
      "  Ad/NNP\n",
      "  Me/NNP\n",
      "  Omnes/NNP\n",
      "  ''/''\n",
      "  ./.\n",
      "  Next/JJ\n",
      "  to/TO\n",
      "  the/DT\n",
      "  Main/NNP\n",
      "  Building/NNP\n",
      "  is/VBZ\n",
      "  the/DT\n",
      "  Basilica/NNP\n",
      "  of/IN\n",
      "  the/DT\n",
      "  Sacred/NNP\n",
      "  Heart/NNP\n",
      "  ./.\n",
      "  Immediately/RB\n",
      "  behind/IN\n",
      "  (NP the/DT basilica/NN)\n",
      "  is/VBZ\n",
      "  the/DT\n",
      "  Grotto/NNP\n",
      "  ,/,\n",
      "  (NP a/DT Marian/JJ place/NN)\n",
      "  of/IN\n",
      "  (NP prayer/NN)\n",
      "  and/CC\n",
      "  (NP reflection/NN)\n",
      "  ./.\n",
      "  It/PRP\n",
      "  is/VBZ\n",
      "  (NP a/DT replica/NN)\n",
      "  of/IN\n",
      "  (NP the/DT grotto/NN)\n",
      "  at/IN\n",
      "  Lourdes/NNP\n",
      "  ,/,\n",
      "  France/NNP\n",
      "  where/WRB\n",
      "  the/DT\n",
      "  Virgin/NNP\n",
      "  Mary/NNP\n",
      "  reputedly/RB\n",
      "  appeared/VBD\n",
      "  to/TO\n",
      "  Saint/NNP\n",
      "  Bernadette/NNP\n",
      "  Soubirous/NNP\n",
      "  in/IN\n",
      "  1858/CD\n",
      "  ./.\n",
      "  At/IN\n",
      "  (NP the/DT end/NN)\n",
      "  of/IN\n",
      "  (NP the/DT main/JJ drive/NN)\n",
      "  (/(\n",
      "  and/CC\n",
      "  in/IN\n",
      "  (NP a/DT direct/JJ line/NN)\n",
      "  that/WDT\n",
      "  connects/VBZ\n",
      "  through/IN\n",
      "  3/CD\n",
      "  statues/NNS\n",
      "  and/CC\n",
      "  the/DT\n",
      "  Gold/NNP\n",
      "  Dome/NNP\n",
      "  )/)\n",
      "  ,/,\n",
      "  is/VBZ\n",
      "  a/DT\n",
      "  simple/JJ\n",
      "  ,/,\n",
      "  (NP modern/JJ stone/NN)\n",
      "  (NP statue/NN)\n",
      "  of/IN\n",
      "  Mary/NNP\n",
      "  ./.)\n"
     ]
    }
   ],
   "source": [
    "pattern = 'NP: {<DT>?<JJ>*<NN>}'\n",
    "cp = nltk.RegexpParser(pattern)\n",
    "print(cp.parse(s))"
   ]
  },
  {
   "cell_type": "code",
   "execution_count": 45,
   "metadata": {},
   "outputs": [],
   "source": [
    "import spacy\n",
    "s=df.context.iloc[3]\n",
    "w = re.sub(r'[^\\w\\s]','',s)"
   ]
  },
  {
   "cell_type": "code",
   "execution_count": 46,
   "metadata": {},
   "outputs": [
    {
     "data": {
      "text/plain": [
       "'The College of Engineering was established in 1920, however, early courses in civil and mechanical engineering were a part of the College of Science since the 1870s. Today the college, housed in the Fitzpatrick, Cushing, and Stinson-Remick Halls of Engineering, includes five departments of study – aerospace and mechanical engineering, chemical and biomolecular engineering, civil engineering and geological sciences, computer science and engineering, and electrical engineering – with eight B.S. degrees offered. Additionally, the college offers five-year dual degree programs with the Colleges of Arts and Letters and of Business awarding additional B.A. and Master of Business Administration (MBA) degrees, respectively.'"
      ]
     },
     "execution_count": 46,
     "metadata": {},
     "output_type": "execute_result"
    }
   ],
   "source": [
    "s"
   ]
  },
  {
   "cell_type": "code",
   "execution_count": 9,
   "metadata": {},
   "outputs": [
    {
     "data": {
      "text/plain": [
       "The university is the major seat of the Congregation of Holy Cross (albeit not its official headquarters, which are in Rome). Its main seminary, Moreau Seminary, is located on the campus across St. Joseph lake from the Main Building. Old College, the oldest building on campus and located near the shore of St. Mary lake, houses undergraduate seminarians. Retired priests and brothers reside in Fatima House (a former retreat center), Holy Cross House, as well as Columba Hall near the Grotto. The university through the Moreau Seminary has ties to theologian Frederick Buechner. While not Catholic, Buechner has praised writers from Notre Dame and Moreau Seminary created a Buechner Prize for Preaching."
      ]
     },
     "execution_count": 9,
     "metadata": {},
     "output_type": "execute_result"
    }
   ],
   "source": [
    "spacy_nlp = spacy.load('en_core_web_sm')\n",
    "document = spacy_nlp(s)\n",
    "document"
   ]
  },
  {
   "cell_type": "code",
   "execution_count": 10,
   "metadata": {
    "scrolled": true
   },
   "outputs": [
    {
     "name": "stdout",
     "output_type": "stream",
     "text": [
      "Value: the Congregation of Holy Cross\n",
      "Value: Rome\n",
      "Value: Moreau Seminary\n",
      "Value: St. Joseph\n",
      "Value: the Main Building\n",
      "Value: Old College\n",
      "Value: St. Mary\n",
      "Value: Fatima House\n",
      "Value: Holy Cross House\n",
      "Value: Columba Hall\n",
      "Value: Grotto\n",
      "Value: Frederick Buechner\n",
      "Value: Catholic\n",
      "Value: Buechner\n",
      "Value: Notre Dame\n",
      "Value: Moreau Seminary\n"
     ]
    }
   ],
   "source": [
    "for element in document.ents:\n",
    "    print('Value: %s' % (element))"
   ]
  },
  {
   "cell_type": "code",
   "execution_count": 13,
   "metadata": {},
   "outputs": [],
   "source": [
    "ls=[]\n",
    "ls2=[]\n",
    "for i in data[\"data\"]:\n",
    "    for j in i[\"paragraphs\"]:\n",
    "        ls.append(j[\"context\"])\n",
    "        ls2.append(i[\"title\"])"
   ]
  },
  {
   "cell_type": "code",
   "execution_count": 24,
   "metadata": {},
   "outputs": [],
   "source": [
    "ls4=[]\n",
    "ls3=[]\n",
    "for i in data[\"data\"]:\n",
    "    for j in i[\"paragraphs\"]:\n",
    "        #print(\"*****************************\")\n",
    "        for k in j['qas']:\n",
    "            for l in k['answers']:\n",
    "                ls3.append(l[\"text\"])\n",
    "            #print(ls3)\n",
    "        ls4.append(ls3)\n",
    "        ls3=[]"
   ]
  },
  {
   "cell_type": "code",
   "execution_count": 29,
   "metadata": {},
   "outputs": [],
   "source": [
    "df[\"context\"]=ls"
   ]
  },
  {
   "cell_type": "code",
   "execution_count": 30,
   "metadata": {},
   "outputs": [],
   "source": [
    "df[\"title\"]=ls2"
   ]
  },
  {
   "cell_type": "code",
   "execution_count": 33,
   "metadata": {},
   "outputs": [],
   "source": [
    "df['ans']=ls4"
   ]
  },
  {
   "cell_type": "code",
   "execution_count": 42,
   "metadata": {},
   "outputs": [
    {
     "data": {
      "text/html": [
       "<div>\n",
       "<style scoped>\n",
       "    .dataframe tbody tr th:only-of-type {\n",
       "        vertical-align: middle;\n",
       "    }\n",
       "\n",
       "    .dataframe tbody tr th {\n",
       "        vertical-align: top;\n",
       "    }\n",
       "\n",
       "    .dataframe thead th {\n",
       "        text-align: right;\n",
       "    }\n",
       "</style>\n",
       "<table border=\"1\" class=\"dataframe\">\n",
       "  <thead>\n",
       "    <tr style=\"text-align: right;\">\n",
       "      <th></th>\n",
       "      <th>context</th>\n",
       "      <th>title</th>\n",
       "      <th>ans</th>\n",
       "    </tr>\n",
       "  </thead>\n",
       "  <tbody>\n",
       "    <tr>\n",
       "      <th>0</th>\n",
       "      <td>Architecturally, the school has a Catholic cha...</td>\n",
       "      <td>University_of_Notre_Dame</td>\n",
       "      <td>[Saint Bernadette Soubirous, a copper statue o...</td>\n",
       "    </tr>\n",
       "    <tr>\n",
       "      <th>1</th>\n",
       "      <td>As at most other universities, Notre Dame's st...</td>\n",
       "      <td>University_of_Notre_Dame</td>\n",
       "      <td>[September 1876, twice, The Observer, three, 1...</td>\n",
       "    </tr>\n",
       "    <tr>\n",
       "      <th>2</th>\n",
       "      <td>The university is the major seat of the Congre...</td>\n",
       "      <td>University_of_Notre_Dame</td>\n",
       "      <td>[Rome, Moreau Seminary, Old College, Retired p...</td>\n",
       "    </tr>\n",
       "    <tr>\n",
       "      <th>3</th>\n",
       "      <td>The College of Engineering was established in ...</td>\n",
       "      <td>University_of_Notre_Dame</td>\n",
       "      <td>[eight, 1920, the College of Science, five, th...</td>\n",
       "    </tr>\n",
       "    <tr>\n",
       "      <th>4</th>\n",
       "      <td>All of Notre Dame's undergraduate students are...</td>\n",
       "      <td>University_of_Notre_Dame</td>\n",
       "      <td>[Learning Resource Center, five, The First Yea...</td>\n",
       "    </tr>\n",
       "  </tbody>\n",
       "</table>\n",
       "</div>"
      ],
      "text/plain": [
       "                                             context  \\\n",
       "0  Architecturally, the school has a Catholic cha...   \n",
       "1  As at most other universities, Notre Dame's st...   \n",
       "2  The university is the major seat of the Congre...   \n",
       "3  The College of Engineering was established in ...   \n",
       "4  All of Notre Dame's undergraduate students are...   \n",
       "\n",
       "                      title                                                ans  \n",
       "0  University_of_Notre_Dame  [Saint Bernadette Soubirous, a copper statue o...  \n",
       "1  University_of_Notre_Dame  [September 1876, twice, The Observer, three, 1...  \n",
       "2  University_of_Notre_Dame  [Rome, Moreau Seminary, Old College, Retired p...  \n",
       "3  University_of_Notre_Dame  [eight, 1920, the College of Science, five, th...  \n",
       "4  University_of_Notre_Dame  [Learning Resource Center, five, The First Yea...  "
      ]
     },
     "execution_count": 42,
     "metadata": {},
     "output_type": "execute_result"
    }
   ],
   "source": [
    "df.head()"
   ]
  },
  {
   "cell_type": "code",
   "execution_count": 89,
   "metadata": {},
   "outputs": [],
   "source": [
    "ls=[]\n",
    "ls1=[]\n",
    "for i in df['context']:\n",
    "    document = spacy_nlp(i)\n",
    "    for element in document.ents:\n",
    "        ls.append(str(element))\n",
    "    ls1.append(ls)\n",
    "    ls=[]    "
   ]
  },
  {
   "cell_type": "code",
   "execution_count": 92,
   "metadata": {},
   "outputs": [],
   "source": [
    "df[\"entity\"]=ls1"
   ]
  },
  {
   "cell_type": "code",
   "execution_count": 94,
   "metadata": {},
   "outputs": [
    {
     "data": {
      "text/html": [
       "<div>\n",
       "<style scoped>\n",
       "    .dataframe tbody tr th:only-of-type {\n",
       "        vertical-align: middle;\n",
       "    }\n",
       "\n",
       "    .dataframe tbody tr th {\n",
       "        vertical-align: top;\n",
       "    }\n",
       "\n",
       "    .dataframe thead th {\n",
       "        text-align: right;\n",
       "    }\n",
       "</style>\n",
       "<table border=\"1\" class=\"dataframe\">\n",
       "  <thead>\n",
       "    <tr style=\"text-align: right;\">\n",
       "      <th></th>\n",
       "      <th>context</th>\n",
       "      <th>title</th>\n",
       "      <th>ans</th>\n",
       "      <th>entity</th>\n",
       "    </tr>\n",
       "  </thead>\n",
       "  <tbody>\n",
       "    <tr>\n",
       "      <th>0</th>\n",
       "      <td>Architecturally, the school has a Catholic cha...</td>\n",
       "      <td>University_of_Notre_Dame</td>\n",
       "      <td>[Saint Bernadette Soubirous, a copper statue o...</td>\n",
       "      <td>[Catholic, the Main Building's, the Virgin Mar...</td>\n",
       "    </tr>\n",
       "    <tr>\n",
       "      <th>1</th>\n",
       "      <td>As at most other universities, Notre Dame's st...</td>\n",
       "      <td>University_of_Notre_Dame</td>\n",
       "      <td>[September 1876, twice, The Observer, three, 1...</td>\n",
       "      <td>[Notre Dame's, nine, three, Begun, one, Septem...</td>\n",
       "    </tr>\n",
       "    <tr>\n",
       "      <th>2</th>\n",
       "      <td>The university is the major seat of the Congre...</td>\n",
       "      <td>University_of_Notre_Dame</td>\n",
       "      <td>[Rome, Moreau Seminary, Old College, Retired p...</td>\n",
       "      <td>[the Congregation of Holy Cross, Rome, Moreau ...</td>\n",
       "    </tr>\n",
       "    <tr>\n",
       "      <th>3</th>\n",
       "      <td>The College of Engineering was established in ...</td>\n",
       "      <td>University_of_Notre_Dame</td>\n",
       "      <td>[eight, 1920, the College of Science, five, th...</td>\n",
       "      <td>[The College of Engineering, 1920, the College...</td>\n",
       "    </tr>\n",
       "    <tr>\n",
       "      <th>4</th>\n",
       "      <td>All of Notre Dame's undergraduate students are...</td>\n",
       "      <td>University_of_Notre_Dame</td>\n",
       "      <td>[Learning Resource Center, five, The First Yea...</td>\n",
       "      <td>[Notre Dame's, one, five, the First Year of St...</td>\n",
       "    </tr>\n",
       "  </tbody>\n",
       "</table>\n",
       "</div>"
      ],
      "text/plain": [
       "                                             context  \\\n",
       "0  Architecturally, the school has a Catholic cha...   \n",
       "1  As at most other universities, Notre Dame's st...   \n",
       "2  The university is the major seat of the Congre...   \n",
       "3  The College of Engineering was established in ...   \n",
       "4  All of Notre Dame's undergraduate students are...   \n",
       "\n",
       "                      title  \\\n",
       "0  University_of_Notre_Dame   \n",
       "1  University_of_Notre_Dame   \n",
       "2  University_of_Notre_Dame   \n",
       "3  University_of_Notre_Dame   \n",
       "4  University_of_Notre_Dame   \n",
       "\n",
       "                                                 ans  \\\n",
       "0  [Saint Bernadette Soubirous, a copper statue o...   \n",
       "1  [September 1876, twice, The Observer, three, 1...   \n",
       "2  [Rome, Moreau Seminary, Old College, Retired p...   \n",
       "3  [eight, 1920, the College of Science, five, th...   \n",
       "4  [Learning Resource Center, five, The First Yea...   \n",
       "\n",
       "                                              entity  \n",
       "0  [Catholic, the Main Building's, the Virgin Mar...  \n",
       "1  [Notre Dame's, nine, three, Begun, one, Septem...  \n",
       "2  [the Congregation of Holy Cross, Rome, Moreau ...  \n",
       "3  [The College of Engineering, 1920, the College...  \n",
       "4  [Notre Dame's, one, five, the First Year of St...  "
      ]
     },
     "execution_count": 94,
     "metadata": {},
     "output_type": "execute_result"
    }
   ],
   "source": [
    "df.head()"
   ]
  },
  {
   "cell_type": "code",
   "execution_count": 95,
   "metadata": {},
   "outputs": [],
   "source": [
    "df.to_pickle(r\"C:\\Users\\PIYUSH\\Desktop\\Automatic_Question_gen\\data\\entity.pickle\")"
   ]
  },
  {
   "cell_type": "code",
   "execution_count": 2,
   "metadata": {},
   "outputs": [],
   "source": [
    "df=pd.read_pickle(r\"C:\\Users\\PIYUSH\\Desktop\\Automatic_Question_gen\\data\\entity.pickle\")"
   ]
  },
  {
   "cell_type": "code",
   "execution_count": 3,
   "metadata": {},
   "outputs": [
    {
     "data": {
      "text/html": [
       "<div>\n",
       "<style scoped>\n",
       "    .dataframe tbody tr th:only-of-type {\n",
       "        vertical-align: middle;\n",
       "    }\n",
       "\n",
       "    .dataframe tbody tr th {\n",
       "        vertical-align: top;\n",
       "    }\n",
       "\n",
       "    .dataframe thead th {\n",
       "        text-align: right;\n",
       "    }\n",
       "</style>\n",
       "<table border=\"1\" class=\"dataframe\">\n",
       "  <thead>\n",
       "    <tr style=\"text-align: right;\">\n",
       "      <th></th>\n",
       "      <th>context</th>\n",
       "      <th>title</th>\n",
       "      <th>ans</th>\n",
       "      <th>entity</th>\n",
       "    </tr>\n",
       "  </thead>\n",
       "  <tbody>\n",
       "    <tr>\n",
       "      <th>0</th>\n",
       "      <td>Architecturally, the school has a Catholic cha...</td>\n",
       "      <td>University_of_Notre_Dame</td>\n",
       "      <td>[Saint Bernadette Soubirous, a copper statue o...</td>\n",
       "      <td>[Catholic, the Main Building's, the Virgin Mar...</td>\n",
       "    </tr>\n",
       "    <tr>\n",
       "      <th>1</th>\n",
       "      <td>As at most other universities, Notre Dame's st...</td>\n",
       "      <td>University_of_Notre_Dame</td>\n",
       "      <td>[September 1876, twice, The Observer, three, 1...</td>\n",
       "      <td>[Notre Dame's, nine, three, Begun, one, Septem...</td>\n",
       "    </tr>\n",
       "    <tr>\n",
       "      <th>2</th>\n",
       "      <td>The university is the major seat of the Congre...</td>\n",
       "      <td>University_of_Notre_Dame</td>\n",
       "      <td>[Rome, Moreau Seminary, Old College, Retired p...</td>\n",
       "      <td>[the Congregation of Holy Cross, Rome, Moreau ...</td>\n",
       "    </tr>\n",
       "    <tr>\n",
       "      <th>3</th>\n",
       "      <td>The College of Engineering was established in ...</td>\n",
       "      <td>University_of_Notre_Dame</td>\n",
       "      <td>[eight, 1920, the College of Science, five, th...</td>\n",
       "      <td>[The College of Engineering, 1920, the College...</td>\n",
       "    </tr>\n",
       "    <tr>\n",
       "      <th>4</th>\n",
       "      <td>All of Notre Dame's undergraduate students are...</td>\n",
       "      <td>University_of_Notre_Dame</td>\n",
       "      <td>[Learning Resource Center, five, The First Yea...</td>\n",
       "      <td>[Notre Dame's, one, five, the First Year of St...</td>\n",
       "    </tr>\n",
       "  </tbody>\n",
       "</table>\n",
       "</div>"
      ],
      "text/plain": [
       "                                             context  \\\n",
       "0  Architecturally, the school has a Catholic cha...   \n",
       "1  As at most other universities, Notre Dame's st...   \n",
       "2  The university is the major seat of the Congre...   \n",
       "3  The College of Engineering was established in ...   \n",
       "4  All of Notre Dame's undergraduate students are...   \n",
       "\n",
       "                      title  \\\n",
       "0  University_of_Notre_Dame   \n",
       "1  University_of_Notre_Dame   \n",
       "2  University_of_Notre_Dame   \n",
       "3  University_of_Notre_Dame   \n",
       "4  University_of_Notre_Dame   \n",
       "\n",
       "                                                 ans  \\\n",
       "0  [Saint Bernadette Soubirous, a copper statue o...   \n",
       "1  [September 1876, twice, The Observer, three, 1...   \n",
       "2  [Rome, Moreau Seminary, Old College, Retired p...   \n",
       "3  [eight, 1920, the College of Science, five, th...   \n",
       "4  [Learning Resource Center, five, The First Yea...   \n",
       "\n",
       "                                              entity  \n",
       "0  [Catholic, the Main Building's, the Virgin Mar...  \n",
       "1  [Notre Dame's, nine, three, Begun, one, Septem...  \n",
       "2  [the Congregation of Holy Cross, Rome, Moreau ...  \n",
       "3  [The College of Engineering, 1920, the College...  \n",
       "4  [Notre Dame's, one, five, the First Year of St...  "
      ]
     },
     "execution_count": 3,
     "metadata": {},
     "output_type": "execute_result"
    }
   ],
   "source": [
    "df.head()"
   ]
  },
  {
   "cell_type": "code",
   "execution_count": 37,
   "metadata": {},
   "outputs": [],
   "source": [
    "import string\n",
    "exclude = set(string.punctuation)\n",
    "exclude.add(\"''\")\n",
    "exclude.add(\"``\")"
   ]
  },
  {
   "cell_type": "code",
   "execution_count": 38,
   "metadata": {},
   "outputs": [
    {
     "data": {
      "text/plain": [
       "{'!',\n",
       " '\"',\n",
       " '#',\n",
       " '$',\n",
       " '%',\n",
       " '&',\n",
       " \"'\",\n",
       " \"''\",\n",
       " '(',\n",
       " ')',\n",
       " '*',\n",
       " '+',\n",
       " ',',\n",
       " '-',\n",
       " '.',\n",
       " '/',\n",
       " ':',\n",
       " ';',\n",
       " '<',\n",
       " '=',\n",
       " '>',\n",
       " '?',\n",
       " '@',\n",
       " '[',\n",
       " '\\\\',\n",
       " ']',\n",
       " '^',\n",
       " '_',\n",
       " '`',\n",
       " '``',\n",
       " '{',\n",
       " '|',\n",
       " '}',\n",
       " '~'}"
      ]
     },
     "execution_count": 38,
     "metadata": {},
     "output_type": "execute_result"
    }
   ],
   "source": [
    "exclude"
   ]
  },
  {
   "cell_type": "code",
   "execution_count": 45,
   "metadata": {},
   "outputs": [],
   "source": [
    "main=[]\n",
    "for i in (df.context):\n",
    "    sent=sent_tokenize(i)\n",
    "    for j in sent:\n",
    "        all_words=word_tokenize(j)\n",
    "        all_words=[i for i in all_words if i not in stop]\n",
    "        all_words=[i for i in all_words if i not in exclude]\n",
    "        all_words=[lemm.lemmatize(j.lower()) for j in all_words]\n",
    "        main.append(all_words)"
   ]
  },
  {
   "cell_type": "code",
   "execution_count": 47,
   "metadata": {},
   "outputs": [
    {
     "data": {
      "text/plain": [
       "['kmc',\n",
       " \"'s\",\n",
       " 'constant',\n",
       " 'endeavor',\n",
       " 'enhance',\n",
       " 'interaction',\n",
       " 'saarc',\n",
       " 'country',\n",
       " 'international',\n",
       " 'agency',\n",
       " 'many',\n",
       " 'major',\n",
       " 'city',\n",
       " 'world',\n",
       " 'achieve',\n",
       " 'better',\n",
       " 'urban',\n",
       " 'management',\n",
       " 'developmental',\n",
       " 'program',\n",
       " 'kathmandu']"
      ]
     },
     "execution_count": 47,
     "metadata": {},
     "output_type": "execute_result"
    }
   ],
   "source": []
  },
  {
   "cell_type": "code",
   "execution_count": 48,
   "metadata": {},
   "outputs": [
    {
     "data": {
      "text/plain": [
       "\"Kathmandu Metropolitan City (KMC), in order to promote international relations has established an International Relations Secretariat (IRC). KMC's first international relationship was established in 1975 with the city of Eugene, Oregon, United States. This activity has been further enhanced by establishing formal relationships with 8 other cities: Motsumoto City of Japan, Rochester of the USA, Yangon (formerly Rangoon) of Myanmar, Xi'an of the People's Republic of China, Minsk of Belarus, and Pyongyang of the Democratic Republic of Korea. KMC's constant endeavor is to enhance its interaction with SAARC countries, other International agencies and many other major cities of the world to achieve better urban management and developmental programs for Kathmandu.\""
      ]
     },
     "execution_count": 48,
     "metadata": {},
     "output_type": "execute_result"
    }
   ],
   "source": [
    "df.context.iloc[-1]"
   ]
  }
 ],
 "metadata": {
  "kernelspec": {
   "display_name": "Python 3",
   "language": "python",
   "name": "python3"
  },
  "language_info": {
   "codemirror_mode": {
    "name": "ipython",
    "version": 3
   },
   "file_extension": ".py",
   "mimetype": "text/x-python",
   "name": "python",
   "nbconvert_exporter": "python",
   "pygments_lexer": "ipython3",
   "version": "3.6.6"
  }
 },
 "nbformat": 4,
 "nbformat_minor": 2
}
