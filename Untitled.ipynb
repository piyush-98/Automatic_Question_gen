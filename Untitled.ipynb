{
 "cells": [
  {
   "cell_type": "code",
   "execution_count": 2,
   "metadata": {},
   "outputs": [],
   "source": [
    "import pandas as pd\n",
    "import numpy as np\n",
    "import json\n",
    "import torch\n",
    "from nltk import word_tokenize, pos_tag, ne_chunk\n",
    "from nltk.chunk import conlltags2tree, tree2conlltags\n",
    "from nltk.tag import StanfordNERTagger\n",
    "import nltk\n",
    "from nltk.tokenize import word_tokenize\n",
    "from nltk.tokenize import sent_tokenize\n",
    "from nltk.corpus import stopwords\n",
    "from nltk.stem import WordNetLemmatizer\n",
    "from nltk.stem import PorterStemmer\n",
    "from collections import Counter\n",
    "from nltk.corpus import stopwords\n",
    "stop_words=set(stopwords.words('english'))\n",
    "lemm = WordNetLemmatizer()\n",
    "import numpy as np\n",
    "from collections import Counter\n",
    "lines=100000\n",
    "from nltk.corpus import stopwords\n",
    "stop = set(stopwords.words('english'))\n",
    "import gensim \n",
    "from gensim.models import Word2Vec\n",
    "from keras.layers import *\n",
    "from keras.models import *\n",
    "from keras.utils import *"
   ]
  },
  {
   "cell_type": "code",
   "execution_count": 2,
   "metadata": {},
   "outputs": [],
   "source": [
    "import stanfordnlp"
   ]
  },
  {
   "cell_type": "code",
   "execution_count": 3,
   "metadata": {},
   "outputs": [
    {
     "name": "stdout",
     "output_type": "stream",
     "text": [
      "Use device: cpu\n",
      "---\n",
      "Loading: tokenize\n",
      "With settings: \n",
      "{'model_path': 'C:\\\\Users\\\\PIYUSH\\\\stanfordnlp_resources\\\\en_ewt_models\\\\en_ewt_tokenizer.pt', 'lang': 'en', 'shorthand': 'en_ewt', 'mode': 'predict'}\n",
      "---\n",
      "Loading: lemma\n",
      "With settings: \n",
      "{'model_path': 'C:\\\\Users\\\\PIYUSH\\\\stanfordnlp_resources\\\\en_ewt_models\\\\en_ewt_lemmatizer.pt', 'lang': 'en', 'shorthand': 'en_ewt', 'mode': 'predict'}\n",
      "Building an attentional Seq2Seq model...\n",
      "Using a Bi-LSTM encoder\n",
      "Using soft attention for LSTM.\n",
      "Finetune all embeddings.\n",
      "[Running seq2seq lemmatizer with edit classifier]\n",
      "---\n",
      "Loading: pos\n",
      "With settings: \n",
      "{'model_path': 'C:\\\\Users\\\\PIYUSH\\\\stanfordnlp_resources\\\\en_ewt_models\\\\en_ewt_tagger.pt', 'pretrain_path': 'C:\\\\Users\\\\PIYUSH\\\\stanfordnlp_resources\\\\en_ewt_models\\\\en_ewt.pretrain.pt', 'lang': 'en', 'shorthand': 'en_ewt', 'mode': 'predict'}\n",
      "Done loading processors!\n",
      "---\n"
     ]
    }
   ],
   "source": [
    "nlp = stanfordnlp.Pipeline(processors = \"tokenize,mwt,lemma,pos\")"
   ]
  },
  {
   "cell_type": "code",
   "execution_count": 4,
   "metadata": {},
   "outputs": [],
   "source": [
    "data=pd.read_json(r\"C:\\Users\\PIYUSH\\Desktop\\Automatic_Question_gen\\data\\train-v1.1.json\")"
   ]
  },
  {
   "cell_type": "code",
   "execution_count": 5,
   "metadata": {},
   "outputs": [],
   "source": [
    "df = pd.DataFrame()"
   ]
  },
  {
   "cell_type": "code",
   "execution_count": 6,
   "metadata": {},
   "outputs": [
    {
     "data": {
      "text/plain": [
       "[('Architecturally', 'RB', 'O'),\n",
       " (',', ',', 'O'),\n",
       " ('the', 'DT', 'O'),\n",
       " ('school', 'NN', 'O'),\n",
       " ('has', 'VBZ', 'O'),\n",
       " ('a', 'DT', 'O'),\n",
       " ('Catholic', 'JJ', 'B-ORGANIZATION'),\n",
       " ('character', 'NN', 'O'),\n",
       " ('.', '.', 'O'),\n",
       " ('Atop', 'VB', 'O'),\n",
       " ('the', 'DT', 'O'),\n",
       " ('Main', 'NNP', 'B-FACILITY'),\n",
       " ('Building', 'NNP', 'I-FACILITY'),\n",
       " (\"'s\", 'POS', 'O'),\n",
       " ('gold', 'NN', 'O'),\n",
       " ('dome', 'NN', 'O'),\n",
       " ('is', 'VBZ', 'O'),\n",
       " ('a', 'DT', 'O'),\n",
       " ('golden', 'JJ', 'O'),\n",
       " ('statue', 'NN', 'O'),\n",
       " ('of', 'IN', 'O'),\n",
       " ('the', 'DT', 'O'),\n",
       " ('Virgin', 'NNP', 'B-ORGANIZATION'),\n",
       " ('Mary', 'NNP', 'I-ORGANIZATION'),\n",
       " ('.', '.', 'O'),\n",
       " ('Immediately', 'RB', 'O'),\n",
       " ('in', 'IN', 'O'),\n",
       " ('front', 'NN', 'O'),\n",
       " ('of', 'IN', 'O'),\n",
       " ('the', 'DT', 'O'),\n",
       " ('Main', 'NNP', 'B-FACILITY'),\n",
       " ('Building', 'NNP', 'I-FACILITY'),\n",
       " ('and', 'CC', 'O'),\n",
       " ('facing', 'VBG', 'O'),\n",
       " ('it', 'PRP', 'O'),\n",
       " (',', ',', 'O'),\n",
       " ('is', 'VBZ', 'O'),\n",
       " ('a', 'DT', 'O'),\n",
       " ('copper', 'NN', 'O'),\n",
       " ('statue', 'NN', 'O'),\n",
       " ('of', 'IN', 'O'),\n",
       " ('Christ', 'NNP', 'B-GPE'),\n",
       " ('with', 'IN', 'O'),\n",
       " ('arms', 'NNS', 'O'),\n",
       " ('upraised', 'VBN', 'O'),\n",
       " ('with', 'IN', 'O'),\n",
       " ('the', 'DT', 'O'),\n",
       " ('legend', 'NN', 'O'),\n",
       " ('``', '``', 'O'),\n",
       " ('Venite', 'NNP', 'B-PERSON'),\n",
       " ('Ad', 'NNP', 'I-PERSON'),\n",
       " ('Me', 'NNP', 'I-PERSON'),\n",
       " ('Omnes', 'NNP', 'I-PERSON'),\n",
       " (\"''\", \"''\", 'O'),\n",
       " ('.', '.', 'O'),\n",
       " ('Next', 'JJ', 'O'),\n",
       " ('to', 'TO', 'O'),\n",
       " ('the', 'DT', 'O'),\n",
       " ('Main', 'NNP', 'B-FACILITY'),\n",
       " ('Building', 'NNP', 'I-FACILITY'),\n",
       " ('is', 'VBZ', 'O'),\n",
       " ('the', 'DT', 'O'),\n",
       " ('Basilica', 'NNP', 'B-ORGANIZATION'),\n",
       " ('of', 'IN', 'O'),\n",
       " ('the', 'DT', 'O'),\n",
       " ('Sacred', 'NNP', 'B-ORGANIZATION'),\n",
       " ('Heart', 'NNP', 'I-ORGANIZATION'),\n",
       " ('.', '.', 'O'),\n",
       " ('Immediately', 'RB', 'O'),\n",
       " ('behind', 'IN', 'O'),\n",
       " ('the', 'DT', 'O'),\n",
       " ('basilica', 'NN', 'O'),\n",
       " ('is', 'VBZ', 'O'),\n",
       " ('the', 'DT', 'O'),\n",
       " ('Grotto', 'NNP', 'B-GPE'),\n",
       " (',', ',', 'O'),\n",
       " ('a', 'DT', 'O'),\n",
       " ('Marian', 'JJ', 'B-GPE'),\n",
       " ('place', 'NN', 'O'),\n",
       " ('of', 'IN', 'O'),\n",
       " ('prayer', 'NN', 'O'),\n",
       " ('and', 'CC', 'O'),\n",
       " ('reflection', 'NN', 'O'),\n",
       " ('.', '.', 'O'),\n",
       " ('It', 'PRP', 'O'),\n",
       " ('is', 'VBZ', 'O'),\n",
       " ('a', 'DT', 'O'),\n",
       " ('replica', 'NN', 'O'),\n",
       " ('of', 'IN', 'O'),\n",
       " ('the', 'DT', 'O'),\n",
       " ('grotto', 'NN', 'O'),\n",
       " ('at', 'IN', 'O'),\n",
       " ('Lourdes', 'NNP', 'B-ORGANIZATION'),\n",
       " (',', ',', 'O'),\n",
       " ('France', 'NNP', 'B-GPE'),\n",
       " ('where', 'WRB', 'O'),\n",
       " ('the', 'DT', 'O'),\n",
       " ('Virgin', 'NNP', 'B-ORGANIZATION'),\n",
       " ('Mary', 'NNP', 'O'),\n",
       " ('reputedly', 'RB', 'O'),\n",
       " ('appeared', 'VBD', 'O'),\n",
       " ('to', 'TO', 'O'),\n",
       " ('Saint', 'NNP', 'B-PERSON'),\n",
       " ('Bernadette', 'NNP', 'I-PERSON'),\n",
       " ('Soubirous', 'NNP', 'I-PERSON'),\n",
       " ('in', 'IN', 'O'),\n",
       " ('1858', 'CD', 'O'),\n",
       " ('.', '.', 'O'),\n",
       " ('At', 'IN', 'O'),\n",
       " ('the', 'DT', 'O'),\n",
       " ('end', 'NN', 'O'),\n",
       " ('of', 'IN', 'O'),\n",
       " ('the', 'DT', 'O'),\n",
       " ('main', 'JJ', 'O'),\n",
       " ('drive', 'NN', 'O'),\n",
       " ('(', '(', 'O'),\n",
       " ('and', 'CC', 'O'),\n",
       " ('in', 'IN', 'O'),\n",
       " ('a', 'DT', 'O'),\n",
       " ('direct', 'JJ', 'O'),\n",
       " ('line', 'NN', 'O'),\n",
       " ('that', 'WDT', 'O'),\n",
       " ('connects', 'VBZ', 'O'),\n",
       " ('through', 'IN', 'O'),\n",
       " ('3', 'CD', 'O'),\n",
       " ('statues', 'NNS', 'O'),\n",
       " ('and', 'CC', 'O'),\n",
       " ('the', 'DT', 'O'),\n",
       " ('Gold', 'NNP', 'B-ORGANIZATION'),\n",
       " ('Dome', 'NNP', 'I-ORGANIZATION'),\n",
       " (')', ')', 'O'),\n",
       " (',', ',', 'O'),\n",
       " ('is', 'VBZ', 'O'),\n",
       " ('a', 'DT', 'O'),\n",
       " ('simple', 'JJ', 'O'),\n",
       " (',', ',', 'O'),\n",
       " ('modern', 'JJ', 'O'),\n",
       " ('stone', 'NN', 'O'),\n",
       " ('statue', 'NN', 'O'),\n",
       " ('of', 'IN', 'O'),\n",
       " ('Mary', 'NNP', 'O'),\n",
       " ('.', '.', 'O')]"
      ]
     },
     "execution_count": 6,
     "metadata": {},
     "output_type": "execute_result"
    }
   ],
   "source": [
    "s=data['data'][0]['paragraphs'][0]['context']\n",
    "s=pos_tag(word_tokenize(s))\n",
    "ne_tree=(ne_chunk(s))\n",
    "iob_tagged = tree2conlltags(ne_tree)\n",
    "iob_tagged"
   ]
  },
  {
   "cell_type": "code",
   "execution_count": 7,
   "metadata": {},
   "outputs": [
    {
     "name": "stdout",
     "output_type": "stream",
     "text": [
      "(S\n",
      "  Architecturally/RB\n",
      "  ,/,\n",
      "  (NP the/DT school/NN)\n",
      "  has/VBZ\n",
      "  (NP a/DT Catholic/JJ character/NN)\n",
      "  ./.\n",
      "  Atop/VB\n",
      "  the/DT\n",
      "  Main/NNP\n",
      "  Building/NNP\n",
      "  's/POS\n",
      "  (NP gold/NN)\n",
      "  (NP dome/NN)\n",
      "  is/VBZ\n",
      "  (NP a/DT golden/JJ statue/NN)\n",
      "  of/IN\n",
      "  the/DT\n",
      "  Virgin/NNP\n",
      "  Mary/NNP\n",
      "  ./.\n",
      "  Immediately/RB\n",
      "  in/IN\n",
      "  (NP front/NN)\n",
      "  of/IN\n",
      "  the/DT\n",
      "  Main/NNP\n",
      "  Building/NNP\n",
      "  and/CC\n",
      "  facing/VBG\n",
      "  it/PRP\n",
      "  ,/,\n",
      "  is/VBZ\n",
      "  (NP a/DT copper/NN)\n",
      "  (NP statue/NN)\n",
      "  of/IN\n",
      "  Christ/NNP\n",
      "  with/IN\n",
      "  arms/NNS\n",
      "  upraised/VBN\n",
      "  with/IN\n",
      "  (NP the/DT legend/NN)\n",
      "  ``/``\n",
      "  Venite/NNP\n",
      "  Ad/NNP\n",
      "  Me/NNP\n",
      "  Omnes/NNP\n",
      "  ''/''\n",
      "  ./.\n",
      "  Next/JJ\n",
      "  to/TO\n",
      "  the/DT\n",
      "  Main/NNP\n",
      "  Building/NNP\n",
      "  is/VBZ\n",
      "  the/DT\n",
      "  Basilica/NNP\n",
      "  of/IN\n",
      "  the/DT\n",
      "  Sacred/NNP\n",
      "  Heart/NNP\n",
      "  ./.\n",
      "  Immediately/RB\n",
      "  behind/IN\n",
      "  (NP the/DT basilica/NN)\n",
      "  is/VBZ\n",
      "  the/DT\n",
      "  Grotto/NNP\n",
      "  ,/,\n",
      "  (NP a/DT Marian/JJ place/NN)\n",
      "  of/IN\n",
      "  (NP prayer/NN)\n",
      "  and/CC\n",
      "  (NP reflection/NN)\n",
      "  ./.\n",
      "  It/PRP\n",
      "  is/VBZ\n",
      "  (NP a/DT replica/NN)\n",
      "  of/IN\n",
      "  (NP the/DT grotto/NN)\n",
      "  at/IN\n",
      "  Lourdes/NNP\n",
      "  ,/,\n",
      "  France/NNP\n",
      "  where/WRB\n",
      "  the/DT\n",
      "  Virgin/NNP\n",
      "  Mary/NNP\n",
      "  reputedly/RB\n",
      "  appeared/VBD\n",
      "  to/TO\n",
      "  Saint/NNP\n",
      "  Bernadette/NNP\n",
      "  Soubirous/NNP\n",
      "  in/IN\n",
      "  1858/CD\n",
      "  ./.\n",
      "  At/IN\n",
      "  (NP the/DT end/NN)\n",
      "  of/IN\n",
      "  (NP the/DT main/JJ drive/NN)\n",
      "  (/(\n",
      "  and/CC\n",
      "  in/IN\n",
      "  (NP a/DT direct/JJ line/NN)\n",
      "  that/WDT\n",
      "  connects/VBZ\n",
      "  through/IN\n",
      "  3/CD\n",
      "  statues/NNS\n",
      "  and/CC\n",
      "  the/DT\n",
      "  Gold/NNP\n",
      "  Dome/NNP\n",
      "  )/)\n",
      "  ,/,\n",
      "  is/VBZ\n",
      "  a/DT\n",
      "  simple/JJ\n",
      "  ,/,\n",
      "  (NP modern/JJ stone/NN)\n",
      "  (NP statue/NN)\n",
      "  of/IN\n",
      "  Mary/NNP\n",
      "  ./.)\n"
     ]
    }
   ],
   "source": [
    "pattern = 'NP: {<DT>?<JJ>*<NN>}'\n",
    "cp = nltk.RegexpParser(pattern)\n",
    "print(cp.parse(s))"
   ]
  },
  {
   "cell_type": "code",
   "execution_count": 8,
   "metadata": {},
   "outputs": [],
   "source": [
    "import spacy\n",
    "s=data['data'][0]['paragraphs'][2]['context']"
   ]
  },
  {
   "cell_type": "code",
   "execution_count": 9,
   "metadata": {},
   "outputs": [
    {
     "data": {
      "text/plain": [
       "The university is the major seat of the Congregation of Holy Cross (albeit not its official headquarters, which are in Rome). Its main seminary, Moreau Seminary, is located on the campus across St. Joseph lake from the Main Building. Old College, the oldest building on campus and located near the shore of St. Mary lake, houses undergraduate seminarians. Retired priests and brothers reside in Fatima House (a former retreat center), Holy Cross House, as well as Columba Hall near the Grotto. The university through the Moreau Seminary has ties to theologian Frederick Buechner. While not Catholic, Buechner has praised writers from Notre Dame and Moreau Seminary created a Buechner Prize for Preaching."
      ]
     },
     "execution_count": 9,
     "metadata": {},
     "output_type": "execute_result"
    }
   ],
   "source": [
    "spacy_nlp = spacy.load('en_core_web_sm')\n",
    "document = spacy_nlp(s)\n",
    "document"
   ]
  },
  {
   "cell_type": "code",
   "execution_count": 10,
   "metadata": {
    "scrolled": true
   },
   "outputs": [
    {
     "name": "stdout",
     "output_type": "stream",
     "text": [
      "Value: the Congregation of Holy Cross\n",
      "Value: Rome\n",
      "Value: Moreau Seminary\n",
      "Value: St. Joseph\n",
      "Value: the Main Building\n",
      "Value: Old College\n",
      "Value: St. Mary\n",
      "Value: Fatima House\n",
      "Value: Holy Cross House\n",
      "Value: Columba Hall\n",
      "Value: Grotto\n",
      "Value: Frederick Buechner\n",
      "Value: Catholic\n",
      "Value: Buechner\n",
      "Value: Notre Dame\n",
      "Value: Moreau Seminary\n"
     ]
    }
   ],
   "source": [
    "for element in document.ents:\n",
    "    print('Value: %s' % (element))"
   ]
  },
  {
   "cell_type": "code",
   "execution_count": 13,
   "metadata": {},
   "outputs": [],
   "source": [
    "ls=[]\n",
    "ls2=[]\n",
    "for i in data[\"data\"]:\n",
    "    for j in i[\"paragraphs\"]:\n",
    "        ls.append(j[\"context\"])\n",
    "        ls2.append(i[\"title\"])"
   ]
  },
  {
   "cell_type": "code",
   "execution_count": 24,
   "metadata": {},
   "outputs": [],
   "source": [
    "ls4=[]\n",
    "ls3=[]\n",
    "for i in data[\"data\"]:\n",
    "    for j in i[\"paragraphs\"]:\n",
    "        #print(\"*****************************\")\n",
    "        for k in j['qas']:\n",
    "            for l in k['answers']:\n",
    "                ls3.append(l[\"text\"])\n",
    "            #print(ls3)\n",
    "        ls4.append(ls3)\n",
    "        ls3=[]"
   ]
  },
  {
   "cell_type": "code",
   "execution_count": 29,
   "metadata": {},
   "outputs": [],
   "source": [
    "df[\"context\"]=ls"
   ]
  },
  {
   "cell_type": "code",
   "execution_count": 30,
   "metadata": {},
   "outputs": [],
   "source": [
    "df[\"title\"]=ls2"
   ]
  },
  {
   "cell_type": "code",
   "execution_count": 33,
   "metadata": {},
   "outputs": [],
   "source": [
    "df['ans']=ls4"
   ]
  },
  {
   "cell_type": "code",
   "execution_count": 42,
   "metadata": {},
   "outputs": [
    {
     "data": {
      "text/html": [
       "<div>\n",
       "<style scoped>\n",
       "    .dataframe tbody tr th:only-of-type {\n",
       "        vertical-align: middle;\n",
       "    }\n",
       "\n",
       "    .dataframe tbody tr th {\n",
       "        vertical-align: top;\n",
       "    }\n",
       "\n",
       "    .dataframe thead th {\n",
       "        text-align: right;\n",
       "    }\n",
       "</style>\n",
       "<table border=\"1\" class=\"dataframe\">\n",
       "  <thead>\n",
       "    <tr style=\"text-align: right;\">\n",
       "      <th></th>\n",
       "      <th>context</th>\n",
       "      <th>title</th>\n",
       "      <th>ans</th>\n",
       "    </tr>\n",
       "  </thead>\n",
       "  <tbody>\n",
       "    <tr>\n",
       "      <th>0</th>\n",
       "      <td>Architecturally, the school has a Catholic cha...</td>\n",
       "      <td>University_of_Notre_Dame</td>\n",
       "      <td>[Saint Bernadette Soubirous, a copper statue o...</td>\n",
       "    </tr>\n",
       "    <tr>\n",
       "      <th>1</th>\n",
       "      <td>As at most other universities, Notre Dame's st...</td>\n",
       "      <td>University_of_Notre_Dame</td>\n",
       "      <td>[September 1876, twice, The Observer, three, 1...</td>\n",
       "    </tr>\n",
       "    <tr>\n",
       "      <th>2</th>\n",
       "      <td>The university is the major seat of the Congre...</td>\n",
       "      <td>University_of_Notre_Dame</td>\n",
       "      <td>[Rome, Moreau Seminary, Old College, Retired p...</td>\n",
       "    </tr>\n",
       "    <tr>\n",
       "      <th>3</th>\n",
       "      <td>The College of Engineering was established in ...</td>\n",
       "      <td>University_of_Notre_Dame</td>\n",
       "      <td>[eight, 1920, the College of Science, five, th...</td>\n",
       "    </tr>\n",
       "    <tr>\n",
       "      <th>4</th>\n",
       "      <td>All of Notre Dame's undergraduate students are...</td>\n",
       "      <td>University_of_Notre_Dame</td>\n",
       "      <td>[Learning Resource Center, five, The First Yea...</td>\n",
       "    </tr>\n",
       "  </tbody>\n",
       "</table>\n",
       "</div>"
      ],
      "text/plain": [
       "                                             context  \\\n",
       "0  Architecturally, the school has a Catholic cha...   \n",
       "1  As at most other universities, Notre Dame's st...   \n",
       "2  The university is the major seat of the Congre...   \n",
       "3  The College of Engineering was established in ...   \n",
       "4  All of Notre Dame's undergraduate students are...   \n",
       "\n",
       "                      title                                                ans  \n",
       "0  University_of_Notre_Dame  [Saint Bernadette Soubirous, a copper statue o...  \n",
       "1  University_of_Notre_Dame  [September 1876, twice, The Observer, three, 1...  \n",
       "2  University_of_Notre_Dame  [Rome, Moreau Seminary, Old College, Retired p...  \n",
       "3  University_of_Notre_Dame  [eight, 1920, the College of Science, five, th...  \n",
       "4  University_of_Notre_Dame  [Learning Resource Center, five, The First Yea...  "
      ]
     },
     "execution_count": 42,
     "metadata": {},
     "output_type": "execute_result"
    }
   ],
   "source": [
    "df.head()"
   ]
  },
  {
   "cell_type": "code",
   "execution_count": 89,
   "metadata": {},
   "outputs": [],
   "source": [
    "ls=[]\n",
    "ls1=[]\n",
    "for i in df['context']:\n",
    "    document = spacy_nlp(i)\n",
    "    for element in document.ents:\n",
    "        ls.append(str(element))\n",
    "    ls1.append(ls)\n",
    "    ls=[]    "
   ]
  },
  {
   "cell_type": "code",
   "execution_count": 92,
   "metadata": {},
   "outputs": [],
   "source": [
    "df[\"entity\"]=ls1"
   ]
  },
  {
   "cell_type": "code",
   "execution_count": 94,
   "metadata": {},
   "outputs": [
    {
     "data": {
      "text/html": [
       "<div>\n",
       "<style scoped>\n",
       "    .dataframe tbody tr th:only-of-type {\n",
       "        vertical-align: middle;\n",
       "    }\n",
       "\n",
       "    .dataframe tbody tr th {\n",
       "        vertical-align: top;\n",
       "    }\n",
       "\n",
       "    .dataframe thead th {\n",
       "        text-align: right;\n",
       "    }\n",
       "</style>\n",
       "<table border=\"1\" class=\"dataframe\">\n",
       "  <thead>\n",
       "    <tr style=\"text-align: right;\">\n",
       "      <th></th>\n",
       "      <th>context</th>\n",
       "      <th>title</th>\n",
       "      <th>ans</th>\n",
       "      <th>entity</th>\n",
       "    </tr>\n",
       "  </thead>\n",
       "  <tbody>\n",
       "    <tr>\n",
       "      <th>0</th>\n",
       "      <td>Architecturally, the school has a Catholic cha...</td>\n",
       "      <td>University_of_Notre_Dame</td>\n",
       "      <td>[Saint Bernadette Soubirous, a copper statue o...</td>\n",
       "      <td>[Catholic, the Main Building's, the Virgin Mar...</td>\n",
       "    </tr>\n",
       "    <tr>\n",
       "      <th>1</th>\n",
       "      <td>As at most other universities, Notre Dame's st...</td>\n",
       "      <td>University_of_Notre_Dame</td>\n",
       "      <td>[September 1876, twice, The Observer, three, 1...</td>\n",
       "      <td>[Notre Dame's, nine, three, Begun, one, Septem...</td>\n",
       "    </tr>\n",
       "    <tr>\n",
       "      <th>2</th>\n",
       "      <td>The university is the major seat of the Congre...</td>\n",
       "      <td>University_of_Notre_Dame</td>\n",
       "      <td>[Rome, Moreau Seminary, Old College, Retired p...</td>\n",
       "      <td>[the Congregation of Holy Cross, Rome, Moreau ...</td>\n",
       "    </tr>\n",
       "    <tr>\n",
       "      <th>3</th>\n",
       "      <td>The College of Engineering was established in ...</td>\n",
       "      <td>University_of_Notre_Dame</td>\n",
       "      <td>[eight, 1920, the College of Science, five, th...</td>\n",
       "      <td>[The College of Engineering, 1920, the College...</td>\n",
       "    </tr>\n",
       "    <tr>\n",
       "      <th>4</th>\n",
       "      <td>All of Notre Dame's undergraduate students are...</td>\n",
       "      <td>University_of_Notre_Dame</td>\n",
       "      <td>[Learning Resource Center, five, The First Yea...</td>\n",
       "      <td>[Notre Dame's, one, five, the First Year of St...</td>\n",
       "    </tr>\n",
       "  </tbody>\n",
       "</table>\n",
       "</div>"
      ],
      "text/plain": [
       "                                             context  \\\n",
       "0  Architecturally, the school has a Catholic cha...   \n",
       "1  As at most other universities, Notre Dame's st...   \n",
       "2  The university is the major seat of the Congre...   \n",
       "3  The College of Engineering was established in ...   \n",
       "4  All of Notre Dame's undergraduate students are...   \n",
       "\n",
       "                      title  \\\n",
       "0  University_of_Notre_Dame   \n",
       "1  University_of_Notre_Dame   \n",
       "2  University_of_Notre_Dame   \n",
       "3  University_of_Notre_Dame   \n",
       "4  University_of_Notre_Dame   \n",
       "\n",
       "                                                 ans  \\\n",
       "0  [Saint Bernadette Soubirous, a copper statue o...   \n",
       "1  [September 1876, twice, The Observer, three, 1...   \n",
       "2  [Rome, Moreau Seminary, Old College, Retired p...   \n",
       "3  [eight, 1920, the College of Science, five, th...   \n",
       "4  [Learning Resource Center, five, The First Yea...   \n",
       "\n",
       "                                              entity  \n",
       "0  [Catholic, the Main Building's, the Virgin Mar...  \n",
       "1  [Notre Dame's, nine, three, Begun, one, Septem...  \n",
       "2  [the Congregation of Holy Cross, Rome, Moreau ...  \n",
       "3  [The College of Engineering, 1920, the College...  \n",
       "4  [Notre Dame's, one, five, the First Year of St...  "
      ]
     },
     "execution_count": 94,
     "metadata": {},
     "output_type": "execute_result"
    }
   ],
   "source": [
    "df.head()"
   ]
  },
  {
   "cell_type": "code",
   "execution_count": 95,
   "metadata": {},
   "outputs": [],
   "source": [
    "df.to_pickle(r\"C:\\Users\\PIYUSH\\Desktop\\Automatic_Question_gen\\data\\entity.pickle\")"
   ]
  },
  {
   "cell_type": "code",
   "execution_count": 3,
   "metadata": {},
   "outputs": [],
   "source": [
    "df=pd.read_pickle(r\"C:\\Users\\PIYUSH\\Desktop\\Automatic_Question_gen\\data\\entity.pickle\")"
   ]
  },
  {
   "cell_type": "code",
   "execution_count": 4,
   "metadata": {},
   "outputs": [
    {
     "data": {
      "text/html": [
       "<div>\n",
       "<style scoped>\n",
       "    .dataframe tbody tr th:only-of-type {\n",
       "        vertical-align: middle;\n",
       "    }\n",
       "\n",
       "    .dataframe tbody tr th {\n",
       "        vertical-align: top;\n",
       "    }\n",
       "\n",
       "    .dataframe thead th {\n",
       "        text-align: right;\n",
       "    }\n",
       "</style>\n",
       "<table border=\"1\" class=\"dataframe\">\n",
       "  <thead>\n",
       "    <tr style=\"text-align: right;\">\n",
       "      <th></th>\n",
       "      <th>context</th>\n",
       "      <th>title</th>\n",
       "      <th>ans</th>\n",
       "      <th>entity</th>\n",
       "    </tr>\n",
       "  </thead>\n",
       "  <tbody>\n",
       "    <tr>\n",
       "      <th>0</th>\n",
       "      <td>Architecturally, the school has a Catholic cha...</td>\n",
       "      <td>University_of_Notre_Dame</td>\n",
       "      <td>[Saint Bernadette Soubirous, a copper statue o...</td>\n",
       "      <td>[Catholic, the Main Building's, the Virgin Mar...</td>\n",
       "    </tr>\n",
       "    <tr>\n",
       "      <th>1</th>\n",
       "      <td>As at most other universities, Notre Dame's st...</td>\n",
       "      <td>University_of_Notre_Dame</td>\n",
       "      <td>[September 1876, twice, The Observer, three, 1...</td>\n",
       "      <td>[Notre Dame's, nine, three, Begun, one, Septem...</td>\n",
       "    </tr>\n",
       "    <tr>\n",
       "      <th>2</th>\n",
       "      <td>The university is the major seat of the Congre...</td>\n",
       "      <td>University_of_Notre_Dame</td>\n",
       "      <td>[Rome, Moreau Seminary, Old College, Retired p...</td>\n",
       "      <td>[the Congregation of Holy Cross, Rome, Moreau ...</td>\n",
       "    </tr>\n",
       "    <tr>\n",
       "      <th>3</th>\n",
       "      <td>The College of Engineering was established in ...</td>\n",
       "      <td>University_of_Notre_Dame</td>\n",
       "      <td>[eight, 1920, the College of Science, five, th...</td>\n",
       "      <td>[The College of Engineering, 1920, the College...</td>\n",
       "    </tr>\n",
       "    <tr>\n",
       "      <th>4</th>\n",
       "      <td>All of Notre Dame's undergraduate students are...</td>\n",
       "      <td>University_of_Notre_Dame</td>\n",
       "      <td>[Learning Resource Center, five, The First Yea...</td>\n",
       "      <td>[Notre Dame's, one, five, the First Year of St...</td>\n",
       "    </tr>\n",
       "  </tbody>\n",
       "</table>\n",
       "</div>"
      ],
      "text/plain": [
       "                                             context  \\\n",
       "0  Architecturally, the school has a Catholic cha...   \n",
       "1  As at most other universities, Notre Dame's st...   \n",
       "2  The university is the major seat of the Congre...   \n",
       "3  The College of Engineering was established in ...   \n",
       "4  All of Notre Dame's undergraduate students are...   \n",
       "\n",
       "                      title  \\\n",
       "0  University_of_Notre_Dame   \n",
       "1  University_of_Notre_Dame   \n",
       "2  University_of_Notre_Dame   \n",
       "3  University_of_Notre_Dame   \n",
       "4  University_of_Notre_Dame   \n",
       "\n",
       "                                                 ans  \\\n",
       "0  [Saint Bernadette Soubirous, a copper statue o...   \n",
       "1  [September 1876, twice, The Observer, three, 1...   \n",
       "2  [Rome, Moreau Seminary, Old College, Retired p...   \n",
       "3  [eight, 1920, the College of Science, five, th...   \n",
       "4  [Learning Resource Center, five, The First Yea...   \n",
       "\n",
       "                                              entity  \n",
       "0  [Catholic, the Main Building's, the Virgin Mar...  \n",
       "1  [Notre Dame's, nine, three, Begun, one, Septem...  \n",
       "2  [the Congregation of Holy Cross, Rome, Moreau ...  \n",
       "3  [The College of Engineering, 1920, the College...  \n",
       "4  [Notre Dame's, one, five, the First Year of St...  "
      ]
     },
     "execution_count": 4,
     "metadata": {},
     "output_type": "execute_result"
    }
   ],
   "source": [
    "df.head()"
   ]
  },
  {
   "cell_type": "code",
   "execution_count": 5,
   "metadata": {},
   "outputs": [
    {
     "data": {
      "text/plain": [
       "['Saint Bernadette Soubirous',\n",
       " 'a copper statue of Christ',\n",
       " 'the Main Building',\n",
       " 'a Marian place of prayer and reflection',\n",
       " 'a golden statue of the Virgin Mary']"
      ]
     },
     "execution_count": 5,
     "metadata": {},
     "output_type": "execute_result"
    }
   ],
   "source": [
    "df['ans'].iloc[0]"
   ]
  },
  {
   "cell_type": "code",
   "execution_count": 58,
   "metadata": {},
   "outputs": [],
   "source": [
    "lines= df['context'].iloc[1]\n",
    "all_words=word_tokenize(lines)\n",
    "all_words=[word.lower() for word in all_words if word.isalpha()]\n",
    "all_words.insert(0,'START_')\n",
    "all_words.insert(len(all_words),'_END')"
   ]
  },
  {
   "cell_type": "code",
   "execution_count": 59,
   "metadata": {},
   "outputs": [],
   "source": [
    "words=set(all_words)"
   ]
  },
  {
   "cell_type": "code",
   "execution_count": 60,
   "metadata": {},
   "outputs": [],
   "source": [
    "max_input=len(all_words)"
   ]
  },
  {
   "cell_type": "code",
   "execution_count": 61,
   "metadata": {},
   "outputs": [],
   "source": [
    "input_words = sorted(list(words))\n",
    "num_encoder_tokens = len(words)\n"
   ]
  },
  {
   "cell_type": "code",
   "execution_count": 62,
   "metadata": {},
   "outputs": [],
   "source": [
    "input_token_index = dict([(word, i+1) for i, word in enumerate(input_words)])"
   ]
  },
  {
   "cell_type": "code",
   "execution_count": 63,
   "metadata": {},
   "outputs": [],
   "source": [
    "reverse_input_char_index = dict((i, word) for word, i in input_token_index.items())"
   ]
  },
  {
   "cell_type": "code",
   "execution_count": 64,
   "metadata": {},
   "outputs": [],
   "source": [
    "encoder_input_data = np.zeros((1,max_input ),dtype='float32')"
   ]
  },
  {
   "cell_type": "code",
   "execution_count": 65,
   "metadata": {},
   "outputs": [
    {
     "data": {
      "text/plain": [
       "(1, 212)"
      ]
     },
     "execution_count": 65,
     "metadata": {},
     "output_type": "execute_result"
    }
   ],
   "source": [
    "(encoder_input_data).shape"
   ]
  },
  {
   "cell_type": "code",
   "execution_count": 66,
   "metadata": {},
   "outputs": [],
   "source": [
    "for t,w in enumerate(all_words):\n",
    "    encoder_input_data[0,t]=input_token_index[w]"
   ]
  },
  {
   "cell_type": "code",
   "execution_count": 163,
   "metadata": {},
   "outputs": [],
   "source": [
    "latent_dim=50\n",
    "encoder_inputs = Input(shape=(None,))\n",
    "enc_emb =  Embedding(latent_dim,num_encoder_tokens, mask_zero = True)(encoder_inputs)\n",
    "encoder_lstm = LSTM(latent_dim,input_shape=(1,124),return_state=True)\n",
    "encoder_outputs, state_h, state_c = encoder_lstm(enc_emb)"
   ]
  },
  {
   "cell_type": "code",
   "execution_count": 67,
   "metadata": {},
   "outputs": [],
   "source": [
    "# define model\n",
    "model = Sequential()\n",
    "model.add(LSTM(212, activation='relu', input_shape=(212,1)))\n",
    "model.add(RepeatVector(212))\n",
    "model.add(LSTM(212, activation='relu'))\n",
    "model.compile(optimizer='adam', loss='mse')"
   ]
  },
  {
   "cell_type": "code",
   "execution_count": 69,
   "metadata": {},
   "outputs": [],
   "source": [
    "\n",
    "encoder_input_data1 = encoder_input_data.reshape((1,212,1))"
   ]
  },
  {
   "cell_type": "code",
   "execution_count": 70,
   "metadata": {},
   "outputs": [
    {
     "data": {
      "text/plain": [
       "<keras.callbacks.History at 0x1dea75728d0>"
      ]
     },
     "execution_count": 70,
     "metadata": {},
     "output_type": "execute_result"
    }
   ],
   "source": [
    "model.fit(encoder_input_data1,encoder_input_data, epochs=300, verbose=0)"
   ]
  },
  {
   "cell_type": "code",
   "execution_count": 71,
   "metadata": {},
   "outputs": [],
   "source": [
    "yhat = model.predict(encoder_input_data1)\n",
    "                "
   ]
  },
  {
   "cell_type": "code",
   "execution_count": 72,
   "metadata": {},
   "outputs": [
    {
     "data": {
      "text/plain": [
       "array([[nan, nan, nan, nan, nan, nan, nan, nan, nan, nan, nan, nan, nan,\n",
       "        nan, nan, nan, nan, nan, nan, nan, nan, nan, nan, nan, nan, nan,\n",
       "        nan, nan, nan, nan, nan, nan, nan, nan, nan, nan, nan, nan, nan,\n",
       "        nan, nan, nan, nan, nan, nan, nan, nan, nan, nan, nan, nan, nan,\n",
       "        nan, nan, nan, nan, nan, nan, nan, nan, nan, nan, nan, nan, nan,\n",
       "        nan, nan, nan, nan, nan, nan, nan, nan, nan, nan, nan, nan, nan,\n",
       "        nan, nan, nan, nan, nan, nan, nan, nan, nan, nan, nan, nan, nan,\n",
       "        nan, nan, nan, nan, nan, nan, nan, nan, nan, nan, nan, nan, nan,\n",
       "        nan, nan, nan, nan, nan, nan, nan, nan, nan, nan, nan, nan, nan,\n",
       "        nan, nan, nan, nan, nan, nan, nan, nan, nan, nan, nan, nan, nan,\n",
       "        nan, nan, nan, nan, nan, nan, nan, nan, nan, nan, nan, nan, nan,\n",
       "        nan, nan, nan, nan, nan, nan, nan, nan, nan, nan, nan, nan, nan,\n",
       "        nan, nan, nan, nan, nan, nan, nan, nan, nan, nan, nan, nan, nan,\n",
       "        nan, nan, nan, nan, nan, nan, nan, nan, nan, nan, nan, nan, nan,\n",
       "        nan, nan, nan, nan, nan, nan, nan, nan, nan, nan, nan, nan, nan,\n",
       "        nan, nan, nan, nan, nan, nan, nan, nan, nan, nan, nan, nan, nan,\n",
       "        nan, nan, nan, nan]], dtype=float32)"
      ]
     },
     "execution_count": 72,
     "metadata": {},
     "output_type": "execute_result"
    }
   ],
   "source": [
    "yhat"
   ]
  },
  {
   "cell_type": "code",
   "execution_count": null,
   "metadata": {},
   "outputs": [],
   "source": []
  },
  {
   "cell_type": "code",
   "execution_count": 100,
   "metadata": {},
   "outputs": [],
   "source": [
    "model = Model([encoder_inputs])"
   ]
  },
  {
   "cell_type": "code",
   "execution_count": 73,
   "metadata": {},
   "outputs": [],
   "source": [
    "model.compile(optimizer='rmsprop', loss='categorical_crossentropy', metrics=['acc'])"
   ]
  },
  {
   "cell_type": "code",
   "execution_count": 101,
   "metadata": {},
   "outputs": [
    {
     "data": {
      "text/html": [
       "<div>\n",
       "<style scoped>\n",
       "    .dataframe tbody tr th:only-of-type {\n",
       "        vertical-align: middle;\n",
       "    }\n",
       "\n",
       "    .dataframe tbody tr th {\n",
       "        vertical-align: top;\n",
       "    }\n",
       "\n",
       "    .dataframe thead th {\n",
       "        text-align: right;\n",
       "    }\n",
       "</style>\n",
       "<table border=\"1\" class=\"dataframe\">\n",
       "  <thead>\n",
       "    <tr style=\"text-align: right;\">\n",
       "      <th></th>\n",
       "      <th>context</th>\n",
       "      <th>title</th>\n",
       "      <th>ans</th>\n",
       "      <th>entity</th>\n",
       "    </tr>\n",
       "  </thead>\n",
       "  <tbody>\n",
       "    <tr>\n",
       "      <th>0</th>\n",
       "      <td>Architecturally, the school has a Catholic cha...</td>\n",
       "      <td>University_of_Notre_Dame</td>\n",
       "      <td>[Saint Bernadette Soubirous, a copper statue o...</td>\n",
       "      <td>[Catholic, the Main Building's, the Virgin Mar...</td>\n",
       "    </tr>\n",
       "    <tr>\n",
       "      <th>1</th>\n",
       "      <td>As at most other universities, Notre Dame's st...</td>\n",
       "      <td>University_of_Notre_Dame</td>\n",
       "      <td>[September 1876, twice, The Observer, three, 1...</td>\n",
       "      <td>[Notre Dame's, nine, three, Begun, one, Septem...</td>\n",
       "    </tr>\n",
       "    <tr>\n",
       "      <th>2</th>\n",
       "      <td>The university is the major seat of the Congre...</td>\n",
       "      <td>University_of_Notre_Dame</td>\n",
       "      <td>[Rome, Moreau Seminary, Old College, Retired p...</td>\n",
       "      <td>[the Congregation of Holy Cross, Rome, Moreau ...</td>\n",
       "    </tr>\n",
       "    <tr>\n",
       "      <th>3</th>\n",
       "      <td>The College of Engineering was established in ...</td>\n",
       "      <td>University_of_Notre_Dame</td>\n",
       "      <td>[eight, 1920, the College of Science, five, th...</td>\n",
       "      <td>[The College of Engineering, 1920, the College...</td>\n",
       "    </tr>\n",
       "    <tr>\n",
       "      <th>4</th>\n",
       "      <td>All of Notre Dame's undergraduate students are...</td>\n",
       "      <td>University_of_Notre_Dame</td>\n",
       "      <td>[Learning Resource Center, five, The First Yea...</td>\n",
       "      <td>[Notre Dame's, one, five, the First Year of St...</td>\n",
       "    </tr>\n",
       "  </tbody>\n",
       "</table>\n",
       "</div>"
      ],
      "text/plain": [
       "                                             context  \\\n",
       "0  Architecturally, the school has a Catholic cha...   \n",
       "1  As at most other universities, Notre Dame's st...   \n",
       "2  The university is the major seat of the Congre...   \n",
       "3  The College of Engineering was established in ...   \n",
       "4  All of Notre Dame's undergraduate students are...   \n",
       "\n",
       "                      title  \\\n",
       "0  University_of_Notre_Dame   \n",
       "1  University_of_Notre_Dame   \n",
       "2  University_of_Notre_Dame   \n",
       "3  University_of_Notre_Dame   \n",
       "4  University_of_Notre_Dame   \n",
       "\n",
       "                                                 ans  \\\n",
       "0  [Saint Bernadette Soubirous, a copper statue o...   \n",
       "1  [September 1876, twice, The Observer, three, 1...   \n",
       "2  [Rome, Moreau Seminary, Old College, Retired p...   \n",
       "3  [eight, 1920, the College of Science, five, th...   \n",
       "4  [Learning Resource Center, five, The First Yea...   \n",
       "\n",
       "                                              entity  \n",
       "0  [Catholic, the Main Building's, the Virgin Mar...  \n",
       "1  [Notre Dame's, nine, three, Begun, one, Septem...  \n",
       "2  [the Congregation of Holy Cross, Rome, Moreau ...  \n",
       "3  [The College of Engineering, 1920, the College...  \n",
       "4  [Notre Dame's, one, five, the First Year of St...  "
      ]
     },
     "execution_count": 101,
     "metadata": {},
     "output_type": "execute_result"
    }
   ],
   "source": [
    "df.head()"
   ]
  },
  {
   "cell_type": "code",
   "execution_count": 122,
   "metadata": {},
   "outputs": [],
   "source": [
    "data1=\"\"\n",
    "for i in range(df.shape[0]):\n",
    "    if df['title'].iloc[i] =='University_of_Notre_Dame':\n",
    "        data1+=(df.context.iloc[i])\n",
    "    else:\n",
    "        break\n",
    "    "
   ]
  },
  {
   "cell_type": "code",
   "execution_count": 124,
   "metadata": {},
   "outputs": [
    {
     "data": {
      "text/plain": [
       "'Architecturally, the school has a Catholic character. Atop the Main Building\\'s gold dome is a golden statue of the Virgin Mary. Immediately in front of the Main Building and facing it, is a copper statue of Christ with arms upraised with the legend \"Venite Ad Me Omnes\". Next to the Main Building is the Basilica of the Sacred Heart. Immediately behind the basilica is the Grotto, a Marian place of prayer and reflection. It is a replica of the grotto at Lourdes, France where the Virgin Mary reputedly appeared to Saint Bernadette Soubirous in 1858. At the end of the main drive (and in a direct line that connects through 3 statues and the Gold Dome), is a simple, modern stone statue of Mary.As at most other universities, Notre Dame\\'s students run a number of news media outlets. The nine student-run outlets include three newspapers, both a radio and television station, and several magazines and journals. Begun as a one-page journal in September 1876, the Scholastic magazine is issued twice monthly and claims to be the oldest continuous collegiate publication in the United States. The other magazine, The Juggler, is released twice a year and focuses on student literature and artwork. The Dome yearbook is published annually. The newspapers have varying publication interests, with The Observer published daily and mainly reporting university and other news, and staffed by students from both Notre Dame and Saint Mary\\'s College. Unlike Scholastic and The Dome, The Observer is an independent publication and does not have a faculty advisor or any editorial oversight from the University. In 1987, when some students believed that The Observer began to show a conservative bias, a liberal newspaper, Common Sense was published. Likewise, in 2003, when other students believed that the paper showed a liberal bias, the conservative paper Irish Rover went into production. Neither paper is published as often as The Observer; however, all three are distributed to all students. Finally, in Spring 2008 an undergraduate journal for political science research, Beyond Politics, made its debut.The university is the major seat of the Congregation of Holy Cross (albeit not its official headquarters, which are in Rome). Its main seminary, Moreau Seminary, is located on the campus across St. Joseph lake from the Main Building. Old College, the oldest building on campus and located near the shore of St. Mary lake, houses undergraduate seminarians. Retired priests and brothers reside in Fatima House (a former retreat center), Holy Cross House, as well as Columba Hall near the Grotto. The university through the Moreau Seminary has ties to theologian Frederick Buechner. While not Catholic, Buechner has praised writers from Notre Dame and Moreau Seminary created a Buechner Prize for Preaching.The College of Engineering was established in 1920, however, early courses in civil and mechanical engineering were a part of the College of Science since the 1870s. Today the college, housed in the Fitzpatrick, Cushing, and Stinson-Remick Halls of Engineering, includes five departments of study – aerospace and mechanical engineering, chemical and biomolecular engineering, civil engineering and geological sciences, computer science and engineering, and electrical engineering – with eight B.S. degrees offered. Additionally, the college offers five-year dual degree programs with the Colleges of Arts and Letters and of Business awarding additional B.A. and Master of Business Administration (MBA) degrees, respectively.All of Notre Dame\\'s undergraduate students are a part of one of the five undergraduate colleges at the school or are in the First Year of Studies program. The First Year of Studies program was established in 1962 to guide incoming freshmen in their first year at the school before they have declared a major. Each student is given an academic advisor from the program who helps them to choose classes that give them exposure to any major in which they are interested. The program also includes a Learning Resource Center which provides time management, collaborative learning, and subject tutoring. This program has been recognized previously, by U.S. News & World Report, as outstanding.The university first offered graduate degrees, in the form of a Master of Arts (MA), in the 1854–1855 academic year. The program expanded to include Master of Laws (LL.M.) and Master of Civil Engineering in its early stages of growth, before a formal graduate school education was developed with a thesis not required to receive the degrees. This changed in 1924 with formal requirements developed for graduate degrees, including offering Doctorate (PhD) degrees. Today each of the five colleges offer graduate education. Most of the departments from the College of Arts and Letters offer PhD programs, while a professional Master of Divinity (M.Div.) program also exists. All of the departments in the College of Science offer PhD programs, except for the Department of Pre-Professional Studies. The School of Architecture offers a Master of Architecture, while each of the departments of the College of Engineering offer PhD programs. The College of Business offers multiple professional programs including MBA and Master of Science in Accountancy programs. It also operates facilities in Chicago and Cincinnati for its executive MBA program. Additionally, the Alliance for Catholic Education program offers a Master of Education program where students study at the university during the summer and teach in Catholic elementary schools, middle schools, and high schools across the Southern United States for two school years.The Joan B. Kroc Institute for International Peace Studies at the University of Notre Dame is dedicated to research, education and outreach on the causes of violent conflict and the conditions for sustainable peace. It offers PhD, Master\\'s, and undergraduate degrees in peace studies. It was founded in 1986 through the donations of Joan B. Kroc, the widow of McDonald\\'s owner Ray Kroc. The institute was inspired by the vision of the Rev. Theodore M. Hesburgh CSC, President Emeritus of the University of Notre Dame. The institute has contributed to international policy discussions about peace building practices.The library system of the university is divided between the main library and each of the colleges and schools. The main building is the 14-story Theodore M. Hesburgh Library, completed in 1963, which is the third building to house the main collection of books. The front of the library is adorned with the Word of Life mural designed by artist Millard Sheets. This mural is popularly known as \"Touchdown Jesus\" because of its proximity to Notre Dame Stadium and Jesus\\' arms appearing to make the signal for a touchdown.Notre Dame is known for its competitive admissions, with the incoming class enrolling in fall 2015 admitting 3,577 from a pool of 18,156 (19.7%). The academic profile of the enrolled class continues to rate among the top 10 to 15 in the nation for national research universities. The university practices a non-restrictive early action policy that allows admitted students to consider admission to Notre Dame as well as any other colleges to which they were accepted. 1,400 of the 3,577 (39.1%) were admitted under the early action plan. Admitted students came from 1,311 high schools and the average student traveled more than 750 miles to Notre Dame, making it arguably the most representative university in the United States. While all entering students begin in the College of the First Year of Studies, 25% have indicated they plan to study in the liberal arts or social sciences, 24% in engineering, 24% in business, 24% in science, and 3% in architecture.In 2015-2016, Notre Dame ranked 18th overall among \"national universities\" in the United States in U.S. News & World Report\\'s Best Colleges 2016. In 2014, USA Today ranked Notre Dame 10th overall for American universities based on data from College Factual. Forbes.com\\'s America\\'s Best Colleges ranks Notre Dame 13th among colleges in the United States in 2015, 8th among Research Universities, and 1st in the Midwest. U.S. News & World Report also lists Notre Dame Law School as 22nd overall. BusinessWeek ranks Mendoza College of Business undergraduate school as 1st overall. It ranks the MBA program as 20th overall. The Philosophical Gourmet Report ranks Notre Dame\\'s graduate philosophy program as 15th nationally, while ARCHITECT Magazine ranked the undergraduate architecture program as 12th nationally. Additionally, the study abroad program ranks sixth in highest participation percentage in the nation, with 57.6% of students choosing to study abroad in 17 countries. According to payscale.com, undergraduate alumni of University of Notre Dame have a mid-career median salary $110,000, making it the 24th highest among colleges and universities in the United States. The median starting salary of $55,300 ranked 58th in the same peer group.Father Joseph Carrier, C.S.C. was Director of the Science Museum and the Library and Professor of Chemistry and Physics until 1874. Carrier taught that scientific research and its promise for progress were not antagonistic to the ideals of intellectual and moral culture endorsed by the Church. One of Carrier\\'s students was Father John Augustine Zahm (1851–1921) who was made Professor and Co-Director of the Science Department at age 23 and by 1900 was a nationally prominent scientist and naturalist. Zahm was active in the Catholic Summer School movement, which introduced Catholic laity to contemporary intellectual issues. His book Evolution and Dogma (1896) defended certain aspects of evolutionary theory as true, and argued, moreover, that even the great Church teachers Thomas Aquinas and Augustine taught something like it. The intervention of Irish American Catholics in Rome prevented Zahm\\'s censure by the Vatican. In 1913, Zahm and former President Theodore Roosevelt embarked on a major expedition through the Amazon.In 1882, Albert Zahm (John Zahm\\'s brother) built an early wind tunnel used to compare lift to drag of aeronautical models. Around 1899, Professor Jerome Green became the first American to send a wireless message. In 1931, Father Julius Nieuwland performed early work on basic reactions that was used to create neoprene. Study of nuclear physics at the university began with the building of a nuclear accelerator in 1936, and continues now partly through a partnership in the Joint Institute for Nuclear Astrophysics.The Lobund Institute grew out of pioneering research in germ-free-life which began in 1928. This area of research originated in a question posed by Pasteur as to whether animal life was possible without bacteria. Though others had taken up this idea, their research was short lived and inconclusive. Lobund was the first research organization to answer definitively, that such life is possible and that it can be prolonged through generations. But the objective was not merely to answer Pasteur\\'s question but also to produce the germ free animal as a new tool for biological and medical research. This objective was reached and for years Lobund was a unique center for the study and production of germ free animals and for their use in biological and medical investigations. Today the work has spread to other universities. In the beginning it was under the Department of Biology and a program leading to the master\\'s degree accompanied the research program. In the 1940s Lobund achieved independent status as a purely research organization and in 1950 was raised to the status of an Institute. In 1958 it was brought back into the Department of Biology as integral part of that department, but with its own program leading to the degree of PhD in Gnotobiotics.The Review of Politics was founded in 1939 by Gurian, modeled after German Catholic journals. It quickly emerged as part of an international Catholic intellectual revival, offering an alternative vision to positivist philosophy. For 44 years, the Review was edited by Gurian, Matthew Fitzsimons, Frederick Crosson, and Thomas Stritch. Intellectual leaders included Gurian, Jacques Maritain, Frank O\\'Malley, Leo Richard Ward, F. A. Hermens, and John U. Nef. It became a major forum for political ideas and modern political concerns, especially from a Catholic and scholastic tradition.As of 2012[update] research continued in many fields. The university president, John Jenkins, described his hope that Notre Dame would become \"one of the pre–eminent research institutions in the world\" in his inaugural address. The university has many multi-disciplinary institutes devoted to research in varying fields, including the Medieval Institute, the Kellogg Institute for International Studies, the Kroc Institute for International Peace studies, and the Center for Social Concerns. Recent research includes work on family conflict and child development, genome mapping, the increasing trade deficit of the United States with China, studies in fluid mechanics, computational science and engineering, and marketing trends on the Internet. As of 2013, the university is home to the Notre Dame Global Adaptation Index which ranks countries annually based on how vulnerable they are to climate change and how prepared they are to adapt.In 2014 the Notre Dame student body consisted of 12,179 students, with 8,448 undergraduates, 2,138 graduate and professional and 1,593 professional (Law, M.Div., Business, M.Ed.) students. Around 21–24% of students are children of alumni, and although 37% of students come from the Midwestern United States, the student body represents all 50 states and 100 countries. As of March 2007[update] The Princeton Review ranked the school as the fifth highest \\'dream school\\' for parents to send their children. As of March 2015[update] The Princeton Review ranked Notre Dame as the ninth highest. The school has been previously criticized for its lack of diversity, and The Princeton Review ranks the university highly among schools at which \"Alternative Lifestyles [are] Not an Alternative.\" It has also been commended by some diversity oriented publications; Hispanic Magazine in 2004 ranked the university ninth on its list of the top–25 colleges for Latinos, and The Journal of Blacks in Higher Education recognized the university in 2006 for raising enrollment of African-American students. With 6,000 participants, the university\\'s intramural sports program was named in 2004 by Sports Illustrated as the best program in the country, while in 2007 The Princeton Review named it as the top school where \"Everyone Plays Intramural Sports.\" The annual Bookstore Basketball tournament is the largest outdoor five-on-five tournament in the world with over 700 teams participating each year, while the Notre Dame Men\\'s Boxing Club hosts the annual Bengal Bouts tournament that raises money for the Holy Cross Missions in Bangladesh.About 80% of undergraduates and 20% of graduate students live on campus. The majority of the graduate students on campus live in one of four graduate housing complexes on campus, while all on-campus undergraduates live in one of the 29 residence halls. Because of the religious affiliation of the university, all residence halls are single-sex, with 15 male dorms and 14 female dorms. The university maintains a visiting policy (known as parietal hours) for those students who live in dormitories, specifying times when members of the opposite sex are allowed to visit other students\\' dorm rooms; however, all residence halls have 24-hour social spaces for students regardless of gender. Many residence halls have at least one nun and/or priest as a resident. There are no traditional social fraternities or sororities at the university, but a majority of students live in the same residence hall for all four years. Some intramural sports are based on residence hall teams, where the university offers the only non-military academy program of full-contact intramural American football. At the end of the intramural season, the championship game is played on the field in Notre Dame Stadium.The university is affiliated with the Congregation of Holy Cross (Latin: Congregatio a Sancta Cruce, abbreviated postnominals: \"CSC\"). While religious affiliation is not a criterion for admission, more than 93% of students identify as Christian, with over 80% of the total being Catholic. Collectively, Catholic Mass is celebrated over 100 times per week on campus, and a large campus ministry program provides for the faith needs of the community. There are multitudes of religious statues and artwork around campus, most prominent of which are the statue of Mary on the Main Building, the Notre Dame Grotto, and the Word of Life mural on Hesburgh Library depicting Christ as a teacher. Additionally, every classroom displays a crucifix. There are many religious clubs (catholic and non-Catholic) at the school, including Council #1477 of the Knights of Columbus (KOC), Baptist Collegiate Ministry (BCM), Jewish Club, Muslim Student Association, Orthodox Christian Fellowship, The Mormon Club, and many more. The Notre Dame KofC are known for being the first collegiate council of KofC, operating a charitable concession stand during every home football game and owning their own building on campus which can be used as a cigar lounge. Fifty-seven chapels are located throughout the campus.This Main Building, and the library collection, was entirely destroyed by a fire in April 1879, and the school closed immediately and students were sent home. The university founder, Fr. Sorin and the president at the time, the Rev. William Corby, immediately planned for the rebuilding of the structure that had housed virtually the entire University. Construction was started on the 17th of May and by the incredible zeal of administrator and workers the building was completed before the fall semester of 1879. The library collection was also rebuilt and stayed housed in the new Main Building for years afterwards. Around the time of the fire, a music hall was opened. Eventually becoming known as Washington Hall, it hosted plays and musical acts put on by the school. By 1880, a science program was established at the university, and a Science Hall (today LaFortune Student Center) was built in 1883. The hall housed multiple classrooms and science labs needed for early research at the university.In 1919 Father James Burns became president of Notre Dame, and in three years he produced an academic revolution that brought the school up to national standards by adopting the elective system and moving away from the university\\'s traditional scholastic and classical emphasis. By contrast, the Jesuit colleges, bastions of academic conservatism, were reluctant to move to a system of electives. Their graduates were shut out of Harvard Law School for that reason. Notre Dame continued to grow over the years, adding more colleges, programs, and sports teams. By 1921, with the addition of the College of Commerce, Notre Dame had grown from a small college to a university with five colleges and a professional law school. The university continued to expand and add new residence halls and buildings with each subsequent president.One of the main driving forces in the growth of the University was its football team, the Notre Dame Fighting Irish. Knute Rockne became head coach in 1918. Under Rockne, the Irish would post a record of 105 wins, 12 losses, and five ties. During his 13 years the Irish won three national championships, had five undefeated seasons, won the Rose Bowl in 1925, and produced players such as George Gipp and the \"Four Horsemen\". Knute Rockne has the highest winning percentage (.881) in NCAA Division I/FBS football history. Rockne\\'s offenses employed the Notre Dame Box and his defenses ran a 7–2–2 scheme. The last game Rockne coached was on December 14, 1930 when he led a group of Notre Dame all-stars against the New York Giants in New York City.The success of its football team made Notre Dame a household name. The success of Note Dame reflected rising status of Irish Americans and Catholics in the 1920s. Catholics rallied up around the team and listen to the games on the radio, especially when it knocked off the schools that symbolized the Protestant establishment in America — Harvard, Yale, Princeton, and Army. Yet this role as high-profile flagship institution of Catholicism made it an easy target of anti-Catholicism. The most remarkable episode of violence was the clash between Notre Dame students and the Ku Klux Klan in 1924. Nativism and anti-Catholicism, especially when directed towards immigrants, were cornerstones of the KKK\\'s rhetoric, and Notre Dame was seen as a symbol of the threat posed by the Catholic Church. The Klan decided to have a week-long Klavern in South Bend. Clashes with the student body started on March 17, when students, aware of the anti-Catholic animosity, blocked the Klansmen from descending from their trains in the South Bend station and ripped the KKK clothes and regalia. On May 19 thousands of students massed downtown protesting the Klavern, and only the arrival of college president Fr. Matthew Walsh prevented any further clashes. The next day, football coach Knute Rockne spoke at a campus rally and implored the students to obey the college president and refrain from further violence. A few days later the Klavern broke up, but the hostility shown by the students was an omen and a contribution to the downfall of the KKK in Indiana.Holy Cross Father John Francis O\\'Hara was elected vice-president in 1933 and president of Notre Dame in 1934. During his tenure at Notre Dame, he brought numerous refugee intellectuals to campus; he selected Frank H. Spearman, Jeremiah D. M. Ford, Irvin Abell, and Josephine Brownson for the Laetare Medal, instituted in 1883. O\\'Hara strongly believed that the Fighting Irish football team could be an effective means to \"acquaint the public with the ideals that dominate\" Notre Dame. He wrote, \"Notre Dame football is a spiritual service because it is played for the honor and glory of God and of his Blessed Mother. When St. Paul said: \\'Whether you eat or drink, or whatsoever else you do, do all for the glory of God,\\' he included football.\"The Rev. John J. Cavanaugh, C.S.C. served as president from 1946 to 1952. Cavanaugh\\'s legacy at Notre Dame in the post-war years was devoted to raising academic standards and reshaping the university administration to suit it to an enlarged educational mission and an expanded student body and stressing advanced studies and research at a time when Notre Dame quadrupled in student census, undergraduate enrollment increased by more than half, and graduate student enrollment grew fivefold. Cavanaugh also established the Lobund Institute for Animal Studies and Notre Dame\\'s Medieval Institute. Cavanaugh also presided over the construction of the Nieuwland Science Hall, Fisher Hall, and the Morris Inn, as well as the Hall of Liberal Arts (now O\\'Shaughnessy Hall), made possible by a donation from I.A. O\\'Shaughnessy, at the time the largest ever made to an American Catholic university. Cavanaugh also established a system of advisory councils at the university, which continue today and are vital to the university\\'s governance and developmentThe Rev. Theodore Hesburgh, C.S.C., (1917–2015) served as president for 35 years (1952–87) of dramatic transformations. In that time the annual operating budget rose by a factor of 18 from $9.7 million to $176.6 million, and the endowment by a factor of 40 from $9 million to $350 million, and research funding by a factor of 20 from $735,000 to $15 million. Enrollment nearly doubled from 4,979 to 9,600, faculty more than doubled 389 to 950, and degrees awarded annually doubled from 1,212 to 2,500.Hesburgh is also credited with transforming the face of Notre Dame by making it a coeducational institution. In the mid-1960s Notre Dame and Saint Mary\\'s College developed a co-exchange program whereby several hundred students took classes not offered at their home institution, an arrangement that added undergraduate women to a campus that already had a few women in the graduate schools. After extensive debate, merging with St. Mary\\'s was rejected, primarily because of the differential in faculty qualifications and pay scales. \"In American college education,\" explained the Rev. Charles E. Sheedy, C.S.C., Notre Dame\\'s Dean of Arts and Letters, \"certain features formerly considered advantageous and enviable are now seen as anachronistic and out of place.... In this environment of diversity, the integration of the sexes is a normal and expected aspect, replacing separatism.\" Thomas Blantz, C.S.C., Notre Dame\\'s Vice President of Student Affairs, added that coeducation \"opened up a whole other pool of very bright students.\" Two of the male residence halls were converted for the newly admitted female students that first year, while two others were converted for the next school year. In 1971 Mary Ann Proctor became the first female undergraduate; she transferred from St. Mary\\'s College. In 1972 the first woman to graduate was Angela Sienko, who earned a bachelor\\'s degree in marketing.In the 18 years under the presidency of Edward Malloy, C.S.C., (1987–2005), there was a rapid growth in the school\\'s reputation, faculty, and resources. He increased the faculty by more than 500 professors; the academic quality of the student body has improved dramatically, with the average SAT score rising from 1240 to 1360; the number of minority students more than doubled; the endowment grew from $350 million to more than $3 billion; the annual operating budget rose from $177 million to more than $650 million; and annual research funding improved from $15 million to more than $70 million. Notre Dame\\'s most recent[when?] capital campaign raised $1.1 billion, far exceeding its goal of $767 million, and is the largest in the history of Catholic higher education.Since 2005, Notre Dame has been led by John I. Jenkins, C.S.C., the 17th president of the university. Jenkins took over the position from Malloy on July 1, 2005. In his inaugural address, Jenkins described his goals of making the university a leader in research that recognizes ethics and building the connection between faith and studies. During his tenure, Notre Dame has increased its endowment, enlarged its student body, and undergone many construction projects on campus, including Compton Family Ice Arena, a new architecture hall, additional residence halls, and the Campus Crossroads, a $400m enhancement and expansion of Notre Dame Stadium.Because of its Catholic identity, a number of religious buildings stand on campus. The Old College building has become one of two seminaries on campus run by the Congregation of Holy Cross. The current Basilica of the Sacred Heart is located on the spot of Fr. Sorin\\'s original church, which became too small for the growing college. It is built in French Revival style and it is decorated by stained glass windows imported directly from France. The interior was painted by Luigi Gregori, an Italian painter invited by Fr. Sorin to be artist in residence. The Basilica also features a bell tower with a carillon. Inside the church there are also sculptures by Ivan Mestrovic. The Grotto of Our Lady of Lourdes, which was built in 1896, is a replica of the original in Lourdes, France. It is very popular among students and alumni as a place of prayer and meditation, and it is considered one of the most beloved spots on campus.A Science Hall was built in 1883 under the direction of Fr. Zahm, but in 1950 it was converted to a student union building and named LaFortune Center, after Joseph LaFortune, an oil executive from Tulsa, Oklahoma. Commonly known as \"LaFortune\" or \"LaFun,\" it is a 4-story building of 83,000 square feet that provides the Notre Dame community with a meeting place for social, recreational, cultural, and educational activities. LaFortune employs 35 part-time student staff and 29 full-time non-student staff and has an annual budget of $1.2 million. Many businesses, services, and divisions of The Office of Student Affairs are found within. The building also houses restaurants from national restaurant chains.Since the construction of its oldest buildings, the university\\'s physical plant has grown substantially. Over the years 29 residence halls have been built to accommodate students and each has been constructed with its own chapel. Many academic building were added together with a system of libraries, the most prominent of which is the Theodore Hesburgh Library, built in 1963 and today containing almost 4 million books. Since 2004, several buildings have been added, including the DeBartolo Performing Arts Center, the Guglielmino Complex, and the Jordan Hall of Science. Additionally, a new residence for men, Duncan Hall, was begun on March 8, 2007, and began accepting residents for the Fall 2008 semester. Ryan Hall was completed and began housing undergraduate women in the fall of 2009. A new engineering building, Stinson-Remick Hall, a new combination Center for Social Concerns/Institute for Church Life building, Geddes Hall, and a law school addition have recently been completed as well. Additionally the new hockey arena opened in the fall of 2011. The Stayer Center for Executive Education, which houses the Mendoza College of Business Executive Education Department opened in March 2013 just South of the Mendoza College of Business building. Because of its long athletic tradition, the university features also many building dedicated to sport. The most famous is Notre Dame Stadium, home of the Fighting Irish football team; it has been renovated several times and today it can hold more than 80 thousand people. Prominent venues include also the Edmund P. Joyce Center, with indoor basketball and volleyball courts, and the Compton Family Ice Arena, a two-rink facility dedicated to hockey. Also, there are many outdoor fields, as the Frank Eck Stadium for baseball.The University of Notre Dame has made being a sustainability leader an integral part of its mission, creating the Office of Sustainability in 2008 to achieve a number of goals in the areas of power generation, design and construction, waste reduction, procurement, food services, transportation, and water.As of 2012[update] four building construction projects were pursuing LEED-Certified status and three were pursuing LEED Silver. Notre Dame\\'s dining services sources 40% of its food locally and offers sustainably caught seafood as well as many organic, fair-trade, and vegan options. On the Sustainable Endowments Institute\\'s College Sustainability Report Card 2010, University of Notre Dame received a \"B\" grade. The university also houses the Kroc Institute for International Peace Studies. Father Gustavo Gutierrez, the founder of Liberation Theology is a current faculty member.The university owns several centers around the world used for international studies and research, conferences abroad, and alumni support. The university has had a presence in London, England, since 1968. Since 1998, its London center has been based in the former United University Club at 1 Suffolk Street in Trafalgar Square. The center enables the Colleges of Arts & Letters, Business Administration, Science, Engineering and the Law School to develop their own programs in London, as well as hosting conferences and symposia. Other Global Gateways are located in Beijing, Chicago, Dublin, Jerusalem and Rome.The College of Arts and Letters was established as the university\\'s first college in 1842 with the first degrees given in 1849. The university\\'s first academic curriculum was modeled after the Jesuit Ratio Studiorum from Saint Louis University. Today the college, housed in O\\'Shaughnessy Hall, includes 20 departments in the areas of fine arts, humanities, and social sciences, and awards Bachelor of Arts (B.A.) degrees in 33 majors, making it the largest of the university\\'s colleges. There are around 2,500 undergraduates and 750 graduates enrolled in the college.The College of Science was established at the university in 1865 by president Father Patrick Dillon. Dillon\\'s scientific courses were six years of work, including higher-level mathematics courses. Today the college, housed in the newly built Jordan Hall of Science, includes over 1,200 undergraduates in six departments of study – biology, chemistry, mathematics, physics, pre-professional studies, and applied and computational mathematics and statistics (ACMS) – each awarding Bachelor of Science (B.S.) degrees. According to university statistics, its science pre-professional program has one of the highest acceptance rates to medical school of any university in the United States.The School of Architecture was established in 1899, although degrees in architecture were first awarded by the university in 1898. Today the school, housed in Bond Hall, offers a five-year undergraduate program leading to the Bachelor of Architecture degree. All undergraduate students study the third year of the program in Rome. The university is globally recognized for its Notre Dame School of Architecture, a faculty that teaches (pre-modernist) traditional and classical architecture and urban planning (e.g. following the principles of New Urbanism and New Classical Architecture). It also awards the renowned annual Driehaus Architecture Prize.The library system also includes branch libraries for Architecture, Chemistry & Physics, Engineering, Law, and Mathematics as well as information centers in the Mendoza College of Business, the Kellogg Institute for International Studies, the Joan B. Kroc Institute for International Peace Studies, and a slide library in O\\'Shaughnessy Hall. A theology library was also opened in fall of 2015. Located on the first floor of Stanford Hall, it is the first branch of the library system to be housed in a dorm room. The library system holds over three million volumes, was the single largest university library in the world upon its completion, and remains one of the 100 largest libraries in the country.The rise of Hitler and other dictators in the 1930s forced numerous Catholic intellectuals to flee Europe; president John O\\'Hara brought many to Notre Dame. From Germany came Anton-Hermann Chroust (1907–1982) in classics and law, and Waldemar Gurian a German Catholic intellectual of Jewish descent. Positivism dominated American intellectual life in the 1920s onward but in marked contrast, Gurian received a German Catholic education and wrote his doctoral dissertation under Max Scheler. Ivan Meštrović (1883–1962), a renowned sculptor, brought Croatian culture to campus, 1955–62. Yves Simon (1903–61), brought to ND in the 1940s the insights of French studies in the Aristotelian-Thomistic tradition of philosophy; his own teacher Jacques Maritain (1882–73) was a frequent visitor to campus.The University of Notre Dame du Lac (or simply Notre Dame /ˌnoʊtərˈdeɪm/ NOH-tər-DAYM) is a Catholic research university located adjacent to South Bend, Indiana, in the United States. In French, Notre Dame du Lac means \"Our Lady of the Lake\" and refers to the university\\'s patron saint, the Virgin Mary. The main campus covers 1,250 acres in a suburban setting and it contains a number of recognizable landmarks, such as the Golden Dome, the \"Word of Life\" mural (commonly known as Touchdown Jesus), and the Basilica.Notre Dame rose to national prominence in the early 1900s for its Fighting Irish football team, especially under the guidance of the legendary coach Knute Rockne. The university\\'s athletic teams are members of the NCAA Division I and are known collectively as the Fighting Irish. The football team, an Independent, has accumulated eleven consensus national championships, seven Heisman Trophy winners, 62 members in the College Football Hall of Fame and 13 members in the Pro Football Hall of Fame and is considered one of the most famed and successful college football teams in history. Other ND teams, chiefly in the Atlantic Coast Conference, have accumulated 16 national championships. The Notre Dame Victory March is often regarded as the most famous and recognizable collegiate fight song.Besides its prominence in sports, Notre Dame is also a large, four-year, highly residential research University, and is consistently ranked among the top twenty universities in the United States  and as a major global university. The undergraduate component of the university is organized into four colleges (Arts and Letters, Science, Engineering, Business) and the Architecture School. The latter is known for teaching New Classical Architecture and for awarding the globally renowned annual Driehaus Architecture Prize. Notre Dame\\'s graduate program has more than 50 master\\'s, doctoral and professional degree programs offered by the five schools, with the addition of the Notre Dame Law School and a MD-PhD program offered in combination with IU medical School. It maintains a system of libraries, cultural venues, artistic and scientific museums, including Hesburgh Library and the Snite Museum of Art. Over 80% of the university\\'s 8,000 undergraduates live on campus in one of 29 single-sex residence halls, each with its own traditions, legacies, events and intramural sports teams. The university counts approximately 120,000 alumni, considered among the strongest alumni networks among U.S. colleges.In 1842, the Bishop of Vincennes, Célestine Guynemer de la Hailandière, offered land to Father Edward Sorin of the Congregation of the Holy Cross, on the condition that he build a college in two years. Fr. Sorin arrived on the site with eight Holy Cross brothers from France and Ireland on November 26, 1842, and began the school using Father Stephen Badin\\'s old log chapel. He soon erected additional buildings, including Old College, the first church, and the first main building. They immediately acquired two students and set about building additions to the campus.The first degrees from the college were awarded in 1849. The university was expanded with new buildings to accommodate more students and faculty. With each new president, new academic programs were offered and new buildings built to accommodate them. The original Main Building built by Sorin just after he arrived was replaced by a larger \"Main Building\" in 1865, which housed the university\\'s administration, classrooms, and dormitories. Beginning in 1873, a library collection was started by Father Lemonnier. By 1879 it had grown to ten thousand volumes that were housed in the Main Building.The television station, NDtv, grew from one show in 2002 to a full 24-hour channel with original programming by September 2006. WSND-FM serves the student body and larger South Bend community at 88.9 FM, offering students a chance to become involved in bringing classical music, fine arts and educational programming, and alternative rock to the airwaves. Another radio station, WVFI, began as a partner of WSND-FM. More recently, however, WVFI has been airing independently and is streamed on the Internet.The first phase of Eddy Street Commons, a $215 million development located adjacent to the University of Notre Dame campus and funded by the university, broke ground on June 3, 2008. The Eddy Street Commons drew union protests when workers hired by the City of South Bend to construct the public parking garage picketed the private work site after a contractor hired non-union workers. The developer, Kite Realty out of Indianapolis, has made agreements with major national chains rather than local businesses, a move that has led to criticism from alumni and students.Notre Dame teams are known as the Fighting Irish. They compete as a member of the National Collegiate Athletic Association (NCAA) Division I, primarily competing in the Atlantic Coast Conference (ACC) for all sports since the 2013–14 school year. The Fighting Irish previously competed in the Horizon League from 1982-83 to 1985-86, and again from 1987-88 to 1994-95, and then in the Big East Conference through 2012–13. Men\\'s sports include baseball, basketball, crew, cross country, fencing, football, golf, ice hockey, lacrosse, soccer, swimming & diving, tennis and track & field; while women\\'s sports include basketball, cross country, fencing, golf, lacrosse, rowing, soccer, softball, swimming & diving, tennis, track & field and volleyball. The football team competes as an Football Bowl Subdivision (FBS) Independent since its inception in 1887. Both fencing teams compete in the Midwest Fencing Conference, and the men\\'s ice hockey team competes in Hockey East.Notre Dame\\'s conference affiliations for all of its sports except football and fencing changed in July 2013 as a result of major conference realignment, and its fencing affiliation will change in July 2014. The Irish left the Big East for the ACC during a prolonged period of instability in the Big East; while they maintain their football independence, they have committed to play five games per season against ACC opponents. In ice hockey, the Irish were forced to find a new conference home after the Big Ten Conference\\'s decision to add the sport in 2013–14 led to a cascade of conference moves that culminated in the dissolution of the school\\'s former hockey home, the Central Collegiate Hockey Association, after the 2012–13 season. Notre Dame moved its hockey team to Hockey East. After Notre Dame joined the ACC, the conference announced it would add fencing as a sponsored sport beginning in the 2014–15 school year. There are many theories behind the adoption of the athletics moniker but it is known that the Fighting Irish name was used in the early 1920s with respect to the football team and was popularized by alumnus Francis Wallace in his New York Daily News columns. The official colors of Notre Dame are Navy Blue and Gold Rush which are worn in competition by its athletic teams. In addition, the color green is often worn because of the Fighting Irish nickname. The Notre Dame Leprechaun is the mascot of the athletic teams. Created by Theodore W. Drake in 1964, the leprechaun was first used on the football pocket schedule and later on the football program covers. The leprechaun was featured on the cover of Time in November 1964 and gained national exposure.On July 1, 2014, the University of Notre Dame and Under Armour reached an agreement in which Under Armour will provide uniforms, apparel,equipment, and monetary compensation to Notre Dame for 10 years. This contract, worth almost $100 million, is the most lucrative in the history of the NCAA. The university marching band plays at home games for most of the sports. The band, which began in 1846 and has a claim as the oldest university band in continuous existence in the United States, was honored by the National Music Council as a \"Landmark of American Music\" during the United States Bicentennial. The band regularly plays the school\\'s fight song the Notre Dame Victory March, which was named as the most played and most famous fight song by Northern Illinois Professor William Studwell. According to College Fight Songs: An Annotated Anthology published in 1998, the \"Notre Dame Victory March\" ranks as the greatest fight song of all time.The Notre Dame football team has a long history, first beginning when the Michigan Wolverines football team brought football to Notre Dame in 1887 and played against a group of students. In the long history since then, 13 Fighting Irish teams have won consensus national championships (although the university only claims 11), along with another nine teams being named national champion by at least one source. Additionally, the program has the most members in the College Football Hall of Fame, is tied with Ohio State University with the most Heisman Trophies won, and have the highest winning percentage in NCAA history. With the long history, Notre Dame has accumulated many rivals, and its annual game against USC for the Jeweled Shillelagh has been named by some as one of the most important in college football and is often called the greatest intersectional rivalry in college football in the country.George Gipp was the school\\'s legendary football player during 1916–20. He played semiprofessional baseball and smoked, drank, and gambled when not playing sports. He was also humble, generous to the needy, and a man of integrity. It was in 1928 that famed coach Knute Rockne used his final conversation with the dying Gipp to inspire the Notre Dame team to beat the Army team and \"win one for the Gipper.\" The 1940 film, Knute Rockne, All American, starred Pat O\\'Brien as Knute Rockne and Ronald Reagan as Gipp. Today the team competes in Notre Dame Stadium, an 80,795-seat stadium on campus. The current head coach is Brian Kelly, hired from the University of Cincinnati on December 11, 2009. Kelly\\'s record in midway through his sixth season at Notre Dame is 52–21. In 2012, Kelly\\'s Fighting Irish squad went undefeated and played in the BCS National Championship Game. Kelly succeeded Charlie Weis, who was fired in November 2009 after five seasons. Although Weis led his team to two Bowl Championship Series bowl games, his overall record was 35–27, mediocre by Notre Dame standards, and the 2007 team had the most losses in school history. The football team generates enough revenue to operate independently while $22.1 million is retained from the team\\'s profits for academic use. Forbes named the team as the most valuable in college football, worth a total of $101 million in 2007.Football gameday traditions During home games, activities occur all around campus and different dorms decorate their halls with a traditional item (e.g. Zahm House\\'s two-story banner). Traditional activities begin at the stroke of midnight with the Drummers\\' Circle. This tradition involves the drum line of the Band of the Fighting Irish and ushers in the rest of the festivities that will continue the rest of the gameday Saturday. Later that day, the trumpet section will play the Notre Dame Victory March and the Notre Dame Alma Mater under the dome. The band entire will play a concert at the steps of Bond Hall, from where they will march into Notre Dame Stadium, leading fans and students alike across campus to the game.The men\\'s basketball team has over 1,600 wins, one of only 12 schools who have reached that mark, and have appeared in 28 NCAA tournaments. Former player Austin Carr holds the record for most points scored in a single game of the tournament with 61. Although the team has never won the NCAA Tournament, they were named by the Helms Athletic Foundation as national champions twice. The team has orchestrated a number of upsets of number one ranked teams, the most notable of which was ending UCLA\\'s record 88-game winning streak in 1974. The team has beaten an additional eight number-one teams, and those nine wins rank second, to UCLA\\'s 10, all-time in wins against the top team. The team plays in newly renovated Purcell Pavilion (within the Edmund P. Joyce Center), which reopened for the beginning of the 2009–2010 season. The team is coached by Mike Brey, who, as of the 2014–15 season, his fifteenth at Notre Dame, has achieved a 332-165 record. In 2009 they were invited to the NIT, where they advanced to the semifinals but were beaten by Penn State who went on and beat Baylor in the championship. The 2010–11 team concluded its regular season ranked number seven in the country, with a record of 25–5, Brey\\'s fifth straight 20-win season, and a second-place finish in the Big East. During the 2014-15 season, the team went 32-6 and won the ACC conference tournament, later advancing to the Elite 8, where the Fighting Irish lost on a missed buzzer-beater against then undefeated Kentucky. Led by NBA draft picks Jerian Grant and Pat Connaughton, the Fighting Irish beat the eventual national champion Duke Blue Devils twice during the season. The 32 wins were the most by the Fighting Irish team since 1908-09.The \"Notre Dame Victory March\" is the fight song for the University of Notre Dame. It was written by two brothers who were Notre Dame graduates. The Rev. Michael J. Shea, a 1904 graduate, wrote the music, and his brother, John F. Shea, who earned degrees in 1906 and 1908, wrote the original lyrics. The lyrics were revised in the 1920s; it first appeared under the copyright of the University of Notre Dame in 1928. The chorus is, \"Cheer cheer for old Notre Dame, wake up the echos cheering her name. Send a volley cheer on high, shake down the thunder from the sky! What though the odds be great or small, old Notre Dame will win over all. While her loyal sons are marching, onward to victory!\"In the film Knute Rockne, All American, Knute Rockne (played by Pat O\\'Brien) delivers the famous \"Win one for the Gipper\" speech, at which point the background music swells with the \"Notre Dame Victory March\". George Gipp was played by Ronald Reagan, whose nickname \"The Gipper\" was derived from this role. This scene was parodied in the movie Airplane! with the same background music, only this time honoring George Zipp, one of Ted Striker\\'s former comrades. The song also was prominent in the movie Rudy, with Sean Astin as Daniel \"Rudy\" Ruettiger, who harbored dreams of playing football at the University of Notre Dame despite significant obstacles.Notre Dame alumni work in various fields. Alumni working in political fields include state governors, members of the United States Congress, and former United States Secretary of State Condoleezza Rice. A notable alumnus of the College of Science is Medicine Nobel Prize winner Eric F. Wieschaus. A number of university heads are alumni, including Notre Dame\\'s current president, the Rev. John Jenkins. Additionally, many alumni are in the media, including talk show hosts Regis Philbin and Phil Donahue, and television and radio personalities such as Mike Golic and Hannah Storm. With the university having high profile sports teams itself, a number of alumni went on to become involved in athletics outside the university, including professional baseball, basketball, football, and ice hockey players, such as Joe Theismann, Joe Montana, Tim Brown, Ross Browner, Rocket Ismail, Ruth Riley, Jeff Samardzija, Jerome Bettis, Brett Lebda, Olympic gold medalist Mariel Zagunis, professional boxer Mike Lee, former football coaches such as Charlie Weis, Frank Leahy and Knute Rockne, and Basketball Hall of Famers Austin Carr and Adrian Dantley. Other notable alumni include prominent businessman Edward J. DeBartolo, Jr. and astronaut Jim Wetherbee.'"
      ]
     },
     "execution_count": 124,
     "metadata": {},
     "output_type": "execute_result"
    }
   ],
   "source": [
    "data1"
   ]
  },
  {
   "cell_type": "code",
   "execution_count": 125,
   "metadata": {},
   "outputs": [],
   "source": [
    "words=[]\n",
    "for i in sent_tokenize(data1): \n",
    "    temp = [] \n",
    "      \n",
    "    # tokenize the sentence into words \n",
    "    for j in word_tokenize(i): \n",
    "        temp.append(j.lower()) \n",
    "  \n",
    "    words.append(temp) "
   ]
  },
  {
   "cell_type": "code",
   "execution_count": 129,
   "metadata": {},
   "outputs": [],
   "source": [
    "model2 = gensim.models.Word2Vec(words, min_count = 1, size = 100, \n",
    "                                             window = 5, sg = 1) "
   ]
  },
  {
   "cell_type": "code",
   "execution_count": 130,
   "metadata": {},
   "outputs": [
    {
     "name": "stderr",
     "output_type": "stream",
     "text": [
      "c:\\users\\piyush\\appdata\\local\\programs\\python\\python36\\lib\\site-packages\\ipykernel_launcher.py:1: DeprecationWarning: Call to deprecated `__getitem__` (Method will be removed in 4.0.0, use self.wv.__getitem__() instead).\n",
      "  \"\"\"Entry point for launching an IPython kernel.\n"
     ]
    },
    {
     "data": {
      "text/plain": [
       "array([-0.0533701 ,  0.00033734,  0.02421329,  0.00263507, -0.01047339,\n",
       "       -0.02699982, -0.04872638,  0.05118852,  0.00717441, -0.01967112,\n",
       "        0.03658641,  0.00045961,  0.05062052,  0.00026975,  0.00749887,\n",
       "       -0.00138984, -0.00994671, -0.01495666,  0.00056845,  0.01304671,\n",
       "       -0.00678451, -0.02589502, -0.0052434 , -0.01885398, -0.02164949,\n",
       "        0.00701763,  0.00238271, -0.00679582,  0.01671148,  0.01551514,\n",
       "        0.00992278, -0.01276983,  0.02777636, -0.00203199, -0.01223327,\n",
       "       -0.04027972,  0.0117553 ,  0.00269665, -0.0037703 ,  0.01722421,\n",
       "        0.01554134,  0.02249487, -0.00470905,  0.01984833, -0.01123885,\n",
       "        0.02736619, -0.00927548, -0.01751374,  0.02580341,  0.02534373,\n",
       "       -0.01395291, -0.02965063, -0.02152015,  0.07148539, -0.03709239,\n",
       "       -0.00573704, -0.01773721,  0.04078285, -0.00324061, -0.01673674,\n",
       "        0.04771166,  0.00331438, -0.0275384 ,  0.02640426, -0.01493054,\n",
       "       -0.03426801,  0.02840426, -0.00753944, -0.03821417,  0.03517378,\n",
       "       -0.01516831,  0.01427414,  0.03225706,  0.02188797,  0.02375416,\n",
       "        0.00233347, -0.02419086,  0.00104326, -0.00446736,  0.0120511 ,\n",
       "       -0.00829371,  0.03623595,  0.00255237, -0.03900915,  0.00535195,\n",
       "       -0.01058058,  0.01399147,  0.0431194 ,  0.00138465, -0.04473214,\n",
       "        0.01098152, -0.02730336, -0.03833887,  0.01469409, -0.03653468,\n",
       "       -0.03994549, -0.01588156,  0.0229655 ,  0.01046859,  0.03108799],\n",
       "      dtype=float32)"
      ]
     },
     "execution_count": 130,
     "metadata": {},
     "output_type": "execute_result"
    }
   ],
   "source": [
    "model2['']"
   ]
  },
  {
   "cell_type": "code",
   "execution_count": 100,
   "metadata": {},
   "outputs": [
    {
     "data": {
      "text/plain": [
       "['The College of Engineering',\n",
       " '1920',\n",
       " 'the College of Science',\n",
       " 'the 1870s',\n",
       " 'Today',\n",
       " 'Fitzpatrick',\n",
       " 'Cushing',\n",
       " 'Stinson-Remick Halls of Engineering',\n",
       " 'five',\n",
       " 'eight',\n",
       " 'B.S.',\n",
       " 'five-year',\n",
       " 'the Colleges of Arts and Letters',\n",
       " 'B.A.',\n",
       " 'Master of Business Administration']"
      ]
     },
     "execution_count": 100,
     "metadata": {},
     "output_type": "execute_result"
    }
   ],
   "source": [
    "(df.entity.iloc[3])"
   ]
  },
  {
   "cell_type": "code",
   "execution_count": 92,
   "metadata": {},
   "outputs": [
    {
     "name": "stderr",
     "output_type": "stream",
     "text": [
      "c:\\users\\piyush\\appdata\\local\\programs\\python\\python36\\lib\\site-packages\\ipykernel_launcher.py:1: DeprecationWarning: Call to deprecated `__getitem__` (Method will be removed in 4.0.0, use self.wv.__getitem__() instead).\n",
      "  \"\"\"Entry point for launching an IPython kernel.\n"
     ]
    },
    {
     "data": {
      "text/plain": [
       "array([-3.0901870e-03, -2.3355850e-03, -4.3253905e-05, -3.5855002e-03,\n",
       "       -5.4886530e-04, -3.5066174e-03,  2.0200466e-03, -3.0296487e-03,\n",
       "        9.7118114e-04,  3.7346652e-03,  9.7281643e-04, -1.9193969e-03,\n",
       "        3.6780955e-03, -3.6789412e-03,  7.2710158e-04, -4.0820665e-03,\n",
       "       -2.6177575e-03, -2.5335655e-03, -3.3546924e-03,  8.2747766e-04,\n",
       "       -4.7307247e-03,  1.0896868e-03, -3.9752200e-03, -7.1527250e-04,\n",
       "       -5.1853666e-04, -7.8617100e-04,  3.2961858e-03, -9.6475839e-04,\n",
       "       -3.2692577e-03, -3.3594258e-04, -3.4902294e-03, -4.8912694e-03,\n",
       "        2.8392321e-03, -4.1757626e-03, -3.9790496e-03,  1.3288757e-03,\n",
       "       -2.8106237e-03, -2.3364339e-03,  1.3333923e-03, -1.6183957e-03,\n",
       "        2.8544713e-03,  3.2612461e-05,  8.1835641e-04, -1.4847313e-03,\n",
       "        4.7777055e-05, -8.8806689e-04, -1.3787921e-03, -4.5312466e-03,\n",
       "        5.0082714e-03,  4.6419548e-03, -3.3510744e-03, -4.1891295e-03,\n",
       "       -2.6340398e-03, -1.3274219e-03, -3.9997585e-03,  2.0174163e-04,\n",
       "        2.1968582e-03,  2.6558542e-03,  4.2590047e-03, -3.8601216e-03,\n",
       "        7.4003951e-04,  3.3847354e-03,  1.0831638e-03,  4.9155275e-03,\n",
       "       -8.3886040e-04, -2.4253186e-03, -3.6668847e-03, -2.9342480e-03,\n",
       "        2.4296790e-03,  3.6295974e-03,  3.3662766e-03, -1.2479479e-03,\n",
       "       -1.6130062e-03,  4.4406699e-03,  3.7237629e-03, -4.7498131e-03,\n",
       "       -5.0110919e-03,  3.9305198e-03,  9.1995049e-04,  3.2647313e-03,\n",
       "       -4.4135312e-03,  3.8129720e-03,  4.2179516e-03, -1.2513201e-03,\n",
       "        1.2618738e-03, -3.5181341e-03,  4.9377605e-03,  2.3509678e-03,\n",
       "       -1.4314494e-03,  3.3739919e-03, -3.2168457e-03, -3.5884965e-03,\n",
       "       -3.2325392e-03, -1.2120609e-03, -3.9396663e-03, -7.2432670e-04,\n",
       "        1.1124327e-03,  3.7471049e-03,  3.3791736e-03,  4.3319436e-03],\n",
       "      dtype=float32)"
      ]
     },
     "execution_count": 92,
     "metadata": {},
     "output_type": "execute_result"
    }
   ],
   "source": []
  },
  {
   "cell_type": "code",
   "execution_count": 131,
   "metadata": {},
   "outputs": [],
   "source": [
    "j=df.entity.iloc[0]"
   ]
  },
  {
   "cell_type": "code",
   "execution_count": 157,
   "metadata": {},
   "outputs": [
    {
     "name": "stderr",
     "output_type": "stream",
     "text": [
      "c:\\users\\piyush\\appdata\\local\\programs\\python\\python36\\lib\\site-packages\\ipykernel_launcher.py:5: DeprecationWarning: Call to deprecated `__getitem__` (Method will be removed in 4.0.0, use self.wv.__getitem__() instead).\n",
      "  \"\"\"\n"
     ]
    },
    {
     "data": {
      "text/plain": [
       "array([[-2.35039930e-01,  1.08795973e-02,  9.93239693e-02,\n",
       "         1.91532127e-02, -5.83847854e-02, -1.26433288e-01,\n",
       "        -2.07156176e-01,  2.31735026e-01,  1.20736073e-02,\n",
       "        -9.43163894e-02,  1.50110039e-01, -1.43193918e-02,\n",
       "         2.34584898e-01, -1.37612926e-02,  1.06017116e-02,\n",
       "        -1.28325149e-02, -4.12071086e-02, -6.19199363e-02,\n",
       "         6.62035697e-05,  7.34517872e-02, -2.28518409e-02,\n",
       "        -1.11887056e-01, -4.30372413e-02, -1.05622046e-01,\n",
       "        -9.81853480e-02,  2.57389505e-02, -6.39055429e-03,\n",
       "        -5.03055279e-02,  5.59662171e-02,  7.32175410e-02,\n",
       "         3.78748396e-02, -4.36758020e-02,  1.13576495e-01,\n",
       "         6.77237768e-03, -3.74787282e-02, -1.87227771e-01,\n",
       "         6.33183395e-02,  1.00731899e-02, -2.98893843e-02,\n",
       "         6.13143370e-02,  5.33355003e-02,  1.06461421e-01,\n",
       "        -5.00055639e-03,  6.88868314e-02, -5.56965489e-02,\n",
       "         1.23418865e-01, -2.17481417e-02, -5.39779899e-02,\n",
       "         9.53146356e-02,  1.16004333e-01, -5.22812220e-02,\n",
       "        -1.27155165e-01, -8.60502819e-02,  2.93615416e-01,\n",
       "        -1.50712031e-01, -3.65870999e-02, -7.76203983e-02,\n",
       "         1.64090596e-01, -2.42063170e-02, -6.45609585e-02,\n",
       "         1.94674281e-01, -5.85626873e-03, -1.06017604e-01,\n",
       "         9.87079305e-02, -4.75976703e-02, -1.32015333e-01,\n",
       "         1.30226644e-01, -2.64175069e-02, -1.68294974e-01,\n",
       "         1.29006883e-01, -8.09739816e-02,  5.66115038e-02,\n",
       "         1.23372617e-01,  8.74702521e-02,  1.01629327e-01,\n",
       "        -5.85460383e-03, -8.25526863e-02, -1.47839878e-03,\n",
       "        -2.79358861e-02,  4.12189104e-02, -3.22091573e-02,\n",
       "         1.73238255e-01, -1.22347620e-03, -1.49308262e-01,\n",
       "         3.28447971e-02, -5.41733863e-02,  3.83567301e-02,\n",
       "         1.86147461e-01,  1.87698789e-02, -1.72154697e-01,\n",
       "         5.79083165e-02, -1.32576908e-01, -1.57078760e-01,\n",
       "         7.88954943e-02, -1.37063553e-01, -1.51812156e-01,\n",
       "        -8.66811946e-02,  1.05980755e-01,  5.46883829e-02,\n",
       "         1.17352029e-01]])"
      ]
     },
     "execution_count": 157,
     "metadata": {},
     "output_type": "execute_result"
    }
   ],
   "source": [
    "j='the Virgin Mary'\n",
    "j=j.split()\n",
    "vec=np.zeros(shape=[1,100])\n",
    "for w in j:\n",
    "    vec+=model2[w.lower()]\n",
    "#np.mean(vec)\n",
    "vec=vec/3\n",
    "vec"
   ]
  },
  {
   "cell_type": "code",
   "execution_count": 152,
   "metadata": {},
   "outputs": [
    {
     "name": "stderr",
     "output_type": "stream",
     "text": [
      "c:\\users\\piyush\\appdata\\local\\programs\\python\\python36\\lib\\site-packages\\ipykernel_launcher.py:1: DeprecationWarning: Call to deprecated `__getitem__` (Method will be removed in 4.0.0, use self.wv.__getitem__() instead).\n",
      "  \"\"\"Entry point for launching an IPython kernel.\n"
     ]
    },
    {
     "data": {
      "text/plain": [
       "array([-3.52454334e-01,  2.11960785e-02,  1.49806961e-01,  3.40867117e-02,\n",
       "       -8.58073384e-02, -1.88502520e-01, -3.07814866e-01,  3.46498877e-01,\n",
       "        1.92899331e-02, -1.42265886e-01,  2.22737327e-01, -2.15358417e-02,\n",
       "        3.51820707e-01, -2.29054596e-02,  1.94867719e-02, -2.20085233e-02,\n",
       "       -6.01947717e-02, -9.45451409e-02, -2.13658228e-03,  1.08330496e-01,\n",
       "       -2.77302898e-02, -1.71210349e-01, -5.97378947e-02, -1.55762255e-01,\n",
       "       -1.46720886e-01,  3.83655354e-02, -9.11441725e-03, -7.33447596e-02,\n",
       "        8.16803128e-02,  1.11051522e-01,  5.97805642e-02, -6.93569034e-02,\n",
       "        1.71967193e-01,  6.53998461e-03, -5.71281984e-02, -2.85068244e-01,\n",
       "        9.38991904e-02,  1.49022471e-02, -3.90144289e-02,  9.24166515e-02,\n",
       "        8.10884163e-02,  1.62756994e-01, -9.48273111e-03,  1.06120087e-01,\n",
       "       -8.58514085e-02,  1.84757993e-01, -2.76377648e-02, -7.76053667e-02,\n",
       "        1.45818040e-01,  1.72256812e-01, -7.87513554e-02, -1.87240228e-01,\n",
       "       -1.27942026e-01,  4.44460899e-01, -2.26997048e-01, -5.03127500e-02,\n",
       "       -1.23035304e-01,  2.50675470e-01, -3.52695696e-02, -9.65443999e-02,\n",
       "        2.88962781e-01, -6.82619074e-03, -1.60427973e-01,  1.52399883e-01,\n",
       "       -7.56478235e-02, -1.97469771e-01,  1.91990077e-01, -3.56110558e-02,\n",
       "       -2.49553084e-01,  1.94396764e-01, -1.20647095e-01,  8.74240622e-02,\n",
       "        1.79934517e-01,  1.32557064e-01,  1.54202595e-01, -6.61144685e-03,\n",
       "       -1.23695143e-01,  3.09693976e-04, -4.15099785e-02,  6.18329421e-02,\n",
       "       -4.98936549e-02,  2.61054844e-01, -1.68145949e-03, -2.25577101e-01,\n",
       "        5.11027202e-02, -7.90889859e-02,  5.49497493e-02,  2.78952479e-01,\n",
       "        2.62391586e-02, -2.57206649e-01,  8.54090005e-02, -1.93243474e-01,\n",
       "       -2.36284032e-01,  1.20491974e-01, -2.08571345e-01, -2.29982331e-01,\n",
       "       -1.33020356e-01,  1.62483126e-01,  8.05432647e-02,  1.77911818e-01],\n",
       "      dtype=float32)"
      ]
     },
     "execution_count": 152,
     "metadata": {},
     "output_type": "execute_result"
    }
   ],
   "source": [
    "model2['the']"
   ]
  },
  {
   "cell_type": "code",
   "execution_count": 153,
   "metadata": {},
   "outputs": [
    {
     "data": {
      "text/plain": [
       "-0.705119784"
      ]
     },
     "execution_count": 153,
     "metadata": {},
     "output_type": "execute_result"
    }
   ],
   "source": [
    "-0.22483113-0.12783432-3.52454334e-01"
   ]
  },
  {
   "cell_type": "code",
   "execution_count": 136,
   "metadata": {},
   "outputs": [
    {
     "data": {
      "text/plain": [
       "'Saint Bernadette Soubirous'"
      ]
     },
     "execution_count": 136,
     "metadata": {},
     "output_type": "execute_result"
    }
   ],
   "source": [
    "j[-4].replace(\"'s\",\"\")"
   ]
  },
  {
   "cell_type": "code",
   "execution_count": 39,
   "metadata": {},
   "outputs": [],
   "source": [
    "import tensorflow as tf"
   ]
  },
  {
   "cell_type": "code",
   "execution_count": 40,
   "metadata": {},
   "outputs": [],
   "source": [
    "learning_rate = 0.5\n",
    "epochs = 10\n",
    "batch_size = 100\n",
    "\n",
    "# declare the training data placeholders\n",
    "# input x - for 28 x 28 pixels = 784\n",
    "x = tf.placeholder(tf.float32, [None,100])\n",
    "# now declare the output data placeholder - 10 digits\n",
    "y = tf.placeholder(tf.float32, [None,2])"
   ]
  },
  {
   "cell_type": "code",
   "execution_count": 41,
   "metadata": {},
   "outputs": [],
   "source": [
    "W1 = tf.Variable(tf.random_normal([100,50], stddev=0.03), name='W1')\n",
    "b1 = tf.Variable(tf.random_normal([50]), name='b1')\n",
    "# and the weights connecting the hidden layer to the output layer\n",
    "W2 = tf.Variable(tf.random_normal([50, 2], stddev=0.03), name='W2')\n",
    "b2 = tf.Variable(tf.random_normal([2]), name='b2')"
   ]
  },
  {
   "cell_type": "code",
   "execution_count": 42,
   "metadata": {},
   "outputs": [],
   "source": [
    "hidden_out = tf.add(tf.matmul(x, W1), b1)\n",
    "hidden_out = tf.nn.relu(hidden_out)"
   ]
  },
  {
   "cell_type": "code",
   "execution_count": 43,
   "metadata": {},
   "outputs": [],
   "source": [
    "y_ = tf.nn.softmax(tf.add(tf.matmul(hidden_out, W2), b2))"
   ]
  },
  {
   "cell_type": "code",
   "execution_count": 44,
   "metadata": {},
   "outputs": [],
   "source": [
    "y_clipped = tf.clip_by_value(y_, 1e-10, 0.9999999)\n",
    "cross_entropy = -tf.reduce_mean(tf.reduce_sum(y * tf.log(y_clipped)\n",
    "                         + (1 - y) * tf.log(1 - y_clipped), axis=1))"
   ]
  },
  {
   "cell_type": "code",
   "execution_count": 45,
   "metadata": {},
   "outputs": [],
   "source": [
    "optimiser = tf.train.GradientDescentOptimizer(learning_rate=learning_rate).minimize(cross_entropy)\n"
   ]
  },
  {
   "cell_type": "code",
   "execution_count": 46,
   "metadata": {},
   "outputs": [],
   "source": [
    "init_op = tf.global_variables_initializer()\n",
    "\n",
    "# define an accuracy assessment operation\n",
    "correct_prediction = tf.equal(tf.argmax(y, 1), tf.argmax(y_, 1))\n",
    "accuracy = tf.reduce_mean(tf.cast(correct_prediction, tf.float32))"
   ]
  },
  {
   "cell_type": "code",
   "execution_count": null,
   "metadata": {},
   "outputs": [],
   "source": [
    "with tf.Session() as sess:\n",
    "    \n",
    "   # initialise the variables\n",
    "    sess.run(init_op)\n",
    "    total_batch = int(len(mnist.train.labels) / batch_size)\n",
    "    for epoch in range(epochs):\n",
    "        avg_cost = 0\n",
    "        for i in range(total_batch):\n",
    "            batch_x, batch_y = mnist.train.next_batch(batch_size=batch_size)\n",
    "             _, c = sess.run([optimiser, cross_entropy], \n",
    "                         feed_dict={x: batch_x, y: batch_y})\n",
    "            avg_cost += c / total_batch\n",
    "        print(\"Epoch:\", (epoch + 1), \"cost =\", \"{:.3f}\".format(avg_cost))\n",
    "    print(sess.run(accuracy, feed_dict={x: mnist.test.images, y: mnist.test.labels}))"
   ]
  }
 ],
 "metadata": {
  "kernelspec": {
   "display_name": "Python 3",
   "language": "python",
   "name": "python3"
  },
  "language_info": {
   "codemirror_mode": {
    "name": "ipython",
    "version": 3
   },
   "file_extension": ".py",
   "mimetype": "text/x-python",
   "name": "python",
   "nbconvert_exporter": "python",
   "pygments_lexer": "ipython3",
   "version": "3.6.6"
  }
 },
 "nbformat": 4,
 "nbformat_minor": 2
}
